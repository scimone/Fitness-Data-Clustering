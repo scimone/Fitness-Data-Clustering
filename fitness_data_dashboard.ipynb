{
 "cells": [
  {
   "cell_type": "markdown",
   "metadata": {},
   "source": [
    "# Fitness Data Clustering Dashboard"
   ]
  },
  {
   "cell_type": "markdown",
   "metadata": {},
   "source": [
    "## 0. Importing of Libraries needed for this project"
   ]
  },
  {
   "cell_type": "code",
   "execution_count": 15,
   "metadata": {
    "pycharm": {
     "is_executing": true
    },
    "scrolled": true
   },
   "outputs": [
    {
     "name": "stdout",
     "output_type": "stream",
     "text": [
      "4.1.0\n"
     ]
    }
   ],
   "source": [
    "#disable some annoying warnings\n",
    "import warnings\n",
    "warnings.filterwarnings('ignore', category=FutureWarning)\n",
    "\n",
    "#plots the figures in place instead of a new window\n",
    "%matplotlib inline\n",
    "import pandas as pd\n",
    "import numpy as np\n",
    "import altair as alt\n",
    "import ipywidgets as widgets\n",
    "import seaborn as sns\n",
    "from sklearn.impute import SimpleImputer\n",
    "from sklearn import manifold\n",
    "from sklearn import decomposition\n",
    "import matplotlib.pyplot as plt\n",
    "from matplotlib.lines import Line2D\n",
    "from sklearn.cluster import KMeans, AffinityPropagation, MeanShift, SpectralClustering, AgglomerativeClustering, DBSCAN, OPTICS, Birch\n",
    "from IPython.display import display, Image, Markdown\n",
    "from scipy import stats\n",
    "from datetime import datetime as dt\n",
    "import numpy as np\n",
    "\n",
    "print(alt.__version__)\n",
    "\n",
    "import umap"
   ]
  },
  {
   "cell_type": "code",
   "execution_count": 16,
   "metadata": {
    "pycharm": {
     "is_executing": true
    },
    "scrolled": true
   },
   "outputs": [],
   "source": [
    "# Helper functions\n",
    "\n",
    "\n",
    "# Plotting:\n",
    "\n",
    "def specify_palette_plt(categories):    \n",
    "    palette = sns.color_palette(n_colors=len(categories))\n",
    "    return palette\n",
    "\n",
    "def specify_palette_altair(categories):\n",
    "    colors = sns.color_palette(n_colors=len(categories)).as_hex()\n",
    "    palette = alt.Scale(domain=categories, range=colors)\n",
    "    return palette\n",
    "\n",
    "def create_legend(axis, palette):\n",
    "    custom_lines = [Line2D([0], [0], color=palette[i], marker='o', markersize=10, ls='') for i in range(len(activities))]    \n",
    "    axis.legend(custom_lines, activities)\n",
    "    \n",
    "\n",
    "# Printing markdown:\n",
    "\n",
    "def printmd(string):\n",
    "    display(Markdown(string))"
   ]
  },
  {
   "cell_type": "markdown",
   "metadata": {},
   "source": [
    "## 1. Data Loading and Preprocessing"
   ]
  },
  {
   "cell_type": "code",
   "execution_count": 17,
   "metadata": {
    "pycharm": {
     "is_executing": true
    },
    "scrolled": true
   },
   "outputs": [],
   "source": [
    "class Dataset():\n",
    "    \n",
    "    def __init__(self, path, unnecessary_columns):       \n",
    "        self.raw_df = pd.read_csv(path)\n",
    "        self.cleaned_df = self._get_cleaned_df(unnecessary_columns) # this df can be used for task 2 & 3\n",
    "        self.target, self.activities = self._encode_target()\n",
    "        self.downprojection_df = self._get_downprojection_df() # this df is for task 4\n",
    "    \n",
    "    def _encode_target(self):       \n",
    "        activities = self.cleaned_df['Activity Type'].unique()\n",
    "        str2idx = dict((c, i) for i, c in enumerate(activities))\n",
    "        target = [str2idx[i] for i in self.cleaned_df['Activity Type']]\n",
    "        self.cleaned_df['Target'] = target\n",
    "        return target, activities\n",
    "    \n",
    "    def decoder(self, encoded):\n",
    "        idx2str = dict((i, c) for i, c in enumerate(self.activities))\n",
    "        decoded = [idx2str[i] for i in encoded]\n",
    "        return decoded\n",
    "    \n",
    "    def _get_cleaned_df(self, unnecessary_columns):\n",
    "        data = self.raw_df.drop(unnecessary_columns, axis=1)\n",
    "        time_columns = ['Time', 'Avg Pace', 'Best Pace', 'Best Lap Time', 'Climb Time']\n",
    "        data = self.__convert_time_columns(data, time_columns)\n",
    "        data = data.replace('--', np.nan)\n",
    "        data = self.__str2float(data)\n",
    "        \n",
    "        # Shorten strings in 'Activity Type'\n",
    "        original_strings = ['Strength Training', 'Open Water Swimming', 'Pool Swimming', 'Gym & Fitness Equipment']\n",
    "        replacement_strings = ['Strength', 'Swimming', 'Swimming', 'Gym']\n",
    "        data = self.__shorten_target_strings(data, original_strings, replacement_strings)        \n",
    "        return data\n",
    "    \n",
    "    def __str2float(self, data):\n",
    "        '''\n",
    "        Converts strings to float\n",
    "        '''\n",
    "        data['Calories'] = data['Calories'].str.replace(\",\", \"\")\n",
    "        data['Distance'] = data['Distance'].str.replace(\",\", \"\")\n",
    "        float_columns = data.columns.drop(['Activity Type', 'Date'])\n",
    "        data[float_columns] = data[float_columns].astype(float)\n",
    "        return data\n",
    "    \n",
    "    def __convert_time_columns(self, data, time_columns):\n",
    " \n",
    "        for column in time_columns:           \n",
    "            data[column] = self.__get_converted_entries(data[column])\n",
    "        return data\n",
    "   \n",
    "\n",
    "    def __get_converted_entries(self, entries):       \n",
    "        '''\n",
    "        The time columns either consist of '--' values, min/km strings in different time formats or km/h strings.\n",
    "        This function converts all time strings into min/km floats.\n",
    "        '''\n",
    "        # define time format lambdas\n",
    "        f1 = lambda a : dt.strptime(a, '%H:%M:%S')\n",
    "        f2 = lambda a : dt.strptime(a, '%M:%S.%f')\n",
    "        f3 = lambda a : dt.strptime(a, '%M:%S')\n",
    "        f4 = lambda a : dt.strptime(a, '%H:%M:%S.%f')\n",
    "\n",
    "        converted_entries = []\n",
    "\n",
    "        for i in entries:\n",
    "            if (i=='--'): # nan values\n",
    "                converted_entries.append(i)\n",
    "            elif (len(i)>9) & ('.' in i): # min/km, time format 4\n",
    "                converted_entries.append(f4(i).hour*60 + f4(i).minute + f4(i).second/60)\n",
    "            elif (len(i)>5) & ('.' in i): # min/km, time format 2\n",
    "                converted_entries.append(f2(i).minute + f2(i).second/60)\n",
    "            elif (len(i)>6): # min/km, time format 1\n",
    "                converted_entries.append(f1(i).hour*60 + f1(i).minute + f1(i).second/60)\n",
    "            elif ('.' not in i): # min/km, time format 3\n",
    "                converted_entries.append(f3(i).minute + f3(i).second/60)\n",
    "            else: # km/h, conversion to min/km\n",
    "                converted_entries.append(float(i)/60)\n",
    "\n",
    "        return converted_entries\n",
    "    \n",
    "    def __shorten_target_strings(self, data, original_strings, replacement_strings):      \n",
    "        for original, replacement in zip(original_strings, replacement_strings):\n",
    "            data['Activity Type'] = data['Activity Type'].str.replace(original, replacement)\n",
    "        return data\n",
    "\n",
    "    def _get_downprojection_df(self):        \n",
    "        downprojection_data = self.cleaned_df.drop(['Activity Type', 'Date', 'Target'], axis=1)\n",
    "        downprojection_data = downprojection_data.astype(float)\n",
    "        \n",
    "        downprojection_data = self.__fillna(downprojection_data)\n",
    "        downprojection_data = self.__normalize(downprojection_data)\n",
    "        \n",
    "        return downprojection_data\n",
    "            \n",
    "    def __fillna(self, data, strategy='constant'):\n",
    "        '''\n",
    "        Fills missing values\n",
    "        '''\n",
    "        imputer = SimpleImputer(missing_values=np.nan, strategy=strategy)\n",
    "        data = imputer.fit_transform(data)\n",
    "        return data\n",
    "\n",
    "    def __normalize(self, data):\n",
    "        for column in range(data.shape[1]):\n",
    "            s = data[:,column]   \n",
    "            data[:,column] = (s-s.mean())/s.std()\n",
    "        return data"
   ]
  },
  {
   "cell_type": "markdown",
   "metadata": {},
   "source": [
    "The dataset is initially cleaned through the removal of unnecessary columns containing nan, zero, or string entries. Missing values, represented as '—' strings, are substituted with np.nan. The time column strings are converted to float values using get_converted_entries() due to differing time formats. The Calories and Distance string columns are transformed into floats. Activity Type names are shortened and summarized, such as 'Open Water Swimming' and 'Pool Swimming' becoming 'swimming'. The resultant \"cleaned dataset\" serves for statistics and correlation graphs.\n",
    "Further preparation is required for downprojection and clustering, undertaken in the get_downprojection_df() method. Target columns and the date column are eliminated prior to applying machine learning.\n",
    "\n",
    "As downprojection algorithms can't process np.nan, they are replaced with 0.\n",
    "Dropping them would have been no option because whole activity type classes would be neglected, and replacing them by the mean or median would skew the dataset because it does not make sense to assign a distance to a yoga activity for instance.\n",
    "Ultimately, the downprojection data is normalized through standard scaling."
   ]
  },
  {
   "cell_type": "code",
   "execution_count": 18,
   "metadata": {
    "pycharm": {
     "is_executing": true
    },
    "scrolled": true
   },
   "outputs": [
    {
     "data": {
      "text/html": [
       "<div>\n",
       "<style scoped>\n",
       "    .dataframe tbody tr th:only-of-type {\n",
       "        vertical-align: middle;\n",
       "    }\n",
       "\n",
       "    .dataframe tbody tr th {\n",
       "        vertical-align: top;\n",
       "    }\n",
       "\n",
       "    .dataframe thead th {\n",
       "        text-align: right;\n",
       "    }\n",
       "</style>\n",
       "<table border=\"1\" class=\"dataframe\">\n",
       "  <thead>\n",
       "    <tr style=\"text-align: right;\">\n",
       "      <th></th>\n",
       "      <th>Activity Type</th>\n",
       "      <th>Date</th>\n",
       "      <th>Distance</th>\n",
       "      <th>Calories</th>\n",
       "      <th>Time</th>\n",
       "      <th>Avg HR</th>\n",
       "      <th>Max HR</th>\n",
       "      <th>Avg Run Cadence</th>\n",
       "      <th>Max Run Cadence</th>\n",
       "      <th>Avg Pace</th>\n",
       "      <th>Best Pace</th>\n",
       "      <th>Elev Gain</th>\n",
       "      <th>Elev Loss</th>\n",
       "      <th>Avg Stride Length</th>\n",
       "      <th>Climb Time</th>\n",
       "      <th>Best Lap Time</th>\n",
       "      <th>Number of Laps</th>\n",
       "      <th>Target</th>\n",
       "    </tr>\n",
       "  </thead>\n",
       "  <tbody>\n",
       "    <tr>\n",
       "      <th>0</th>\n",
       "      <td>Walking</td>\n",
       "      <td>2020-12-04 10:31:47</td>\n",
       "      <td>3.70</td>\n",
       "      <td>276.0</td>\n",
       "      <td>55.700000</td>\n",
       "      <td>132.0</td>\n",
       "      <td>177.0</td>\n",
       "      <td>100.0</td>\n",
       "      <td>158.0</td>\n",
       "      <td>15.066667</td>\n",
       "      <td>3.066667</td>\n",
       "      <td>83.0</td>\n",
       "      <td>104.0</td>\n",
       "      <td>0.67</td>\n",
       "      <td>55.700000</td>\n",
       "      <td>10.533333</td>\n",
       "      <td>4.0</td>\n",
       "      <td>0</td>\n",
       "    </tr>\n",
       "    <tr>\n",
       "      <th>1</th>\n",
       "      <td>Breathwork</td>\n",
       "      <td>2020-12-01 11:10:04</td>\n",
       "      <td>0.00</td>\n",
       "      <td>NaN</td>\n",
       "      <td>9.366667</td>\n",
       "      <td>76.0</td>\n",
       "      <td>92.0</td>\n",
       "      <td>NaN</td>\n",
       "      <td>NaN</td>\n",
       "      <td>NaN</td>\n",
       "      <td>NaN</td>\n",
       "      <td>NaN</td>\n",
       "      <td>NaN</td>\n",
       "      <td>0.00</td>\n",
       "      <td>9.366667</td>\n",
       "      <td>0.000000</td>\n",
       "      <td>160.0</td>\n",
       "      <td>1</td>\n",
       "    </tr>\n",
       "    <tr>\n",
       "      <th>2</th>\n",
       "      <td>Breathwork</td>\n",
       "      <td>2020-11-30 21:02:16</td>\n",
       "      <td>0.00</td>\n",
       "      <td>NaN</td>\n",
       "      <td>5.483333</td>\n",
       "      <td>98.0</td>\n",
       "      <td>106.0</td>\n",
       "      <td>NaN</td>\n",
       "      <td>NaN</td>\n",
       "      <td>NaN</td>\n",
       "      <td>NaN</td>\n",
       "      <td>NaN</td>\n",
       "      <td>NaN</td>\n",
       "      <td>0.00</td>\n",
       "      <td>5.483333</td>\n",
       "      <td>0.033333</td>\n",
       "      <td>101.0</td>\n",
       "      <td>1</td>\n",
       "    </tr>\n",
       "    <tr>\n",
       "      <th>3</th>\n",
       "      <td>Cardio</td>\n",
       "      <td>2020-11-30 20:09:43</td>\n",
       "      <td>0.00</td>\n",
       "      <td>300.0</td>\n",
       "      <td>51.716667</td>\n",
       "      <td>136.0</td>\n",
       "      <td>173.0</td>\n",
       "      <td>NaN</td>\n",
       "      <td>NaN</td>\n",
       "      <td>NaN</td>\n",
       "      <td>NaN</td>\n",
       "      <td>NaN</td>\n",
       "      <td>NaN</td>\n",
       "      <td>0.00</td>\n",
       "      <td>51.716667</td>\n",
       "      <td>51.700000</td>\n",
       "      <td>1.0</td>\n",
       "      <td>2</td>\n",
       "    </tr>\n",
       "    <tr>\n",
       "      <th>4</th>\n",
       "      <td>Walking</td>\n",
       "      <td>2020-11-30 15:37:49</td>\n",
       "      <td>3.21</td>\n",
       "      <td>158.0</td>\n",
       "      <td>48.516667</td>\n",
       "      <td>96.0</td>\n",
       "      <td>113.0</td>\n",
       "      <td>103.0</td>\n",
       "      <td>158.0</td>\n",
       "      <td>15.133333</td>\n",
       "      <td>7.833333</td>\n",
       "      <td>93.0</td>\n",
       "      <td>62.0</td>\n",
       "      <td>0.64</td>\n",
       "      <td>48.516667</td>\n",
       "      <td>3.133333</td>\n",
       "      <td>4.0</td>\n",
       "      <td>0</td>\n",
       "    </tr>\n",
       "  </tbody>\n",
       "</table>\n",
       "</div>"
      ],
      "text/plain": [
       "  Activity Type                 Date  Distance  Calories       Time  Avg HR  \\\n",
       "0       Walking  2020-12-04 10:31:47      3.70     276.0  55.700000   132.0   \n",
       "1    Breathwork  2020-12-01 11:10:04      0.00       NaN   9.366667    76.0   \n",
       "2    Breathwork  2020-11-30 21:02:16      0.00       NaN   5.483333    98.0   \n",
       "3        Cardio  2020-11-30 20:09:43      0.00     300.0  51.716667   136.0   \n",
       "4       Walking  2020-11-30 15:37:49      3.21     158.0  48.516667    96.0   \n",
       "\n",
       "   Max HR  Avg Run Cadence  Max Run Cadence   Avg Pace  Best Pace  Elev Gain  \\\n",
       "0   177.0            100.0            158.0  15.066667   3.066667       83.0   \n",
       "1    92.0              NaN              NaN        NaN        NaN        NaN   \n",
       "2   106.0              NaN              NaN        NaN        NaN        NaN   \n",
       "3   173.0              NaN              NaN        NaN        NaN        NaN   \n",
       "4   113.0            103.0            158.0  15.133333   7.833333       93.0   \n",
       "\n",
       "   Elev Loss  Avg Stride Length  Climb Time  Best Lap Time  Number of Laps  \\\n",
       "0      104.0               0.67   55.700000      10.533333             4.0   \n",
       "1        NaN               0.00    9.366667       0.000000           160.0   \n",
       "2        NaN               0.00    5.483333       0.033333           101.0   \n",
       "3        NaN               0.00   51.716667      51.700000             1.0   \n",
       "4       62.0               0.64   48.516667       3.133333             4.0   \n",
       "\n",
       "   Target  \n",
       "0       0  \n",
       "1       1  \n",
       "2       1  \n",
       "3       2  \n",
       "4       0  "
      ]
     },
     "execution_count": 18,
     "metadata": {},
     "output_type": "execute_result"
    }
   ],
   "source": [
    "path = 'data/Garmin_Activities_all.csv'\n",
    "\n",
    "unnecessary_columns = ['Favorite', 'Title', 'Avg Vertical Ratio', 'Avg Vertical Oscillation', 'Avg Run Cadence.1', \n",
    "                       'Max Run Cadence.1', 'Training Stress Score®', 'Grit', 'Flow', 'Total Strokes', 'Avg. Swolf',\n",
    "                       'Avg Stroke Rate', 'Total Reps', 'Total Sets', 'Bottom Time', 'Min Temp', 'Surface Interval',\n",
    "                       'Decompression', 'Max Temp', 'Avg Resp', 'Min Resp', 'Max Resp', 'Stress Change', 'Stress Start', \n",
    "                       'Stress End', 'Avg Stress']\n",
    "\n",
    "data = Dataset(path, unnecessary_columns)\n",
    "cleaned_data = data.cleaned_df\n",
    "target, activities = data.target, data.activities\n",
    "cleaned_data.head()"
   ]
  },
  {
   "cell_type": "markdown",
   "metadata": {},
   "source": [
    "## 2. Descriptive Statistics\n",
    "\n",
    "\n",
    "### First we take a look at the structure of the cleaned dataset.\n",
    "Aim:\n",
    "* To give the user an overview about class distribution by using a bar chart.\n",
    "* Knowing the size of a class should help the user judge the reliability of statistics which will be presented later in this section. (The mean of a small class may not be as representative as the mean of a class with\n",
    " hundreds of samples).\n",
    "* Using a similar color scheme as in the Correlation task should allow a better overview."
   ]
  },
  {
   "cell_type": "code",
   "execution_count": 19,
   "metadata": {},
   "outputs": [
    {
     "data": {
      "text/markdown": [
       "This is a training dataset. The cleaned dataset contains: \n",
       " * 421 datapoints \n",
       "   * each datapoint has a label and 16 features (excluding: Activity Type, Target) \n",
       "   * each datapoint can belong to one of the following classes:  \n",
       " {'Yoga', 'Strength', 'Walking', 'Cardio', 'Breathwork', 'Gym', 'Swimming', 'Running', 'Cycling'}"
      ],
      "text/plain": [
       "<IPython.core.display.Markdown object>"
      ]
     },
     "metadata": {},
     "output_type": "display_data"
    }
   ],
   "source": [
    "printmd(f'This is a training dataset. The cleaned dataset contains: \\\n",
    "\\n * {cleaned_data.shape[0]} datapoints \\\n",
    "\\n   * each datapoint has a label and {cleaned_data.shape[1]-2} features (excluding: Activity Type, Target) \\\n",
    "\\n   * each datapoint can belong to one of the following classes:  \\\n",
    "\\n {set(cleaned_data[\"Activity Type\"])}')"
   ]
  },
  {
   "cell_type": "code",
   "execution_count": 20,
   "metadata": {},
   "outputs": [
    {
     "data": {
      "text/html": [
       "\n",
       "<div id=\"altair-viz-d841a149e68644e98e07694d899b5df3\"></div>\n",
       "<script type=\"text/javascript\">\n",
       "  (function(spec, embedOpt){\n",
       "    let outputDiv = document.currentScript.previousElementSibling;\n",
       "    if (outputDiv.id !== \"altair-viz-d841a149e68644e98e07694d899b5df3\") {\n",
       "      outputDiv = document.getElementById(\"altair-viz-d841a149e68644e98e07694d899b5df3\");\n",
       "    }\n",
       "    const paths = {\n",
       "      \"vega\": \"https://cdn.jsdelivr.net/npm//vega@5?noext\",\n",
       "      \"vega-lib\": \"https://cdn.jsdelivr.net/npm//vega-lib?noext\",\n",
       "      \"vega-lite\": \"https://cdn.jsdelivr.net/npm//vega-lite@4.8.1?noext\",\n",
       "      \"vega-embed\": \"https://cdn.jsdelivr.net/npm//vega-embed@6?noext\",\n",
       "    };\n",
       "\n",
       "    function loadScript(lib) {\n",
       "      return new Promise(function(resolve, reject) {\n",
       "        var s = document.createElement('script');\n",
       "        s.src = paths[lib];\n",
       "        s.async = true;\n",
       "        s.onload = () => resolve(paths[lib]);\n",
       "        s.onerror = () => reject(`Error loading script: ${paths[lib]}`);\n",
       "        document.getElementsByTagName(\"head\")[0].appendChild(s);\n",
       "      });\n",
       "    }\n",
       "\n",
       "    function showError(err) {\n",
       "      outputDiv.innerHTML = `<div class=\"error\" style=\"color:red;\">${err}</div>`;\n",
       "      throw err;\n",
       "    }\n",
       "\n",
       "    function displayChart(vegaEmbed) {\n",
       "      vegaEmbed(outputDiv, spec, embedOpt)\n",
       "        .catch(err => showError(`Javascript Error: ${err.message}<br>This usually means there's a typo in your chart specification. See the javascript console for the full traceback.`));\n",
       "    }\n",
       "\n",
       "    if(typeof define === \"function\" && define.amd) {\n",
       "      requirejs.config({paths});\n",
       "      require([\"vega-embed\"], displayChart, err => showError(`Error loading script: ${err.message}`));\n",
       "    } else if (typeof vegaEmbed === \"function\") {\n",
       "      displayChart(vegaEmbed);\n",
       "    } else {\n",
       "      loadScript(\"vega\")\n",
       "        .then(() => loadScript(\"vega-lite\"))\n",
       "        .then(() => loadScript(\"vega-embed\"))\n",
       "        .catch(showError)\n",
       "        .then(() => displayChart(vegaEmbed));\n",
       "    }\n",
       "  })({\"config\": {\"view\": {\"continuousWidth\": 400, \"continuousHeight\": 300}}, \"data\": {\"name\": \"data-8c93a90b9602ef0730cd478809c0756e\"}, \"mark\": {\"type\": \"bar\", \"size\": 20}, \"encoding\": {\"color\": {\"type\": \"nominal\", \"field\": \"Activity Type\", \"legend\": {\"orient\": \"top\", \"symbolSize\": 400}, \"scale\": {\"domain\": [\"Walking\", \"Breathwork\", \"Cardio\", \"Running\", \"Strength\", \"Cycling\", \"Swimming\", \"Yoga\", \"Gym\"], \"range\": [\"#1f77b4\", \"#ff7f0e\", \"#2ca02c\", \"#d62728\", \"#9467bd\", \"#8c564b\", \"#e377c2\", \"#7f7f7f\", \"#bcbd22\"]}}, \"tooltip\": {\"type\": \"quantitative\", \"aggregate\": \"count\"}, \"x\": {\"type\": \"quantitative\", \"aggregate\": \"count\"}, \"y\": {\"type\": \"nominal\", \"field\": \"Activity Type\", \"title\": \"classes\"}}, \"height\": 300, \"title\": \"class distribution\", \"width\": 380, \"$schema\": \"https://vega.github.io/schema/vega-lite/v4.8.1.json\", \"datasets\": {\"data-8c93a90b9602ef0730cd478809c0756e\": [{\"Activity Type\": \"Walking\", \"Date\": \"2020-12-04 10:31:47\", \"Distance\": 3.7, \"Calories\": 276.0, \"Time\": 55.7, \"Avg HR\": 132.0, \"Max HR\": 177.0, \"Avg Run Cadence\": 100.0, \"Max Run Cadence\": 158.0, \"Avg Pace\": 15.066666666666666, \"Best Pace\": 3.066666666666667, \"Elev Gain\": 83.0, \"Elev Loss\": 104.0, \"Avg Stride Length\": 0.67, \"Climb Time\": 55.7, \"Best Lap Time\": 10.533333333333333, \"Number of Laps\": 4.0, \"Target\": 0}, {\"Activity Type\": \"Breathwork\", \"Date\": \"2020-12-01 11:10:04\", \"Distance\": 0.0, \"Calories\": null, \"Time\": 9.366666666666667, \"Avg HR\": 76.0, \"Max HR\": 92.0, \"Avg Run Cadence\": null, \"Max Run Cadence\": null, \"Avg Pace\": null, \"Best Pace\": null, \"Elev Gain\": null, \"Elev Loss\": null, \"Avg Stride Length\": 0.0, \"Climb Time\": 9.366666666666667, \"Best Lap Time\": 0.0, \"Number of Laps\": 160.0, \"Target\": 1}, {\"Activity Type\": \"Breathwork\", \"Date\": \"2020-11-30 21:02:16\", \"Distance\": 0.0, \"Calories\": null, \"Time\": 5.483333333333333, \"Avg HR\": 98.0, \"Max HR\": 106.0, \"Avg Run Cadence\": null, \"Max Run Cadence\": null, \"Avg Pace\": null, \"Best Pace\": null, \"Elev Gain\": null, \"Elev Loss\": null, \"Avg Stride Length\": 0.0, \"Climb Time\": 5.483333333333333, \"Best Lap Time\": 0.03333333333333333, \"Number of Laps\": 101.0, \"Target\": 1}, {\"Activity Type\": \"Cardio\", \"Date\": \"2020-11-30 20:09:43\", \"Distance\": 0.0, \"Calories\": 300.0, \"Time\": 51.71666666666667, \"Avg HR\": 136.0, \"Max HR\": 173.0, \"Avg Run Cadence\": null, \"Max Run Cadence\": null, \"Avg Pace\": null, \"Best Pace\": null, \"Elev Gain\": null, \"Elev Loss\": null, \"Avg Stride Length\": 0.0, \"Climb Time\": 51.71666666666667, \"Best Lap Time\": 51.7, \"Number of Laps\": 1.0, \"Target\": 2}, {\"Activity Type\": \"Walking\", \"Date\": \"2020-11-30 15:37:49\", \"Distance\": 3.21, \"Calories\": 158.0, \"Time\": 48.516666666666666, \"Avg HR\": 96.0, \"Max HR\": 113.0, \"Avg Run Cadence\": 103.0, \"Max Run Cadence\": 158.0, \"Avg Pace\": 15.133333333333333, \"Best Pace\": 7.833333333333333, \"Elev Gain\": 93.0, \"Elev Loss\": 62.0, \"Avg Stride Length\": 0.64, \"Climb Time\": 48.516666666666666, \"Best Lap Time\": 3.1333333333333333, \"Number of Laps\": 4.0, \"Target\": 0}, {\"Activity Type\": \"Walking\", \"Date\": \"2020-11-27 11:26:23\", \"Distance\": 5.26, \"Calories\": 343.0, \"Time\": 94.01666666666667, \"Avg HR\": 117.0, \"Max HR\": 163.0, \"Avg Run Cadence\": 75.0, \"Max Run Cadence\": 177.0, \"Avg Pace\": 17.883333333333333, \"Best Pace\": 4.066666666666666, \"Elev Gain\": 86.0, \"Elev Loss\": 81.0, \"Avg Stride Length\": 0.87, \"Climb Time\": 94.01666666666667, \"Best Lap Time\": 3.45, \"Number of Laps\": 6.0, \"Target\": 0}, {\"Activity Type\": \"Walking\", \"Date\": \"2020-11-25 17:51:19\", \"Distance\": 3.77, \"Calories\": 198.0, \"Time\": 57.733333333333334, \"Avg HR\": 106.0, \"Max HR\": 123.0, \"Avg Run Cadence\": 99.0, \"Max Run Cadence\": 220.0, \"Avg Pace\": 15.283333333333333, \"Best Pace\": 9.75, \"Elev Gain\": 82.0, \"Elev Loss\": 72.0, \"Avg Stride Length\": 0.66, \"Climb Time\": 57.733333333333334, \"Best Lap Time\": 12.25, \"Number of Laps\": 4.0, \"Target\": 0}, {\"Activity Type\": \"Walking\", \"Date\": \"2020-11-23 17:54:42\", \"Distance\": 2.65, \"Calories\": 154.0, \"Time\": 45.86666666666667, \"Avg HR\": 99.0, \"Max HR\": 119.0, \"Avg Run Cadence\": 86.0, \"Max Run Cadence\": 203.0, \"Avg Pace\": 17.333333333333332, \"Best Pace\": 11.6, \"Elev Gain\": 23.0, \"Elev Loss\": 36.0, \"Avg Stride Length\": 0.67, \"Climb Time\": 45.86666666666667, \"Best Lap Time\": 10.2, \"Number of Laps\": 3.0, \"Target\": 0}, {\"Activity Type\": \"Walking\", \"Date\": \"2020-11-21 12:53:33\", \"Distance\": 5.25, \"Calories\": 290.0, \"Time\": 77.48333333333333, \"Avg HR\": 114.0, \"Max HR\": 132.0, \"Avg Run Cadence\": 90.0, \"Max Run Cadence\": 231.0, \"Avg Pace\": 14.766666666666667, \"Best Pace\": 6.466666666666667, \"Elev Gain\": 142.0, \"Elev Loss\": 73.0, \"Avg Stride Length\": 0.76, \"Climb Time\": 77.48333333333333, \"Best Lap Time\": 3.9333333333333336, \"Number of Laps\": 6.0, \"Target\": 0}, {\"Activity Type\": \"Running\", \"Date\": \"2020-11-17 12:46:57\", \"Distance\": 3.19, \"Calories\": 214.0, \"Time\": 21.85, \"Avg HR\": 178.0, \"Max HR\": 193.0, \"Avg Run Cadence\": 164.0, \"Max Run Cadence\": 188.0, \"Avg Pace\": 6.85, \"Best Pace\": 5.0, \"Elev Gain\": 66.0, \"Elev Loss\": 86.0, \"Avg Stride Length\": 0.88, \"Climb Time\": 21.85, \"Best Lap Time\": 1.1333333333333333, \"Number of Laps\": 4.0, \"Target\": 3}, {\"Activity Type\": \"Strength\", \"Date\": \"2020-11-15 20:15:34\", \"Distance\": 0.0, \"Calories\": 131.0, \"Time\": 30.0, \"Avg HR\": null, \"Max HR\": null, \"Avg Run Cadence\": null, \"Max Run Cadence\": null, \"Avg Pace\": null, \"Best Pace\": null, \"Elev Gain\": null, \"Elev Loss\": null, \"Avg Stride Length\": 0.0, \"Climb Time\": 30.0, \"Best Lap Time\": 0.0, \"Number of Laps\": 1.0, \"Target\": 4}, {\"Activity Type\": \"Strength\", \"Date\": \"2020-11-14 16:37:23\", \"Distance\": 0.0, \"Calories\": 517.0, \"Time\": 81.05, \"Avg HR\": 141.0, \"Max HR\": 174.0, \"Avg Run Cadence\": null, \"Max Run Cadence\": null, \"Avg Pace\": null, \"Best Pace\": null, \"Elev Gain\": null, \"Elev Loss\": null, \"Avg Stride Length\": 0.0, \"Climb Time\": 81.05, \"Best Lap Time\": 81.03333333333333, \"Number of Laps\": 1.0, \"Target\": 4}, {\"Activity Type\": \"Walking\", \"Date\": \"2020-11-14 12:49:59\", \"Distance\": 3.37, \"Calories\": 189.0, \"Time\": 53.333333333333336, \"Avg HR\": 108.0, \"Max HR\": 123.0, \"Avg Run Cadence\": 82.0, \"Max Run Cadence\": 220.0, \"Avg Pace\": 15.833333333333334, \"Best Pace\": 7.533333333333333, \"Elev Gain\": 97.0, \"Elev Loss\": 64.0, \"Avg Stride Length\": 0.78, \"Climb Time\": 53.333333333333336, \"Best Lap Time\": 5.066666666666666, \"Number of Laps\": 4.0, \"Target\": 0}, {\"Activity Type\": \"Walking\", \"Date\": \"2020-11-10 16:54:11\", \"Distance\": 1.11, \"Calories\": 57.0, \"Time\": 14.016666666666667, \"Avg HR\": 115.0, \"Max HR\": 125.0, \"Avg Run Cadence\": 109.0, \"Max Run Cadence\": 125.0, \"Avg Pace\": 12.6, \"Best Pace\": 10.95, \"Elev Gain\": 43.0, \"Elev Loss\": 6.0, \"Avg Stride Length\": 0.73, \"Climb Time\": 14.016666666666667, \"Best Lap Time\": 1.4166666666666667, \"Number of Laps\": 2.0, \"Target\": 0}, {\"Activity Type\": \"Walking\", \"Date\": \"2020-11-09 19:25:53\", \"Distance\": 1.69, \"Calories\": 115.0, \"Time\": 28.733333333333334, \"Avg HR\": 99.0, \"Max HR\": 125.0, \"Avg Run Cadence\": 73.0, \"Max Run Cadence\": 243.0, \"Avg Pace\": 16.983333333333334, \"Best Pace\": 9.55, \"Elev Gain\": 195.0, \"Elev Loss\": 73.0, \"Avg Stride Length\": 0.83, \"Climb Time\": 28.733333333333334, \"Best Lap Time\": 8.116666666666667, \"Number of Laps\": 2.0, \"Target\": 0}, {\"Activity Type\": \"Strength\", \"Date\": \"2020-11-07 08:24:47\", \"Distance\": 0.0, \"Calories\": 228.0, \"Time\": 29.5, \"Avg HR\": 148.0, \"Max HR\": 172.0, \"Avg Run Cadence\": null, \"Max Run Cadence\": null, \"Avg Pace\": null, \"Best Pace\": null, \"Elev Gain\": null, \"Elev Loss\": null, \"Avg Stride Length\": 0.0, \"Climb Time\": 29.5, \"Best Lap Time\": 29.483333333333334, \"Number of Laps\": 1.0, \"Target\": 4}, {\"Activity Type\": \"Breathwork\", \"Date\": \"2020-11-07 08:04:54\", \"Distance\": 0.0, \"Calories\": 13.0, \"Time\": 11.3, \"Avg HR\": 77.0, \"Max HR\": 93.0, \"Avg Run Cadence\": null, \"Max Run Cadence\": null, \"Avg Pace\": null, \"Best Pace\": null, \"Elev Gain\": null, \"Elev Loss\": null, \"Avg Stride Length\": 0.0, \"Climb Time\": 11.3, \"Best Lap Time\": 11.3, \"Number of Laps\": 1.0, \"Target\": 1}, {\"Activity Type\": \"Running\", \"Date\": \"2020-11-06 15:21:02\", \"Distance\": 2.54, \"Calories\": 168.0, \"Time\": 30.65, \"Avg HR\": 131.0, \"Max HR\": 153.0, \"Avg Run Cadence\": 115.0, \"Max Run Cadence\": 248.0, \"Avg Pace\": 12.066666666666666, \"Best Pace\": 6.566666666666666, \"Elev Gain\": 104.0, \"Elev Loss\": 132.0, \"Avg Stride Length\": 0.72, \"Climb Time\": 30.65, \"Best Lap Time\": 5.85, \"Number of Laps\": 3.0, \"Target\": 3}, {\"Activity Type\": \"Walking\", \"Date\": \"2020-11-06 12:41:47\", \"Distance\": 0.99, \"Calories\": 51.0, \"Time\": 12.133333333333333, \"Avg HR\": 109.0, \"Max HR\": 128.0, \"Avg Run Cadence\": 109.0, \"Max Run Cadence\": 121.0, \"Avg Pace\": 12.216666666666667, \"Best Pace\": 10.633333333333333, \"Elev Gain\": 15.0, \"Elev Loss\": 45.0, \"Avg Stride Length\": 0.75, \"Climb Time\": 12.133333333333333, \"Best Lap Time\": 12.116666666666667, \"Number of Laps\": 1.0, \"Target\": 0}, {\"Activity Type\": \"Walking\", \"Date\": \"2020-11-06 12:14:21\", \"Distance\": 0.89, \"Calories\": 44.0, \"Time\": 10.666666666666666, \"Avg HR\": 106.0, \"Max HR\": 118.0, \"Avg Run Cadence\": 104.0, \"Max Run Cadence\": 126.0, \"Avg Pace\": 11.933333333333334, \"Best Pace\": 10.033333333333333, \"Elev Gain\": 24.0, \"Elev Loss\": 5.0, \"Avg Stride Length\": 0.81, \"Climb Time\": 10.666666666666666, \"Best Lap Time\": 10.65, \"Number of Laps\": 1.0, \"Target\": 0}, {\"Activity Type\": \"Cycling\", \"Date\": \"2020-11-05 00:24:49\", \"Distance\": 4.06, \"Calories\": 104.0, \"Time\": 17.25, \"Avg HR\": 126.0, \"Max HR\": 147.0, \"Avg Run Cadence\": null, \"Max Run Cadence\": null, \"Avg Pace\": 0.235, \"Best Pace\": 0.4216666666666667, \"Elev Gain\": 7.0, \"Elev Loss\": 10.0, \"Avg Stride Length\": 0.0, \"Climb Time\": 17.25, \"Best Lap Time\": 17.25, \"Number of Laps\": 1.0, \"Target\": 5}, {\"Activity Type\": \"Cycling\", \"Date\": \"2020-11-04 20:18:13\", \"Distance\": 3.54, \"Calories\": 55.0, \"Time\": 12.05, \"Avg HR\": 112.0, \"Max HR\": 124.0, \"Avg Run Cadence\": null, \"Max Run Cadence\": null, \"Avg Pace\": 0.29333333333333333, \"Best Pace\": 0.5133333333333333, \"Elev Gain\": 28.0, \"Elev Loss\": 8.0, \"Avg Stride Length\": 0.0, \"Climb Time\": 12.05, \"Best Lap Time\": 12.05, \"Number of Laps\": 1.0, \"Target\": 5}, {\"Activity Type\": \"Walking\", \"Date\": \"2020-11-04 12:33:28\", \"Distance\": 3.57, \"Calories\": 167.0, \"Time\": 42.21666666666667, \"Avg HR\": 110.0, \"Max HR\": 123.0, \"Avg Run Cadence\": 99.0, \"Max Run Cadence\": 244.0, \"Avg Pace\": 11.816666666666666, \"Best Pace\": 6.016666666666667, \"Elev Gain\": 71.0, \"Elev Loss\": 6.0, \"Avg Stride Length\": 0.86, \"Climb Time\": 42.21666666666667, \"Best Lap Time\": 5.566666666666666, \"Number of Laps\": 4.0, \"Target\": 0}, {\"Activity Type\": \"Walking\", \"Date\": \"2020-11-01 15:24:38\", \"Distance\": 1.27, \"Calories\": 62.0, \"Time\": 12.833333333333334, \"Avg HR\": 117.0, \"Max HR\": 131.0, \"Avg Run Cadence\": 122.0, \"Max Run Cadence\": 177.0, \"Avg Pace\": 10.066666666666666, \"Best Pace\": 7.233333333333333, \"Elev Gain\": 2.0, \"Elev Loss\": 41.0, \"Avg Stride Length\": 0.81, \"Climb Time\": 12.833333333333334, \"Best Lap Time\": 2.9333333333333336, \"Number of Laps\": 2.0, \"Target\": 0}, {\"Activity Type\": \"Walking\", \"Date\": \"2020-11-01 10:13:34\", \"Distance\": 1.1, \"Calories\": 57.0, \"Time\": 15.35, \"Avg HR\": 117.0, \"Max HR\": 128.0, \"Avg Run Cadence\": 91.0, \"Max Run Cadence\": 146.0, \"Avg Pace\": 13.966666666666667, \"Best Pace\": 11.6, \"Elev Gain\": 4.0, \"Elev Loss\": 31.0, \"Avg Stride Length\": 0.79, \"Climb Time\": 15.35, \"Best Lap Time\": 1.6833333333333333, \"Number of Laps\": 2.0, \"Target\": 0}, {\"Activity Type\": \"Running\", \"Date\": \"2020-10-31 09:12:28\", \"Distance\": 0.58, \"Calories\": 33.0, \"Time\": 6.3, \"Avg HR\": 127.0, \"Max HR\": 135.0, \"Avg Run Cadence\": 118.0, \"Max Run Cadence\": 131.0, \"Avg Pace\": 10.966666666666667, \"Best Pace\": 8.666666666666666, \"Elev Gain\": 120.0, \"Elev Loss\": null, \"Avg Stride Length\": 0.77, \"Climb Time\": 6.3, \"Best Lap Time\": 6.3, \"Number of Laps\": 1.0, \"Target\": 3}, {\"Activity Type\": \"Walking\", \"Date\": \"2020-10-28 15:18:15\", \"Distance\": 2.15, \"Calories\": 101.0, \"Time\": 24.366666666666667, \"Avg HR\": 113.0, \"Max HR\": 125.0, \"Avg Run Cadence\": 116.0, \"Max Run Cadence\": 245.0, \"Avg Pace\": 11.316666666666666, \"Best Pace\": 7.0, \"Elev Gain\": 4.0, \"Elev Loss\": 78.0, \"Avg Stride Length\": 0.76, \"Climb Time\": 24.366666666666667, \"Best Lap Time\": 1.45, \"Number of Laps\": 3.0, \"Target\": 0}, {\"Activity Type\": \"Cycling\", \"Date\": \"2020-10-22 21:11:12\", \"Distance\": 5.18, \"Calories\": 174.0, \"Time\": 24.583333333333332, \"Avg HR\": 139.0, \"Max HR\": 170.0, \"Avg Run Cadence\": null, \"Max Run Cadence\": null, \"Avg Pace\": 0.21, \"Best Pace\": 0.335, \"Elev Gain\": 33.0, \"Elev Loss\": 21.0, \"Avg Stride Length\": 0.0, \"Climb Time\": 24.583333333333332, \"Best Lap Time\": 1.2333333333333334, \"Number of Laps\": 2.0, \"Target\": 5}, {\"Activity Type\": \"Cycling\", \"Date\": \"2020-10-22 18:33:09\", \"Distance\": 5.27, \"Calories\": 114.0, \"Time\": 21.583333333333332, \"Avg HR\": 120.0, \"Max HR\": 135.0, \"Avg Run Cadence\": null, \"Max Run Cadence\": null, \"Avg Pace\": 0.245, \"Best Pace\": 0.5416666666666666, \"Elev Gain\": 52.0, \"Elev Loss\": 26.0, \"Avg Stride Length\": 0.0, \"Climb Time\": 21.583333333333332, \"Best Lap Time\": 1.7666666666666666, \"Number of Laps\": 2.0, \"Target\": 5}, {\"Activity Type\": \"Walking\", \"Date\": \"2020-10-17 16:00:02\", \"Distance\": 1.01, \"Calories\": 54.0, \"Time\": 13.016666666666667, \"Avg HR\": 113.0, \"Max HR\": 125.0, \"Avg Run Cadence\": 108.0, \"Max Run Cadence\": 118.0, \"Avg Pace\": 12.933333333333334, \"Best Pace\": 11.233333333333333, \"Elev Gain\": 25.0, \"Elev Loss\": null, \"Avg Stride Length\": 0.72, \"Climb Time\": 13.016666666666667, \"Best Lap Time\": 0.1, \"Number of Laps\": 2.0, \"Target\": 0}, {\"Activity Type\": \"Walking\", \"Date\": \"2020-10-17 15:13:33\", \"Distance\": 1.16, \"Calories\": 33.0, \"Time\": 12.116666666666667, \"Avg HR\": 78.0, \"Max HR\": 96.0, \"Avg Run Cadence\": 125.0, \"Max Run Cadence\": 140.0, \"Avg Pace\": 10.4, \"Best Pace\": 9.65, \"Elev Gain\": 18.0, \"Elev Loss\": 13.0, \"Avg Stride Length\": 0.77, \"Climb Time\": 12.116666666666667, \"Best Lap Time\": 1.7333333333333334, \"Number of Laps\": 2.0, \"Target\": 0}, {\"Activity Type\": \"Cycling\", \"Date\": \"2020-10-13 21:06:17\", \"Distance\": 5.21, \"Calories\": 130.0, \"Time\": 22.683333333333334, \"Avg HR\": 126.0, \"Max HR\": 141.0, \"Avg Run Cadence\": null, \"Max Run Cadence\": null, \"Avg Pace\": 0.23, \"Best Pace\": 0.375, \"Elev Gain\": 68.0, \"Elev Loss\": 12.0, \"Avg Stride Length\": 0.0, \"Climb Time\": 22.683333333333334, \"Best Lap Time\": 1.3, \"Number of Laps\": 2.0, \"Target\": 5}, {\"Activity Type\": \"Running\", \"Date\": \"2020-10-13 15:34:50\", \"Distance\": 0.2, \"Calories\": 10.0, \"Time\": 2.216666666666667, \"Avg HR\": 115.0, \"Max HR\": 118.0, \"Avg Run Cadence\": 117.0, \"Max Run Cadence\": 137.0, \"Avg Pace\": 11.3, \"Best Pace\": 9.35, \"Elev Gain\": 2.0, \"Elev Loss\": 25.0, \"Avg Stride Length\": 0.75, \"Climb Time\": 2.216666666666667, \"Best Lap Time\": 2.216666666666667, \"Number of Laps\": 1.0, \"Target\": 3}, {\"Activity Type\": \"Walking\", \"Date\": \"2020-10-07 13:08:28\", \"Distance\": 0.99, \"Calories\": 52.0, \"Time\": 13.15, \"Avg HR\": 110.0, \"Max HR\": 133.0, \"Avg Run Cadence\": 102.0, \"Max Run Cadence\": 125.0, \"Avg Pace\": 13.283333333333333, \"Best Pace\": 11.666666666666666, \"Elev Gain\": 17.0, \"Elev Loss\": null, \"Avg Stride Length\": 0.74, \"Climb Time\": 13.15, \"Best Lap Time\": 13.133333333333333, \"Number of Laps\": 1.0, \"Target\": 0}, {\"Activity Type\": \"Walking\", \"Date\": \"2020-10-07 12:35:18\", \"Distance\": 1.05, \"Calories\": 50.0, \"Time\": 13.483333333333333, \"Avg HR\": 110.0, \"Max HR\": 119.0, \"Avg Run Cadence\": 96.0, \"Max Run Cadence\": 137.0, \"Avg Pace\": 12.883333333333333, \"Best Pace\": 10.083333333333334, \"Elev Gain\": null, \"Elev Loss\": 23.0, \"Avg Stride Length\": 0.87, \"Climb Time\": 13.483333333333333, \"Best Lap Time\": 0.6666666666666666, \"Number of Laps\": 2.0, \"Target\": 0}, {\"Activity Type\": \"Walking\", \"Date\": \"2020-10-06 16:09:23\", \"Distance\": 1.06, \"Calories\": 56.0, \"Time\": 14.016666666666667, \"Avg HR\": 117.0, \"Max HR\": 131.0, \"Avg Run Cadence\": 100.0, \"Max Run Cadence\": 134.0, \"Avg Pace\": 13.233333333333333, \"Best Pace\": 9.166666666666666, \"Elev Gain\": 9.0, \"Elev Loss\": 4.0, \"Avg Stride Length\": 0.76, \"Climb Time\": 14.016666666666667, \"Best Lap Time\": 1.2833333333333332, \"Number of Laps\": 2.0, \"Target\": 0}, {\"Activity Type\": \"Walking\", \"Date\": \"2020-10-06 15:50:25\", \"Distance\": 0.71, \"Calories\": 33.0, \"Time\": 8.9, \"Avg HR\": 107.0, \"Max HR\": 127.0, \"Avg Run Cadence\": 97.0, \"Max Run Cadence\": 154.0, \"Avg Pace\": 12.533333333333333, \"Best Pace\": 8.933333333333334, \"Elev Gain\": null, \"Elev Loss\": 28.0, \"Avg Stride Length\": 0.83, \"Climb Time\": 8.9, \"Best Lap Time\": 8.9, \"Number of Laps\": 1.0, \"Target\": 0}, {\"Activity Type\": \"Strength\", \"Date\": \"2020-10-05 17:32:23\", \"Distance\": 0.0, \"Calories\": 578.0, \"Time\": 128.33333333333334, \"Avg HR\": 124.0, \"Max HR\": 170.0, \"Avg Run Cadence\": null, \"Max Run Cadence\": null, \"Avg Pace\": null, \"Best Pace\": null, \"Elev Gain\": null, \"Elev Loss\": null, \"Avg Stride Length\": 0.0, \"Climb Time\": 128.33333333333334, \"Best Lap Time\": 128.33333333333334, \"Number of Laps\": 1.0, \"Target\": 4}, {\"Activity Type\": \"Walking\", \"Date\": \"2020-10-05 17:17:56\", \"Distance\": 0.84, \"Calories\": 44.0, \"Time\": 8.716666666666667, \"Avg HR\": 122.0, \"Max HR\": 137.0, \"Avg Run Cadence\": 114.0, \"Max Run Cadence\": 188.0, \"Avg Pace\": 10.416666666666666, \"Best Pace\": 5.683333333333334, \"Elev Gain\": 38.0, \"Elev Loss\": 4.0, \"Avg Stride Length\": 0.85, \"Climb Time\": 8.716666666666667, \"Best Lap Time\": 8.716666666666667, \"Number of Laps\": 1.0, \"Target\": 0}, {\"Activity Type\": \"Walking\", \"Date\": \"2020-10-02 15:53:29\", \"Distance\": 1.28, \"Calories\": 61.0, \"Time\": 17.083333333333332, \"Avg HR\": 105.0, \"Max HR\": 115.0, \"Avg Run Cadence\": 95.0, \"Max Run Cadence\": 207.0, \"Avg Pace\": 13.383333333333333, \"Best Pace\": 2.033333333333333, \"Elev Gain\": 9.0, \"Elev Loss\": 36.0, \"Avg Stride Length\": 0.79, \"Climb Time\": 17.083333333333332, \"Best Lap Time\": 3.8166666666666664, \"Number of Laps\": 2.0, \"Target\": 0}, {\"Activity Type\": \"Walking\", \"Date\": \"2020-10-02 15:06:26\", \"Distance\": 1.29, \"Calories\": 64.0, \"Time\": 18.933333333333334, \"Avg HR\": 105.0, \"Max HR\": 116.0, \"Avg Run Cadence\": 85.0, \"Max Run Cadence\": 143.0, \"Avg Pace\": 14.733333333333333, \"Best Pace\": 10.816666666666666, \"Elev Gain\": 6.0, \"Elev Loss\": 16.0, \"Avg Stride Length\": 0.84, \"Climb Time\": 18.933333333333334, \"Best Lap Time\": 3.9833333333333334, \"Number of Laps\": 2.0, \"Target\": 0}, {\"Activity Type\": \"Walking\", \"Date\": \"2020-10-01 11:51:55\", \"Distance\": 1.11, \"Calories\": 53.0, \"Time\": 12.466666666666667, \"Avg HR\": 120.0, \"Max HR\": 135.0, \"Avg Run Cadence\": 111.0, \"Max Run Cadence\": 129.0, \"Avg Pace\": 11.233333333333333, \"Best Pace\": 9.35, \"Elev Gain\": 126.0, \"Elev Loss\": 2.0, \"Avg Stride Length\": 0.81, \"Climb Time\": 12.466666666666667, \"Best Lap Time\": 1.0, \"Number of Laps\": 2.0, \"Target\": 0}, {\"Activity Type\": \"Walking\", \"Date\": \"2020-09-30 20:44:37\", \"Distance\": 1.97, \"Calories\": 109.0, \"Time\": 29.883333333333333, \"Avg HR\": 113.0, \"Max HR\": 135.0, \"Avg Run Cadence\": 92.0, \"Max Run Cadence\": 226.0, \"Avg Pace\": 15.166666666666666, \"Best Pace\": 7.383333333333334, \"Elev Gain\": 30.0, \"Elev Loss\": null, \"Avg Stride Length\": 0.73, \"Climb Time\": 29.883333333333333, \"Best Lap Time\": 14.583333333333334, \"Number of Laps\": 2.0, \"Target\": 0}, {\"Activity Type\": \"Walking\", \"Date\": \"2020-09-30 20:25:38\", \"Distance\": 0.98, \"Calories\": 47.0, \"Time\": 15.15, \"Avg HR\": 109.0, \"Max HR\": 119.0, \"Avg Run Cadence\": 86.0, \"Max Run Cadence\": 119.0, \"Avg Pace\": 15.466666666666667, \"Best Pace\": 11.6, \"Elev Gain\": 70.0, \"Elev Loss\": 11.0, \"Avg Stride Length\": 0.75, \"Climb Time\": 15.15, \"Best Lap Time\": 15.15, \"Number of Laps\": 1.0, \"Target\": 0}, {\"Activity Type\": \"Walking\", \"Date\": \"2020-09-30 20:00:02\", \"Distance\": 1.42, \"Calories\": 70.0, \"Time\": 19.4, \"Avg HR\": 113.0, \"Max HR\": 130.0, \"Avg Run Cadence\": 93.0, \"Max Run Cadence\": 151.0, \"Avg Pace\": 13.633333333333333, \"Best Pace\": 10.766666666666667, \"Elev Gain\": null, \"Elev Loss\": 159.0, \"Avg Stride Length\": 0.8, \"Climb Time\": 19.4, \"Best Lap Time\": 6.1, \"Number of Laps\": 2.0, \"Target\": 0}, {\"Activity Type\": \"Walking\", \"Date\": \"2020-09-29 16:44:45\", \"Distance\": 3.0, \"Calories\": 142.0, \"Time\": 40.55, \"Avg HR\": 107.0, \"Max HR\": 118.0, \"Avg Run Cadence\": 100.0, \"Max Run Cadence\": 158.0, \"Avg Pace\": 13.5, \"Best Pace\": 9.6, \"Elev Gain\": 13.0, \"Elev Loss\": 15.0, \"Avg Stride Length\": 0.74, \"Climb Time\": 40.55, \"Best Lap Time\": 0.06666666666666667, \"Number of Laps\": 4.0, \"Target\": 0}, {\"Activity Type\": \"Running\", \"Date\": \"2020-09-28 17:51:31\", \"Distance\": 7.31, \"Calories\": 445.0, \"Time\": 48.38333333333333, \"Avg HR\": 168.0, \"Max HR\": 194.0, \"Avg Run Cadence\": 176.0, \"Max Run Cadence\": 195.0, \"Avg Pace\": 6.616666666666667, \"Best Pace\": 4.916666666666667, \"Elev Gain\": 27.0, \"Elev Loss\": 25.0, \"Avg Stride Length\": 0.86, \"Climb Time\": 48.38333333333333, \"Best Lap Time\": 2.0833333333333335, \"Number of Laps\": 8.0, \"Target\": 3}, {\"Activity Type\": \"Walking\", \"Date\": \"2020-09-27 17:36:51\", \"Distance\": 0.64, \"Calories\": 57.0, \"Time\": 9.016666666666667, \"Avg HR\": 135.0, \"Max HR\": 167.0, \"Avg Run Cadence\": 95.0, \"Max Run Cadence\": 208.0, \"Avg Pace\": 14.166666666666666, \"Best Pace\": 11.166666666666666, \"Elev Gain\": 43.0, \"Elev Loss\": 78.0, \"Avg Stride Length\": 0.74, \"Climb Time\": 9.016666666666667, \"Best Lap Time\": 9.016666666666667, \"Number of Laps\": 1.0, \"Target\": 0}, {\"Activity Type\": \"Walking\", \"Date\": \"2020-09-27 14:34:51\", \"Distance\": 1.06, \"Calories\": 58.0, \"Time\": 14.433333333333334, \"Avg HR\": 115.0, \"Max HR\": 128.0, \"Avg Run Cadence\": 107.0, \"Max Run Cadence\": 127.0, \"Avg Pace\": 13.6, \"Best Pace\": 4.333333333333333, \"Elev Gain\": 15.0, \"Elev Loss\": null, \"Avg Stride Length\": 0.69, \"Climb Time\": 14.433333333333334, \"Best Lap Time\": 1.3166666666666667, \"Number of Laps\": 2.0, \"Target\": 0}, {\"Activity Type\": \"Walking\", \"Date\": \"2020-09-26 19:53:24\", \"Distance\": 0.59, \"Calories\": 29.0, \"Time\": 7.483333333333333, \"Avg HR\": 107.0, \"Max HR\": 120.0, \"Avg Run Cadence\": 108.0, \"Max Run Cadence\": 129.0, \"Avg Pace\": 12.6, \"Best Pace\": 7.45, \"Elev Gain\": 2.0, \"Elev Loss\": 20.0, \"Avg Stride Length\": 0.73, \"Climb Time\": 7.483333333333333, \"Best Lap Time\": 7.483333333333333, \"Number of Laps\": 1.0, \"Target\": 0}, {\"Activity Type\": \"Walking\", \"Date\": \"2020-09-25 16:47:00\", \"Distance\": 0.84, \"Calories\": 42.0, \"Time\": 10.966666666666667, \"Avg HR\": 107.0, \"Max HR\": 116.0, \"Avg Run Cadence\": 96.0, \"Max Run Cadence\": 132.0, \"Avg Pace\": 13.083333333333334, \"Best Pace\": 10.633333333333333, \"Elev Gain\": null, \"Elev Loss\": 2.0, \"Avg Stride Length\": 0.8, \"Climb Time\": 10.966666666666667, \"Best Lap Time\": 10.95, \"Number of Laps\": 1.0, \"Target\": 0}, {\"Activity Type\": \"Walking\", \"Date\": \"2020-09-25 10:50:12\", \"Distance\": 0.79, \"Calories\": 42.0, \"Time\": 10.15, \"Avg HR\": 111.0, \"Max HR\": 127.0, \"Avg Run Cadence\": 104.0, \"Max Run Cadence\": 132.0, \"Avg Pace\": 12.883333333333333, \"Best Pace\": 11.166666666666666, \"Elev Gain\": 16.0, \"Elev Loss\": 20.0, \"Avg Stride Length\": 0.74, \"Climb Time\": 10.15, \"Best Lap Time\": 10.133333333333333, \"Number of Laps\": 1.0, \"Target\": 0}, {\"Activity Type\": \"Walking\", \"Date\": \"2020-09-24 17:17:50\", \"Distance\": 1.33, \"Calories\": 77.0, \"Time\": 16.333333333333332, \"Avg HR\": 124.0, \"Max HR\": 137.0, \"Avg Run Cadence\": 103.0, \"Max Run Cadence\": 129.0, \"Avg Pace\": 12.266666666666667, \"Best Pace\": 10.516666666666667, \"Elev Gain\": 15.0, \"Elev Loss\": null, \"Avg Stride Length\": 0.79, \"Climb Time\": 16.333333333333332, \"Best Lap Time\": 3.8, \"Number of Laps\": 2.0, \"Target\": 0}, {\"Activity Type\": \"Walking\", \"Date\": \"2020-09-23 12:03:34\", \"Distance\": 0.87, \"Calories\": 59.0, \"Time\": 13.366666666666667, \"Avg HR\": 121.0, \"Max HR\": 138.0, \"Avg Run Cadence\": 84.0, \"Max Run Cadence\": 218.0, \"Avg Pace\": 15.333333333333334, \"Best Pace\": 9.916666666666666, \"Elev Gain\": 19.0, \"Elev Loss\": 17.0, \"Avg Stride Length\": 0.78, \"Climb Time\": 13.366666666666667, \"Best Lap Time\": 13.35, \"Number of Laps\": 1.0, \"Target\": 0}, {\"Activity Type\": \"Walking\", \"Date\": \"2020-09-22 11:06:37\", \"Distance\": 1.49, \"Calories\": 87.0, \"Time\": 19.466666666666665, \"Avg HR\": 124.0, \"Max HR\": 146.0, \"Avg Run Cadence\": 106.0, \"Max Run Cadence\": 133.0, \"Avg Pace\": 13.066666666666666, \"Best Pace\": 11.1, \"Elev Gain\": 49.0, \"Elev Loss\": null, \"Avg Stride Length\": 0.72, \"Climb Time\": 19.466666666666665, \"Best Lap Time\": 6.483333333333333, \"Number of Laps\": 2.0, \"Target\": 0}, {\"Activity Type\": \"Walking\", \"Date\": \"2020-09-22 10:38:25\", \"Distance\": 1.21, \"Calories\": 69.0, \"Time\": 18.266666666666666, \"Avg HR\": 117.0, \"Max HR\": 129.0, \"Avg Run Cadence\": 93.0, \"Max Run Cadence\": 159.0, \"Avg Pace\": 15.066666666666666, \"Best Pace\": 10.083333333333334, \"Elev Gain\": null, \"Elev Loss\": 13.0, \"Avg Stride Length\": 0.72, \"Climb Time\": 18.266666666666666, \"Best Lap Time\": 4.3, \"Number of Laps\": 2.0, \"Target\": 0}, {\"Activity Type\": \"Cycling\", \"Date\": \"2020-09-20 18:47:37\", \"Distance\": 1.75, \"Calories\": 30.0, \"Time\": 6.55, \"Avg HR\": 109.0, \"Max HR\": 123.0, \"Avg Run Cadence\": null, \"Max Run Cadence\": null, \"Avg Pace\": 0.26666666666666666, \"Best Pace\": 0.38999999999999996, \"Elev Gain\": 18.0, \"Elev Loss\": null, \"Avg Stride Length\": 0.0, \"Climb Time\": 6.55, \"Best Lap Time\": 6.55, \"Number of Laps\": 1.0, \"Target\": 5}, {\"Activity Type\": \"Walking\", \"Date\": \"2020-09-20 17:07:09\", \"Distance\": 1.12, \"Calories\": 55.0, \"Time\": 16.566666666666666, \"Avg HR\": 108.0, \"Max HR\": 119.0, \"Avg Run Cadence\": 84.0, \"Max Run Cadence\": 125.0, \"Avg Pace\": 14.766666666666667, \"Best Pace\": 11.6, \"Elev Gain\": null, \"Elev Loss\": 67.0, \"Avg Stride Length\": 0.88, \"Climb Time\": 16.566666666666666, \"Best Lap Time\": 2.05, \"Number of Laps\": 2.0, \"Target\": 0}, {\"Activity Type\": \"Running\", \"Date\": \"2020-09-19 20:30:44\", \"Distance\": 0.2, \"Calories\": 11.0, \"Time\": 2.466666666666667, \"Avg HR\": 121.0, \"Max HR\": 127.0, \"Avg Run Cadence\": 91.0, \"Max Run Cadence\": 125.0, \"Avg Pace\": 12.316666666666666, \"Best Pace\": 10.083333333333334, \"Elev Gain\": 31.0, \"Elev Loss\": null, \"Avg Stride Length\": 0.9, \"Climb Time\": 2.466666666666667, \"Best Lap Time\": 2.466666666666667, \"Number of Laps\": 1.0, \"Target\": 3}, {\"Activity Type\": \"Walking\", \"Date\": \"2020-09-19 19:44:03\", \"Distance\": 1.3, \"Calories\": 71.0, \"Time\": 15.466666666666667, \"Avg HR\": 118.0, \"Max HR\": 139.0, \"Avg Run Cadence\": 108.0, \"Max Run Cadence\": 131.0, \"Avg Pace\": 11.916666666666666, \"Best Pace\": 0.7833333333333333, \"Elev Gain\": 40.0, \"Elev Loss\": 5.0, \"Avg Stride Length\": 0.77, \"Climb Time\": 15.466666666666667, \"Best Lap Time\": 4.1, \"Number of Laps\": 2.0, \"Target\": 0}, {\"Activity Type\": \"Walking\", \"Date\": \"2020-09-19 12:26:49\", \"Distance\": 1.58, \"Calories\": 81.0, \"Time\": 24.116666666666667, \"Avg HR\": 111.0, \"Max HR\": 120.0, \"Avg Run Cadence\": 94.0, \"Max Run Cadence\": 229.0, \"Avg Pace\": 15.266666666666667, \"Best Pace\": 9.4, \"Elev Gain\": 57.0, \"Elev Loss\": 2.0, \"Avg Stride Length\": 0.7, \"Climb Time\": 24.116666666666667, \"Best Lap Time\": 9.266666666666667, \"Number of Laps\": 2.0, \"Target\": 0}, {\"Activity Type\": \"Walking\", \"Date\": \"2020-09-19 11:57:28\", \"Distance\": 1.42, \"Calories\": 75.0, \"Time\": 19.383333333333333, \"Avg HR\": 112.0, \"Max HR\": 119.0, \"Avg Run Cadence\": 103.0, \"Max Run Cadence\": 132.0, \"Avg Pace\": 13.6, \"Best Pace\": 10.566666666666666, \"Elev Gain\": 86.0, \"Elev Loss\": null, \"Avg Stride Length\": 0.72, \"Climb Time\": 19.383333333333333, \"Best Lap Time\": 6.116666666666666, \"Number of Laps\": 2.0, \"Target\": 0}, {\"Activity Type\": \"Walking\", \"Date\": \"2020-09-19 10:27:23\", \"Distance\": 0.87, \"Calories\": 40.0, \"Time\": 10.85, \"Avg HR\": 109.0, \"Max HR\": 117.0, \"Avg Run Cadence\": 100.0, \"Max Run Cadence\": 135.0, \"Avg Pace\": 12.483333333333333, \"Best Pace\": 3.966666666666667, \"Elev Gain\": null, \"Elev Loss\": 56.0, \"Avg Stride Length\": 0.8, \"Climb Time\": 10.85, \"Best Lap Time\": 10.85, \"Number of Laps\": 1.0, \"Target\": 0}, {\"Activity Type\": \"Walking\", \"Date\": \"2020-09-17 20:36:45\", \"Distance\": 1.66, \"Calories\": 80.0, \"Time\": 26.35, \"Avg HR\": 104.0, \"Max HR\": 111.0, \"Avg Run Cadence\": 78.0, \"Max Run Cadence\": 158.0, \"Avg Pace\": 15.85, \"Best Pace\": 12.316666666666666, \"Elev Gain\": 2.0, \"Elev Loss\": 8.0, \"Avg Stride Length\": 0.81, \"Climb Time\": 26.35, \"Best Lap Time\": 10.35, \"Number of Laps\": 2.0, \"Target\": 0}, {\"Activity Type\": \"Walking\", \"Date\": \"2020-09-17 20:07:43\", \"Distance\": 0.71, \"Calories\": 35.0, \"Time\": 11.466666666666667, \"Avg HR\": 110.0, \"Max HR\": 117.0, \"Avg Run Cadence\": 64.0, \"Max Run Cadence\": 125.0, \"Avg Pace\": 16.166666666666668, \"Best Pace\": 10.766666666666667, \"Elev Gain\": null, \"Elev Loss\": 2.0, \"Avg Stride Length\": 0.97, \"Climb Time\": 11.466666666666667, \"Best Lap Time\": 0.7833333333333333, \"Number of Laps\": 2.0, \"Target\": 0}, {\"Activity Type\": \"Cycling\", \"Date\": \"2020-09-16 19:06:58\", \"Distance\": 3.72, \"Calories\": 68.0, \"Time\": 13.65, \"Avg HR\": 114.0, \"Max HR\": 137.0, \"Avg Run Cadence\": null, \"Max Run Cadence\": null, \"Avg Pace\": 0.27166666666666667, \"Best Pace\": 0.5083333333333333, \"Elev Gain\": 2.0, \"Elev Loss\": 23.0, \"Avg Stride Length\": 0.0, \"Climb Time\": 13.65, \"Best Lap Time\": 13.65, \"Number of Laps\": 1.0, \"Target\": 5}, {\"Activity Type\": \"Walking\", \"Date\": \"2020-09-15 12:08:36\", \"Distance\": 1.5, \"Calories\": 85.0, \"Time\": 20.966666666666665, \"Avg HR\": 119.0, \"Max HR\": 128.0, \"Avg Run Cadence\": 92.0, \"Max Run Cadence\": 129.0, \"Avg Pace\": 13.966666666666667, \"Best Pace\": 6.466666666666667, \"Elev Gain\": 3.0, \"Elev Loss\": null, \"Avg Stride Length\": 0.77, \"Climb Time\": 20.966666666666665, \"Best Lap Time\": 7.55, \"Number of Laps\": 2.0, \"Target\": 0}, {\"Activity Type\": \"Walking\", \"Date\": \"2020-09-15 11:08:29\", \"Distance\": 3.19, \"Calories\": 150.0, \"Time\": 46.21666666666667, \"Avg HR\": 113.0, \"Max HR\": 125.0, \"Avg Run Cadence\": 89.0, \"Max Run Cadence\": 221.0, \"Avg Pace\": 14.5, \"Best Pace\": 12.233333333333333, \"Elev Gain\": 22.0, \"Elev Loss\": null, \"Avg Stride Length\": 0.78, \"Climb Time\": 46.21666666666667, \"Best Lap Time\": 2.6, \"Number of Laps\": 4.0, \"Target\": 0}, {\"Activity Type\": \"Walking\", \"Date\": \"2020-09-14 19:34:21\", \"Distance\": 0.75, \"Calories\": 35.0, \"Time\": 9.5, \"Avg HR\": 101.0, \"Max HR\": 108.0, \"Avg Run Cadence\": 103.0, \"Max Run Cadence\": 137.0, \"Avg Pace\": 12.65, \"Best Pace\": 9.866666666666667, \"Elev Gain\": null, \"Elev Loss\": 10.0, \"Avg Stride Length\": 0.77, \"Climb Time\": 9.5, \"Best Lap Time\": 9.5, \"Number of Laps\": 1.0, \"Target\": 0}, {\"Activity Type\": \"Walking\", \"Date\": \"2020-09-14 16:54:42\", \"Distance\": 1.73, \"Calories\": 82.0, \"Time\": 21.9, \"Avg HR\": 107.0, \"Max HR\": 124.0, \"Avg Run Cadence\": 97.0, \"Max Run Cadence\": 129.0, \"Avg Pace\": 12.65, \"Best Pace\": 8.75, \"Elev Gain\": 6.0, \"Elev Loss\": 30.0, \"Avg Stride Length\": 0.81, \"Climb Time\": 21.9, \"Best Lap Time\": 10.0, \"Number of Laps\": 2.0, \"Target\": 0}, {\"Activity Type\": \"Cycling\", \"Date\": \"2020-09-13 14:05:01\", \"Distance\": 8.21, \"Calories\": 180.0, \"Time\": 39.583333333333336, \"Avg HR\": 114.0, \"Max HR\": 147.0, \"Avg Run Cadence\": null, \"Max Run Cadence\": null, \"Avg Pace\": 0.20666666666666667, \"Best Pace\": 0.36166666666666664, \"Elev Gain\": 8.0, \"Elev Loss\": 9.0, \"Avg Stride Length\": 0.0, \"Climb Time\": 39.583333333333336, \"Best Lap Time\": 12.433333333333334, \"Number of Laps\": 2.0, \"Target\": 5}, {\"Activity Type\": \"Cycling\", \"Date\": \"2020-09-13 13:00:59\", \"Distance\": 8.04, \"Calories\": 172.0, \"Time\": 27.416666666666668, \"Avg HR\": 129.0, \"Max HR\": 156.0, \"Avg Run Cadence\": null, \"Max Run Cadence\": null, \"Avg Pace\": 0.29333333333333333, \"Best Pace\": 0.4166666666666667, \"Elev Gain\": 10.0, \"Elev Loss\": 73.0, \"Avg Stride Length\": 0.0, \"Climb Time\": 27.416666666666668, \"Best Lap Time\": 11.016666666666667, \"Number of Laps\": 2.0, \"Target\": 5}, {\"Activity Type\": \"Cycling\", \"Date\": \"2020-09-12 15:52:06\", \"Distance\": 5.87, \"Calories\": 142.0, \"Time\": 22.033333333333335, \"Avg HR\": 130.0, \"Max HR\": 160.0, \"Avg Run Cadence\": null, \"Max Run Cadence\": null, \"Avg Pace\": 0.26666666666666666, \"Best Pace\": 0.5083333333333333, \"Elev Gain\": 16.0, \"Elev Loss\": 5.0, \"Avg Stride Length\": 0.0, \"Climb Time\": 22.033333333333335, \"Best Lap Time\": 4.033333333333333, \"Number of Laps\": 2.0, \"Target\": 5}, {\"Activity Type\": \"Walking\", \"Date\": \"2020-09-08 16:20:35\", \"Distance\": 1.13, \"Calories\": 59.0, \"Time\": 13.3, \"Avg HR\": 117.0, \"Max HR\": 133.0, \"Avg Run Cadence\": 104.0, \"Max Run Cadence\": 159.0, \"Avg Pace\": 11.816666666666666, \"Best Pace\": 7.933333333333334, \"Elev Gain\": 2.0, \"Elev Loss\": 29.0, \"Avg Stride Length\": 0.82, \"Climb Time\": 13.3, \"Best Lap Time\": 1.45, \"Number of Laps\": 2.0, \"Target\": 0}, {\"Activity Type\": \"Walking\", \"Date\": \"2020-09-06 09:32:52\", \"Distance\": 14.04, \"Calories\": 773.0, \"Time\": 194.36666666666667, \"Avg HR\": 109.0, \"Max HR\": 158.0, \"Avg Run Cadence\": 86.0, \"Max Run Cadence\": 239.0, \"Avg Pace\": 13.85, \"Best Pace\": 5.966666666666667, \"Elev Gain\": 429.0, \"Elev Loss\": 434.0, \"Avg Stride Length\": 0.85, \"Climb Time\": 194.36666666666667, \"Best Lap Time\": 0.3333333333333333, \"Number of Laps\": 15.0, \"Target\": 0}, {\"Activity Type\": \"Cycling\", \"Date\": \"2020-09-05 19:19:13\", \"Distance\": 4.14, \"Calories\": 75.0, \"Time\": 14.25, \"Avg HR\": 117.0, \"Max HR\": 131.0, \"Avg Run Cadence\": null, \"Max Run Cadence\": null, \"Avg Pace\": 0.29, \"Best Pace\": 0.5083333333333333, \"Elev Gain\": 80.0, \"Elev Loss\": 5.0, \"Avg Stride Length\": 0.0, \"Climb Time\": 14.25, \"Best Lap Time\": 14.233333333333333, \"Number of Laps\": 1.0, \"Target\": 5}, {\"Activity Type\": \"Cycling\", \"Date\": \"2020-09-05 13:36:55\", \"Distance\": 44.43, \"Calories\": 966.0, \"Time\": 175.61666666666667, \"Avg HR\": 132.0, \"Max HR\": 177.0, \"Avg Run Cadence\": null, \"Max Run Cadence\": null, \"Avg Pace\": 0.2533333333333333, \"Best Pace\": 0.4116666666666667, \"Elev Gain\": 137.0, \"Elev Loss\": 129.0, \"Avg Stride Length\": 0.0, \"Climb Time\": 175.61666666666667, \"Best Lap Time\": 17.583333333333332, \"Number of Laps\": 9.0, \"Target\": 5}, {\"Activity Type\": \"Cycling\", \"Date\": \"2020-09-05 12:05:56\", \"Distance\": 4.28, \"Calories\": 105.0, \"Time\": 15.4, \"Avg HR\": 132.0, \"Max HR\": 150.0, \"Avg Run Cadence\": null, \"Max Run Cadence\": null, \"Avg Pace\": 0.2783333333333333, \"Best Pace\": 0.4166666666666667, \"Elev Gain\": 6.0, \"Elev Loss\": 35.0, \"Avg Stride Length\": 0.0, \"Climb Time\": 15.4, \"Best Lap Time\": 15.383333333333333, \"Number of Laps\": 1.0, \"Target\": 5}, {\"Activity Type\": \"Cycling\", \"Date\": \"2020-09-03 13:59:44\", \"Distance\": 23.38, \"Calories\": 476.0, \"Time\": 95.1, \"Avg HR\": 123.0, \"Max HR\": 149.0, \"Avg Run Cadence\": null, \"Max Run Cadence\": null, \"Avg Pace\": 0.24666666666666667, \"Best Pace\": 0.39333333333333337, \"Elev Gain\": 61.0, \"Elev Loss\": 13.0, \"Avg Stride Length\": 0.0, \"Climb Time\": 95.1, \"Best Lap Time\": 13.2, \"Number of Laps\": 5.0, \"Target\": 5}, {\"Activity Type\": \"Walking\", \"Date\": \"2020-08-15 11:40:53\", \"Distance\": 2.06, \"Calories\": 62.0, \"Time\": 17.216666666666665, \"Avg HR\": 103.0, \"Max HR\": 116.0, \"Avg Run Cadence\": 82.0, \"Max Run Cadence\": 131.0, \"Avg Pace\": 8.366666666666667, \"Best Pace\": 1.45, \"Elev Gain\": 21.0, \"Elev Loss\": 2.0, \"Avg Stride Length\": 3.29, \"Climb Time\": 17.216666666666665, \"Best Lap Time\": 0.06666666666666667, \"Number of Laps\": 3.0, \"Target\": 0}, {\"Activity Type\": \"Walking\", \"Date\": \"2020-08-15 09:49:24\", \"Distance\": 1.12, \"Calories\": 76.0, \"Time\": 12.65, \"Avg HR\": 134.0, \"Max HR\": 154.0, \"Avg Run Cadence\": 107.0, \"Max Run Cadence\": 190.0, \"Avg Pace\": 11.3, \"Best Pace\": 5.683333333333334, \"Elev Gain\": 2.0, \"Elev Loss\": null, \"Avg Stride Length\": 0.83, \"Climb Time\": 12.65, \"Best Lap Time\": 1.6, \"Number of Laps\": 2.0, \"Target\": 0}, {\"Activity Type\": \"Cycling\", \"Date\": \"2020-08-10 14:56:56\", \"Distance\": 2.35, \"Calories\": 62.0, \"Time\": 8.933333333333334, \"Avg HR\": 132.0, \"Max HR\": 146.0, \"Avg Run Cadence\": null, \"Max Run Cadence\": null, \"Avg Pace\": 0.26333333333333336, \"Best Pace\": 0.33166666666666667, \"Elev Gain\": null, \"Elev Loss\": null, \"Avg Stride Length\": 0.0, \"Climb Time\": 8.933333333333334, \"Best Lap Time\": 8.933333333333334, \"Number of Laps\": 1.0, \"Target\": 5}, {\"Activity Type\": \"Swimming\", \"Date\": \"2020-08-10 14:16:29\", \"Distance\": 111.0, \"Calories\": 114.0, \"Time\": 18.183333333333334, \"Avg HR\": 126.0, \"Max HR\": 153.0, \"Avg Run Cadence\": null, \"Max Run Cadence\": null, \"Avg Pace\": 16.333333333333332, \"Best Pace\": 0.95, \"Elev Gain\": null, \"Elev Loss\": null, \"Avg Stride Length\": 0.0, \"Climb Time\": 18.183333333333334, \"Best Lap Time\": 18.166666666666668, \"Number of Laps\": 1.0, \"Target\": 6}, {\"Activity Type\": \"Cycling\", \"Date\": \"2020-08-10 13:57:45\", \"Distance\": 2.24, \"Calories\": 48.0, \"Time\": 9.316666666666666, \"Avg HR\": 115.0, \"Max HR\": 126.0, \"Avg Run Cadence\": null, \"Max Run Cadence\": null, \"Avg Pace\": 0.24000000000000002, \"Best Pace\": 0.315, \"Elev Gain\": 2.0, \"Elev Loss\": 32.0, \"Avg Stride Length\": 0.0, \"Climb Time\": 9.316666666666666, \"Best Lap Time\": 9.316666666666666, \"Number of Laps\": 1.0, \"Target\": 5}, {\"Activity Type\": \"Cycling\", \"Date\": \"2020-08-09 08:32:48\", \"Distance\": 2.82, \"Calories\": 71.0, \"Time\": 11.333333333333334, \"Avg HR\": 126.0, \"Max HR\": 153.0, \"Avg Run Cadence\": null, \"Max Run Cadence\": null, \"Avg Pace\": 0.24833333333333335, \"Best Pace\": 0.345, \"Elev Gain\": 11.0, \"Elev Loss\": 21.0, \"Avg Stride Length\": 0.0, \"Climb Time\": 11.333333333333334, \"Best Lap Time\": 11.333333333333334, \"Number of Laps\": 1.0, \"Target\": 5}, {\"Activity Type\": \"Cycling\", \"Date\": \"2020-08-08 14:36:31\", \"Distance\": 2.21, \"Calories\": 58.0, \"Time\": 8.666666666666666, \"Avg HR\": 129.0, \"Max HR\": 141.0, \"Avg Run Cadence\": null, \"Max Run Cadence\": null, \"Avg Pace\": 0.255, \"Best Pace\": 0.33166666666666667, \"Elev Gain\": 6.0, \"Elev Loss\": 31.0, \"Avg Stride Length\": 0.0, \"Climb Time\": 8.666666666666666, \"Best Lap Time\": 8.666666666666666, \"Number of Laps\": 1.0, \"Target\": 5}, {\"Activity Type\": \"Swimming\", \"Date\": \"2020-08-08 14:19:55\", \"Distance\": 50.0, \"Calories\": 67.0, \"Time\": 11.95, \"Avg HR\": 121.0, \"Max HR\": 151.0, \"Avg Run Cadence\": null, \"Max Run Cadence\": null, \"Avg Pace\": 23.816666666666666, \"Best Pace\": 2.4166666666666665, \"Elev Gain\": null, \"Elev Loss\": null, \"Avg Stride Length\": 0.0, \"Climb Time\": 11.95, \"Best Lap Time\": 11.933333333333334, \"Number of Laps\": 1.0, \"Target\": 6}, {\"Activity Type\": \"Swimming\", \"Date\": \"2020-08-08 13:42:31\", \"Distance\": null, \"Calories\": 105.0, \"Time\": 12.316666666666666, \"Avg HR\": 150.0, \"Max HR\": 167.0, \"Avg Run Cadence\": null, \"Max Run Cadence\": null, \"Avg Pace\": 60.0, \"Best Pace\": null, \"Elev Gain\": null, \"Elev Loss\": null, \"Avg Stride Length\": 0.0, \"Climb Time\": 12.316666666666666, \"Best Lap Time\": 12.316666666666666, \"Number of Laps\": 1.0, \"Target\": 6}, {\"Activity Type\": \"Cycling\", \"Date\": \"2020-08-08 13:21:04\", \"Distance\": 2.85, \"Calories\": 59.0, \"Time\": 12.166666666666666, \"Avg HR\": 112.0, \"Max HR\": 130.0, \"Avg Run Cadence\": null, \"Max Run Cadence\": null, \"Avg Pace\": 0.23333333333333334, \"Best Pace\": 0.3283333333333333, \"Elev Gain\": 8.0, \"Elev Loss\": 2.0, \"Avg Stride Length\": 0.0, \"Climb Time\": 12.166666666666666, \"Best Lap Time\": 12.166666666666666, \"Number of Laps\": 1.0, \"Target\": 5}, {\"Activity Type\": \"Cycling\", \"Date\": \"2020-08-07 12:30:45\", \"Distance\": 2.28, \"Calories\": 54.0, \"Time\": 8.0, \"Avg HR\": 129.0, \"Max HR\": 144.0, \"Avg Run Cadence\": null, \"Max Run Cadence\": null, \"Avg Pace\": 0.28500000000000003, \"Best Pace\": 0.34833333333333333, \"Elev Gain\": 5.0, \"Elev Loss\": 39.0, \"Avg Stride Length\": 0.0, \"Climb Time\": 8.0, \"Best Lap Time\": 8.0, \"Number of Laps\": 1.0, \"Target\": 5}, {\"Activity Type\": \"Swimming\", \"Date\": \"2020-08-07 11:49:05\", \"Distance\": 1188.0, \"Calories\": 266.0, \"Time\": 13.216666666666667, \"Avg HR\": 149.0, \"Max HR\": 162.0, \"Avg Run Cadence\": null, \"Max Run Cadence\": null, \"Avg Pace\": 1.1, \"Best Pace\": 0.38333333333333336, \"Elev Gain\": null, \"Elev Loss\": null, \"Avg Stride Length\": 0.0, \"Climb Time\": 13.216666666666667, \"Best Lap Time\": 0.03333333333333333, \"Number of Laps\": 3.0, \"Target\": 6}, {\"Activity Type\": \"Breathwork\", \"Date\": \"2020-08-01 08:38:29\", \"Distance\": 0.0, \"Calories\": 10.0, \"Time\": 11.566666666666666, \"Avg HR\": 63.0, \"Max HR\": 72.0, \"Avg Run Cadence\": null, \"Max Run Cadence\": null, \"Avg Pace\": null, \"Best Pace\": null, \"Elev Gain\": null, \"Elev Loss\": null, \"Avg Stride Length\": 0.0, \"Climb Time\": 11.566666666666666, \"Best Lap Time\": 11.566666666666666, \"Number of Laps\": 1.0, \"Target\": 1}, {\"Activity Type\": \"Walking\", \"Date\": \"2020-07-31 23:07:37\", \"Distance\": 1.4, \"Calories\": 81.0, \"Time\": 16.866666666666667, \"Avg HR\": 126.0, \"Max HR\": 164.0, \"Avg Run Cadence\": 101.0, \"Max Run Cadence\": 184.0, \"Avg Pace\": 12.083333333333334, \"Best Pace\": 5.85, \"Elev Gain\": 58.0, \"Elev Loss\": 6.0, \"Avg Stride Length\": 0.83, \"Climb Time\": 16.866666666666667, \"Best Lap Time\": 5.55, \"Number of Laps\": 2.0, \"Target\": 0}, {\"Activity Type\": \"Running\", \"Date\": \"2020-07-31 22:15:59\", \"Distance\": 8.17, \"Calories\": 471.0, \"Time\": 50.0, \"Avg HR\": 166.0, \"Max HR\": 182.0, \"Avg Run Cadence\": 178.0, \"Max Run Cadence\": 190.0, \"Avg Pace\": 6.116666666666666, \"Best Pace\": 4.933333333333334, \"Elev Gain\": 6.0, \"Elev Loss\": 7.0, \"Avg Stride Length\": 0.92, \"Climb Time\": 50.0, \"Best Lap Time\": 4.433333333333334, \"Number of Laps\": 9.0, \"Target\": 3}, {\"Activity Type\": \"Cycling\", \"Date\": \"2020-07-31 13:45:39\", \"Distance\": 4.59, \"Calories\": 107.0, \"Time\": 17.433333333333334, \"Avg HR\": 125.0, \"Max HR\": 148.0, \"Avg Run Cadence\": null, \"Max Run Cadence\": null, \"Avg Pace\": 0.26333333333333336, \"Best Pace\": 0.36166666666666664, \"Elev Gain\": 7.0, \"Elev Loss\": 4.0, \"Avg Stride Length\": 0.0, \"Climb Time\": 17.433333333333334, \"Best Lap Time\": 17.433333333333334, \"Number of Laps\": 1.0, \"Target\": 5}, {\"Activity Type\": \"Cycling\", \"Date\": \"2020-07-31 08:46:15\", \"Distance\": 4.54, \"Calories\": 112.0, \"Time\": 15.866666666666667, \"Avg HR\": 133.0, \"Max HR\": 150.0, \"Avg Run Cadence\": null, \"Max Run Cadence\": null, \"Avg Pace\": 0.2866666666666667, \"Best Pace\": 0.4166666666666667, \"Elev Gain\": 41.0, \"Elev Loss\": 4.0, \"Avg Stride Length\": 0.0, \"Climb Time\": 15.866666666666667, \"Best Lap Time\": 15.866666666666667, \"Number of Laps\": 1.0, \"Target\": 5}, {\"Activity Type\": \"Strength\", \"Date\": \"2020-07-30 23:44:58\", \"Distance\": 0.0, \"Calories\": null, \"Time\": 0.5, \"Avg HR\": 70.0, \"Max HR\": 75.0, \"Avg Run Cadence\": null, \"Max Run Cadence\": null, \"Avg Pace\": null, \"Best Pace\": null, \"Elev Gain\": null, \"Elev Loss\": null, \"Avg Stride Length\": 0.0, \"Climb Time\": 0.5, \"Best Lap Time\": 0.5, \"Number of Laps\": 1.0, \"Target\": 4}, {\"Activity Type\": \"Breathwork\", \"Date\": \"2020-07-30 11:27:22\", \"Distance\": 0.0, \"Calories\": 12.0, \"Time\": 10.566666666666666, \"Avg HR\": 72.0, \"Max HR\": 81.0, \"Avg Run Cadence\": null, \"Max Run Cadence\": null, \"Avg Pace\": null, \"Best Pace\": null, \"Elev Gain\": null, \"Elev Loss\": null, \"Avg Stride Length\": 0.0, \"Climb Time\": 10.566666666666666, \"Best Lap Time\": 10.566666666666666, \"Number of Laps\": 1.0, \"Target\": 1}, {\"Activity Type\": \"Cycling\", \"Date\": \"2020-07-29 20:15:11\", \"Distance\": 4.13, \"Calories\": 93.0, \"Time\": 15.883333333333333, \"Avg HR\": 121.0, \"Max HR\": 139.0, \"Avg Run Cadence\": null, \"Max Run Cadence\": null, \"Avg Pace\": 0.26, \"Best Pace\": 0.3983333333333333, \"Elev Gain\": 35.0, \"Elev Loss\": 7.0, \"Avg Stride Length\": 0.0, \"Climb Time\": 15.883333333333333, \"Best Lap Time\": 15.883333333333333, \"Number of Laps\": 1.0, \"Target\": 5}, {\"Activity Type\": \"Strength\", \"Date\": \"2020-07-29 18:50:32\", \"Distance\": 0.0, \"Calories\": 478.0, \"Time\": 78.16666666666667, \"Avg HR\": 140.0, \"Max HR\": 176.0, \"Avg Run Cadence\": null, \"Max Run Cadence\": null, \"Avg Pace\": null, \"Best Pace\": null, \"Elev Gain\": null, \"Elev Loss\": null, \"Avg Stride Length\": 0.0, \"Climb Time\": 78.16666666666667, \"Best Lap Time\": 78.15, \"Number of Laps\": 1.0, \"Target\": 4}, {\"Activity Type\": \"Cycling\", \"Date\": \"2020-07-29 18:27:50\", \"Distance\": 4.62, \"Calories\": 110.0, \"Time\": 16.25, \"Avg HR\": 130.0, \"Max HR\": 146.0, \"Avg Run Cadence\": null, \"Max Run Cadence\": null, \"Avg Pace\": 0.28500000000000003, \"Best Pace\": 0.7316666666666667, \"Elev Gain\": 36.0, \"Elev Loss\": 10.0, \"Avg Stride Length\": 0.0, \"Climb Time\": 16.25, \"Best Lap Time\": 16.233333333333334, \"Number of Laps\": 1.0, \"Target\": 5}, {\"Activity Type\": \"Walking\", \"Date\": \"2020-07-28 14:09:53\", \"Distance\": 1.97, \"Calories\": 131.0, \"Time\": 23.5, \"Avg HR\": 131.0, \"Max HR\": 144.0, \"Avg Run Cadence\": 103.0, \"Max Run Cadence\": 137.0, \"Avg Pace\": 11.933333333333334, \"Best Pace\": 9.983333333333333, \"Elev Gain\": 3.0, \"Elev Loss\": 40.0, \"Avg Stride Length\": 0.82, \"Climb Time\": 23.5, \"Best Lap Time\": 11.733333333333333, \"Number of Laps\": 2.0, \"Target\": 0}, {\"Activity Type\": \"Running\", \"Date\": \"2020-07-28 13:20:22\", \"Distance\": 7.0, \"Calories\": 408.0, \"Time\": 41.93333333333333, \"Avg HR\": 170.0, \"Max HR\": 192.0, \"Avg Run Cadence\": 180.0, \"Max Run Cadence\": 190.0, \"Avg Pace\": 5.983333333333333, \"Best Pace\": 5.066666666666666, \"Elev Gain\": 9.0, \"Elev Loss\": 8.0, \"Avg Stride Length\": 0.93, \"Climb Time\": 41.93333333333333, \"Best Lap Time\": 1.4666666666666668, \"Number of Laps\": 9.0, \"Target\": 3}, {\"Activity Type\": \"Running\", \"Date\": \"2020-07-27 13:17:47\", \"Distance\": 9.22, \"Calories\": 556.0, \"Time\": 55.45, \"Avg HR\": 171.0, \"Max HR\": 194.0, \"Avg Run Cadence\": 180.0, \"Max Run Cadence\": 190.0, \"Avg Pace\": 6.016666666666667, \"Best Pace\": 4.366666666666666, \"Elev Gain\": 9.0, \"Elev Loss\": 5.0, \"Avg Stride Length\": 0.92, \"Climb Time\": 55.45, \"Best Lap Time\": 3.0166666666666666, \"Number of Laps\": 10.0, \"Target\": 3}, {\"Activity Type\": \"Walking\", \"Date\": \"2020-07-26 19:09:01\", \"Distance\": 0.88, \"Calories\": 44.0, \"Time\": 10.733333333333333, \"Avg HR\": 105.0, \"Max HR\": 117.0, \"Avg Run Cadence\": 100.0, \"Max Run Cadence\": 137.0, \"Avg Pace\": 12.233333333333333, \"Best Pace\": 8.666666666666666, \"Elev Gain\": 56.0, \"Elev Loss\": null, \"Avg Stride Length\": 0.82, \"Climb Time\": 10.733333333333333, \"Best Lap Time\": 10.716666666666667, \"Number of Laps\": 1.0, \"Target\": 0}, {\"Activity Type\": \"Running\", \"Date\": \"2020-07-26 10:31:47\", \"Distance\": 8.36, \"Calories\": 369.0, \"Time\": 41.1, \"Avg HR\": 161.0, \"Max HR\": 184.0, \"Avg Run Cadence\": 164.0, \"Max Run Cadence\": 178.0, \"Avg Pace\": 4.916666666666667, \"Best Pace\": 3.8, \"Elev Gain\": 44.0, \"Elev Loss\": 15.0, \"Avg Stride Length\": 1.24, \"Climb Time\": 41.1, \"Best Lap Time\": 1.7166666666666668, \"Number of Laps\": 9.0, \"Target\": 3}, {\"Activity Type\": \"Walking\", \"Date\": \"2020-07-23 15:58:59\", \"Distance\": 2.73, \"Calories\": 141.0, \"Time\": 39.28333333333333, \"Avg HR\": 100.0, \"Max HR\": 121.0, \"Avg Run Cadence\": 86.0, \"Max Run Cadence\": 159.0, \"Avg Pace\": 14.4, \"Best Pace\": 7.966666666666667, \"Elev Gain\": 11.0, \"Elev Loss\": null, \"Avg Stride Length\": 0.83, \"Climb Time\": 39.28333333333333, \"Best Lap Time\": 12.6, \"Number of Laps\": 3.0, \"Target\": 0}, {\"Activity Type\": \"Cycling\", \"Date\": \"2020-07-22 20:42:42\", \"Distance\": 4.28, \"Calories\": 65.0, \"Time\": 15.783333333333333, \"Avg HR\": 105.0, \"Max HR\": 140.0, \"Avg Run Cadence\": null, \"Max Run Cadence\": null, \"Avg Pace\": 0.27166666666666667, \"Best Pace\": 0.365, \"Elev Gain\": 7.0, \"Elev Loss\": 2.0, \"Avg Stride Length\": 0.0, \"Climb Time\": 15.783333333333333, \"Best Lap Time\": 15.783333333333333, \"Number of Laps\": 1.0, \"Target\": 5}, {\"Activity Type\": \"Strength\", \"Date\": \"2020-07-22 18:58:40\", \"Distance\": 0.0, \"Calories\": 502.0, \"Time\": 90.4, \"Avg HR\": 135.0, \"Max HR\": 171.0, \"Avg Run Cadence\": null, \"Max Run Cadence\": null, \"Avg Pace\": null, \"Best Pace\": null, \"Elev Gain\": null, \"Elev Loss\": null, \"Avg Stride Length\": 0.0, \"Climb Time\": 90.4, \"Best Lap Time\": 90.4, \"Number of Laps\": 1.0, \"Target\": 4}, {\"Activity Type\": \"Cycling\", \"Date\": \"2020-07-22 18:27:05\", \"Distance\": 4.34, \"Calories\": 83.0, \"Time\": 14.15, \"Avg HR\": 123.0, \"Max HR\": 154.0, \"Avg Run Cadence\": null, \"Max Run Cadence\": null, \"Avg Pace\": 0.30666666666666664, \"Best Pace\": 0.445, \"Elev Gain\": 5.0, \"Elev Loss\": 6.0, \"Avg Stride Length\": 0.0, \"Climb Time\": 14.15, \"Best Lap Time\": 14.15, \"Number of Laps\": 1.0, \"Target\": 5}, {\"Activity Type\": \"Running\", \"Date\": \"2020-07-21 09:54:14\", \"Distance\": 21.12, \"Calories\": 1182.0, \"Time\": 136.25, \"Avg HR\": 167.0, \"Max HR\": 181.0, \"Avg Run Cadence\": 180.0, \"Max Run Cadence\": 201.0, \"Avg Pace\": 6.45, \"Best Pace\": 5.433333333333334, \"Elev Gain\": 38.0, \"Elev Loss\": 47.0, \"Avg Stride Length\": 0.86, \"Climb Time\": 136.25, \"Best Lap Time\": 2.033333333333333, \"Number of Laps\": 23.0, \"Target\": 3}, {\"Activity Type\": \"Walking\", \"Date\": \"2020-07-20 16:39:56\", \"Distance\": 1.96, \"Calories\": 91.0, \"Time\": 23.1, \"Avg HR\": 106.0, \"Max HR\": 116.0, \"Avg Run Cadence\": 85.0, \"Max Run Cadence\": 137.0, \"Avg Pace\": 11.8, \"Best Pace\": 8.933333333333334, \"Elev Gain\": 6.0, \"Elev Loss\": 22.0, \"Avg Stride Length\": 1.0, \"Climb Time\": 23.1, \"Best Lap Time\": 11.4, \"Number of Laps\": 2.0, \"Target\": 0}, {\"Activity Type\": \"Running\", \"Date\": \"2020-07-20 11:02:14\", \"Distance\": 8.0, \"Calories\": 466.0, \"Time\": 50.8, \"Avg HR\": 170.0, \"Max HR\": 187.0, \"Avg Run Cadence\": 178.0, \"Max Run Cadence\": 193.0, \"Avg Pace\": 6.35, \"Best Pace\": 4.933333333333334, \"Elev Gain\": 12.0, \"Elev Loss\": 16.0, \"Avg Stride Length\": 0.88, \"Climb Time\": 50.8, \"Best Lap Time\": 0.5, \"Number of Laps\": 22.0, \"Target\": 3}, {\"Activity Type\": \"Strength\", \"Date\": \"2020-07-20 02:00:01\", \"Distance\": 0.0, \"Calories\": null, \"Time\": 1.2833333333333332, \"Avg HR\": 73.0, \"Max HR\": 87.0, \"Avg Run Cadence\": null, \"Max Run Cadence\": null, \"Avg Pace\": null, \"Best Pace\": null, \"Elev Gain\": null, \"Elev Loss\": null, \"Avg Stride Length\": 0.0, \"Climb Time\": 1.2833333333333332, \"Best Lap Time\": 1.2833333333333332, \"Number of Laps\": 1.0, \"Target\": 4}, {\"Activity Type\": \"Walking\", \"Date\": \"2020-07-19 19:22:42\", \"Distance\": 7.81, \"Calories\": 379.0, \"Time\": 115.28333333333333, \"Avg HR\": 97.0, \"Max HR\": 133.0, \"Avg Run Cadence\": 71.0, \"Max Run Cadence\": 222.0, \"Avg Pace\": 14.766666666666667, \"Best Pace\": 4.15, \"Elev Gain\": 48.0, \"Elev Loss\": 35.0, \"Avg Stride Length\": 1.08, \"Climb Time\": 115.28333333333333, \"Best Lap Time\": 5.3, \"Number of Laps\": 9.0, \"Target\": 0}, {\"Activity Type\": \"Walking\", \"Date\": \"2020-07-19 18:19:22\", \"Distance\": 2.21, \"Calories\": 112.0, \"Time\": 34.11666666666667, \"Avg HR\": 97.0, \"Max HR\": 107.0, \"Avg Run Cadence\": 75.0, \"Max Run Cadence\": 124.0, \"Avg Pace\": 15.483333333333333, \"Best Pace\": 11.166666666666666, \"Elev Gain\": null, \"Elev Loss\": null, \"Avg Stride Length\": 0.87, \"Climb Time\": 34.11666666666667, \"Best Lap Time\": 2.6833333333333336, \"Number of Laps\": 3.0, \"Target\": 0}, {\"Activity Type\": \"Walking\", \"Date\": \"2020-07-19 15:25:13\", \"Distance\": 2.4, \"Calories\": 120.0, \"Time\": 35.13333333333333, \"Avg HR\": 100.0, \"Max HR\": 117.0, \"Avg Run Cadence\": 60.0, \"Max Run Cadence\": 172.0, \"Avg Pace\": 14.666666666666666, \"Best Pace\": 9.35, \"Elev Gain\": 4.0, \"Elev Loss\": 10.0, \"Avg Stride Length\": 1.18, \"Climb Time\": 35.13333333333333, \"Best Lap Time\": 5.716666666666667, \"Number of Laps\": 3.0, \"Target\": 0}, {\"Activity Type\": \"Walking\", \"Date\": \"2020-07-19 14:25:40\", \"Distance\": 0.75, \"Calories\": 40.0, \"Time\": 10.216666666666667, \"Avg HR\": 102.0, \"Max HR\": 118.0, \"Avg Run Cadence\": 91.0, \"Max Run Cadence\": 124.0, \"Avg Pace\": 13.666666666666666, \"Best Pace\": 10.033333333333333, \"Elev Gain\": 32.0, \"Elev Loss\": 23.0, \"Avg Stride Length\": 0.8, \"Climb Time\": 10.216666666666667, \"Best Lap Time\": 10.2, \"Number of Laps\": 1.0, \"Target\": 0}, {\"Activity Type\": \"Walking\", \"Date\": \"2020-07-18 21:46:04\", \"Distance\": 6.5, \"Calories\": 325.0, \"Time\": 103.41666666666667, \"Avg HR\": 96.0, \"Max HR\": 126.0, \"Avg Run Cadence\": 76.0, \"Max Run Cadence\": 158.0, \"Avg Pace\": 15.916666666666666, \"Best Pace\": 9.2, \"Elev Gain\": 36.0, \"Elev Loss\": 41.0, \"Avg Stride Length\": 0.85, \"Climb Time\": 103.41666666666667, \"Best Lap Time\": 8.166666666666666, \"Number of Laps\": 7.0, \"Target\": 0}, {\"Activity Type\": \"Walking\", \"Date\": \"2020-07-18 21:35:30\", \"Distance\": 0.69, \"Calories\": 37.0, \"Time\": 10.366666666666667, \"Avg HR\": 99.0, \"Max HR\": 110.0, \"Avg Run Cadence\": 88.0, \"Max Run Cadence\": 123.0, \"Avg Pace\": 15.116666666666667, \"Best Pace\": 10.7, \"Elev Gain\": 37.0, \"Elev Loss\": 8.0, \"Avg Stride Length\": 0.75, \"Climb Time\": 10.366666666666667, \"Best Lap Time\": 10.366666666666667, \"Number of Laps\": 1.0, \"Target\": 0}, {\"Activity Type\": \"Walking\", \"Date\": \"2020-07-18 11:33:35\", \"Distance\": 1.4, \"Calories\": 63.0, \"Time\": 16.966666666666665, \"Avg HR\": 110.0, \"Max HR\": 116.0, \"Avg Run Cadence\": 87.0, \"Max Run Cadence\": 134.0, \"Avg Pace\": 12.116666666666667, \"Best Pace\": 2.283333333333333, \"Elev Gain\": null, \"Elev Loss\": 16.0, \"Avg Stride Length\": 0.95, \"Climb Time\": 16.966666666666665, \"Best Lap Time\": 4.55, \"Number of Laps\": 2.0, \"Target\": 0}, {\"Activity Type\": \"Running\", \"Date\": \"2020-07-18 10:30:51\", \"Distance\": 7.04, \"Calories\": 380.0, \"Time\": 48.0, \"Avg HR\": 158.0, \"Max HR\": 185.0, \"Avg Run Cadence\": 179.0, \"Max Run Cadence\": 193.0, \"Avg Pace\": 6.816666666666666, \"Best Pace\": 4.616666666666667, \"Elev Gain\": 5.0, \"Elev Loss\": 5.0, \"Avg Stride Length\": 0.82, \"Climb Time\": 48.0, \"Best Lap Time\": 0.06666666666666667, \"Number of Laps\": 24.0, \"Target\": 3}, {\"Activity Type\": \"Walking\", \"Date\": \"2020-07-17 20:37:32\", \"Distance\": 1.0, \"Calories\": 60.0, \"Time\": 15.533333333333333, \"Avg HR\": 101.0, \"Max HR\": 113.0, \"Avg Run Cadence\": 67.0, \"Max Run Cadence\": 246.0, \"Avg Pace\": 15.6, \"Best Pace\": 5.683333333333334, \"Elev Gain\": 19.0, \"Elev Loss\": null, \"Avg Stride Length\": 0.96, \"Climb Time\": 15.533333333333333, \"Best Lap Time\": 15.516666666666667, \"Number of Laps\": 1.0, \"Target\": 0}, {\"Activity Type\": \"Running\", \"Date\": \"2020-07-16 12:13:01\", \"Distance\": 10.02, \"Calories\": 533.0, \"Time\": 68.85, \"Avg HR\": 152.0, \"Max HR\": 177.0, \"Avg Run Cadence\": 178.0, \"Max Run Cadence\": 194.0, \"Avg Pace\": 6.866666666666667, \"Best Pace\": 5.233333333333333, \"Elev Gain\": 10.0, \"Elev Loss\": 9.0, \"Avg Stride Length\": 0.82, \"Climb Time\": 68.85, \"Best Lap Time\": 0.5166666666666667, \"Number of Laps\": 12.0, \"Target\": 3}, {\"Activity Type\": \"Cycling\", \"Date\": \"2020-07-15 20:07:16\", \"Distance\": 3.13, \"Calories\": 71.0, \"Time\": 12.566666666666666, \"Avg HR\": 122.0, \"Max HR\": 145.0, \"Avg Run Cadence\": null, \"Max Run Cadence\": null, \"Avg Pace\": 0.24833333333333335, \"Best Pace\": 0.3733333333333333, \"Elev Gain\": 9.0, \"Elev Loss\": 31.0, \"Avg Stride Length\": 0.0, \"Climb Time\": 12.566666666666666, \"Best Lap Time\": 12.55, \"Number of Laps\": 1.0, \"Target\": 5}, {\"Activity Type\": \"Strength\", \"Date\": \"2020-07-15 18:54:42\", \"Distance\": 0.0, \"Calories\": 362.0, \"Time\": 65.16666666666667, \"Avg HR\": 135.0, \"Max HR\": 170.0, \"Avg Run Cadence\": null, \"Max Run Cadence\": null, \"Avg Pace\": null, \"Best Pace\": null, \"Elev Gain\": null, \"Elev Loss\": null, \"Avg Stride Length\": 0.0, \"Climb Time\": 65.16666666666667, \"Best Lap Time\": 65.16666666666667, \"Number of Laps\": 1.0, \"Target\": 4}, {\"Activity Type\": \"Cycling\", \"Date\": \"2020-07-15 18:30:26\", \"Distance\": 4.28, \"Calories\": 98.0, \"Time\": 15.15, \"Avg HR\": 129.0, \"Max HR\": 142.0, \"Avg Run Cadence\": null, \"Max Run Cadence\": null, \"Avg Pace\": 0.2833333333333333, \"Best Pace\": 0.47833333333333333, \"Elev Gain\": 6.0, \"Elev Loss\": 22.0, \"Avg Stride Length\": 0.0, \"Climb Time\": 15.15, \"Best Lap Time\": 15.15, \"Number of Laps\": 1.0, \"Target\": 5}, {\"Activity Type\": \"Walking\", \"Date\": \"2020-07-15 14:49:33\", \"Distance\": 0.55, \"Calories\": 33.0, \"Time\": 10.116666666666667, \"Avg HR\": 104.0, \"Max HR\": 122.0, \"Avg Run Cadence\": 55.0, \"Max Run Cadence\": 158.0, \"Avg Pace\": 18.516666666666666, \"Best Pace\": 9.016666666666667, \"Elev Gain\": 6.0, \"Elev Loss\": 11.0, \"Avg Stride Length\": 0.98, \"Climb Time\": 10.116666666666667, \"Best Lap Time\": 10.116666666666667, \"Number of Laps\": 1.0, \"Target\": 0}, {\"Activity Type\": \"Walking\", \"Date\": \"2020-07-15 13:14:06\", \"Distance\": 0.77, \"Calories\": 47.0, \"Time\": 16.7, \"Avg HR\": 93.0, \"Max HR\": 112.0, \"Avg Run Cadence\": 38.0, \"Max Run Cadence\": 148.0, \"Avg Pace\": 21.7, \"Best Pace\": 10.566666666666666, \"Elev Gain\": 2.0, \"Elev Loss\": 64.0, \"Avg Stride Length\": 1.22, \"Climb Time\": 16.7, \"Best Lap Time\": 16.7, \"Number of Laps\": 1.0, \"Target\": 0}, {\"Activity Type\": \"Walking\", \"Date\": \"2020-07-15 10:34:07\", \"Distance\": 1.91, \"Calories\": 91.0, \"Time\": 23.5, \"Avg HR\": 110.0, \"Max HR\": 127.0, \"Avg Run Cadence\": 90.0, \"Max Run Cadence\": 129.0, \"Avg Pace\": 12.283333333333333, \"Best Pace\": 9.5, \"Elev Gain\": 8.0, \"Elev Loss\": null, \"Avg Stride Length\": 0.92, \"Climb Time\": 23.5, \"Best Lap Time\": 11.55, \"Number of Laps\": 2.0, \"Target\": 0}, {\"Activity Type\": \"Running\", \"Date\": \"2020-07-14 21:19:48\", \"Distance\": 0.27, \"Calories\": 15.0, \"Time\": 1.6166666666666667, \"Avg HR\": 168.0, \"Max HR\": 179.0, \"Avg Run Cadence\": 172.0, \"Max Run Cadence\": 188.0, \"Avg Pace\": 6.133333333333334, \"Best Pace\": 5.6, \"Elev Gain\": null, \"Elev Loss\": null, \"Avg Stride Length\": 0.95, \"Climb Time\": 1.6166666666666667, \"Best Lap Time\": 1.6166666666666667, \"Number of Laps\": 1.0, \"Target\": 3}, {\"Activity Type\": \"Running\", \"Date\": \"2020-07-14 20:22:59\", \"Distance\": 9.06, \"Calories\": 473.0, \"Time\": 55.96666666666667, \"Avg HR\": 161.0, \"Max HR\": 189.0, \"Avg Run Cadence\": 180.0, \"Max Run Cadence\": 194.0, \"Avg Pace\": 6.183333333333334, \"Best Pace\": 3.6166666666666667, \"Elev Gain\": 6.0, \"Elev Loss\": 4.0, \"Avg Stride Length\": 0.9, \"Climb Time\": 55.96666666666667, \"Best Lap Time\": 0.5, \"Number of Laps\": 23.0, \"Target\": 3}, {\"Activity Type\": \"Cycling\", \"Date\": \"2020-07-14 19:03:39\", \"Distance\": 2.69, \"Calories\": 45.0, \"Time\": 10.583333333333334, \"Avg HR\": 109.0, \"Max HR\": 124.0, \"Avg Run Cadence\": null, \"Max Run Cadence\": null, \"Avg Pace\": 0.255, \"Best Pace\": 0.38666666666666666, \"Elev Gain\": 2.0, \"Elev Loss\": null, \"Avg Stride Length\": 0.0, \"Climb Time\": 10.583333333333334, \"Best Lap Time\": 10.583333333333334, \"Number of Laps\": 1.0, \"Target\": 5}, {\"Activity Type\": \"Cycling\", \"Date\": \"2020-07-14 16:48:01\", \"Distance\": 2.63, \"Calories\": 51.0, \"Time\": 9.966666666666667, \"Avg HR\": 115.0, \"Max HR\": 128.0, \"Avg Run Cadence\": null, \"Max Run Cadence\": null, \"Avg Pace\": 0.26333333333333336, \"Best Pace\": 0.3733333333333333, \"Elev Gain\": null, \"Elev Loss\": 51.0, \"Avg Stride Length\": 0.0, \"Climb Time\": 9.966666666666667, \"Best Lap Time\": 9.966666666666667, \"Number of Laps\": 1.0, \"Target\": 5}, {\"Activity Type\": \"Walking\", \"Date\": \"2020-07-13 19:45:19\", \"Distance\": 1.07, \"Calories\": 79.0, \"Time\": 19.416666666666668, \"Avg HR\": 110.0, \"Max HR\": 150.0, \"Avg Run Cadence\": 84.0, \"Max Run Cadence\": 154.0, \"Avg Pace\": 18.083333333333332, \"Best Pace\": 0.95, \"Elev Gain\": 14.0, \"Elev Loss\": 37.0, \"Avg Stride Length\": 0.62, \"Climb Time\": 19.416666666666668, \"Best Lap Time\": 0.06666666666666667, \"Number of Laps\": 2.0, \"Target\": 0}, {\"Activity Type\": \"Walking\", \"Date\": \"2020-07-13 18:02:25\", \"Distance\": 0.87, \"Calories\": 47.0, \"Time\": 15.05, \"Avg HR\": 97.0, \"Max HR\": 119.0, \"Avg Run Cadence\": 40.0, \"Max Run Cadence\": 122.0, \"Avg Pace\": 17.266666666666666, \"Best Pace\": 10.266666666666667, \"Elev Gain\": 7.0, \"Elev Loss\": null, \"Avg Stride Length\": 1.46, \"Climb Time\": 15.05, \"Best Lap Time\": 15.05, \"Number of Laps\": 1.0, \"Target\": 0}, {\"Activity Type\": \"Cycling\", \"Date\": \"2020-07-12 13:47:16\", \"Distance\": 4.11, \"Calories\": 116.0, \"Time\": 15.35, \"Avg HR\": 142.0, \"Max HR\": 163.0, \"Avg Run Cadence\": null, \"Max Run Cadence\": null, \"Avg Pace\": 0.26833333333333337, \"Best Pace\": 0.47, \"Elev Gain\": 34.0, \"Elev Loss\": 8.0, \"Avg Stride Length\": 0.0, \"Climb Time\": 15.35, \"Best Lap Time\": 15.333333333333334, \"Number of Laps\": 1.0, \"Target\": 5}, {\"Activity Type\": \"Running\", \"Date\": \"2020-07-12 11:15:23\", \"Distance\": 10.75, \"Calories\": 611.0, \"Time\": 69.46666666666667, \"Avg HR\": 166.0, \"Max HR\": 183.0, \"Avg Run Cadence\": 179.0, \"Max Run Cadence\": 191.0, \"Avg Pace\": 6.466666666666667, \"Best Pace\": 5.466666666666667, \"Elev Gain\": 18.0, \"Elev Loss\": 13.0, \"Avg Stride Length\": 0.86, \"Climb Time\": 69.46666666666667, \"Best Lap Time\": 0.13333333333333333, \"Number of Laps\": 13.0, \"Target\": 3}, {\"Activity Type\": \"Walking\", \"Date\": \"2020-07-11 20:44:56\", \"Distance\": 1.97, \"Calories\": 112.0, \"Time\": 28.233333333333334, \"Avg HR\": 116.0, \"Max HR\": 129.0, \"Avg Run Cadence\": 80.0, \"Max Run Cadence\": 244.0, \"Avg Pace\": 14.333333333333334, \"Best Pace\": 9.7, \"Elev Gain\": 4.0, \"Elev Loss\": 34.0, \"Avg Stride Length\": 0.89, \"Climb Time\": 28.233333333333334, \"Best Lap Time\": 12.6, \"Number of Laps\": 2.0, \"Target\": 0}, {\"Activity Type\": \"Walking\", \"Date\": \"2020-07-10 19:58:11\", \"Distance\": 5.4, \"Calories\": 261.0, \"Time\": 73.26666666666667, \"Avg HR\": 112.0, \"Max HR\": 128.0, \"Avg Run Cadence\": 91.0, \"Max Run Cadence\": 246.0, \"Avg Pace\": 13.583333333333334, \"Best Pace\": 8.933333333333334, \"Elev Gain\": 2.0, \"Elev Loss\": 8.0, \"Avg Stride Length\": 0.82, \"Climb Time\": 73.26666666666667, \"Best Lap Time\": 4.683333333333334, \"Number of Laps\": 6.0, \"Target\": 0}, {\"Activity Type\": \"Walking\", \"Date\": \"2020-07-10 19:35:21\", \"Distance\": 1.55, \"Calories\": 76.0, \"Time\": 20.566666666666666, \"Avg HR\": 109.0, \"Max HR\": 120.0, \"Avg Run Cadence\": 97.0, \"Max Run Cadence\": 241.0, \"Avg Pace\": 13.233333333333333, \"Best Pace\": 6.133333333333334, \"Elev Gain\": 76.0, \"Elev Loss\": 70.0, \"Avg Stride Length\": 0.78, \"Climb Time\": 20.566666666666666, \"Best Lap Time\": 7.083333333333333, \"Number of Laps\": 2.0, \"Target\": 0}, {\"Activity Type\": \"Running\", \"Date\": \"2020-07-09 14:58:18\", \"Distance\": 9.37, \"Calories\": 530.0, \"Time\": 62.13333333333333, \"Avg HR\": 165.0, \"Max HR\": 191.0, \"Avg Run Cadence\": 178.0, \"Max Run Cadence\": 195.0, \"Avg Pace\": 6.633333333333333, \"Best Pace\": 5.0, \"Elev Gain\": 6.0, \"Elev Loss\": 49.0, \"Avg Stride Length\": 0.84, \"Climb Time\": 62.13333333333333, \"Best Lap Time\": 1.7333333333333334, \"Number of Laps\": 11.0, \"Target\": 3}, {\"Activity Type\": \"Walking\", \"Date\": \"2020-07-08 23:43:14\", \"Distance\": 1.78, \"Calories\": 87.0, \"Time\": 22.9, \"Avg HR\": 109.0, \"Max HR\": 153.0, \"Avg Run Cadence\": 29.0, \"Max Run Cadence\": 247.0, \"Avg Pace\": 12.866666666666667, \"Best Pace\": 0.8833333333333333, \"Elev Gain\": 4.0, \"Elev Loss\": 10.0, \"Avg Stride Length\": 2.81, \"Climb Time\": 22.9, \"Best Lap Time\": 9.766666666666667, \"Number of Laps\": 2.0, \"Target\": 0}, {\"Activity Type\": \"Walking\", \"Date\": \"2020-07-08 22:00:36\", \"Distance\": 1.21, \"Calories\": 60.0, \"Time\": 20.15, \"Avg HR\": 101.0, \"Max HR\": 110.0, \"Avg Run Cadence\": 69.0, \"Max Run Cadence\": 113.0, \"Avg Pace\": 16.666666666666668, \"Best Pace\": 0.95, \"Elev Gain\": 13.0, \"Elev Loss\": 2.0, \"Avg Stride Length\": 1.16, \"Climb Time\": 20.15, \"Best Lap Time\": 3.6666666666666665, \"Number of Laps\": 2.0, \"Target\": 0}, {\"Activity Type\": \"Walking\", \"Date\": \"2020-07-08 21:47:40\", \"Distance\": 0.83, \"Calories\": 40.0, \"Time\": 11.5, \"Avg HR\": 111.0, \"Max HR\": 125.0, \"Avg Run Cadence\": 106.0, \"Max Run Cadence\": 122.0, \"Avg Pace\": 13.883333333333333, \"Best Pace\": 10.45, \"Elev Gain\": 4.0, \"Elev Loss\": 20.0, \"Avg Stride Length\": 0.68, \"Climb Time\": 11.5, \"Best Lap Time\": 11.5, \"Number of Laps\": 1.0, \"Target\": 0}, {\"Activity Type\": \"Walking\", \"Date\": \"2020-07-07 21:01:47\", \"Distance\": 2.61, \"Calories\": 147.0, \"Time\": 36.733333333333334, \"Avg HR\": 114.0, \"Max HR\": 135.0, \"Avg Run Cadence\": 91.0, \"Max Run Cadence\": 228.0, \"Avg Pace\": 14.083333333333334, \"Best Pace\": 6.2, \"Elev Gain\": 7.0, \"Elev Loss\": 121.0, \"Avg Stride Length\": 0.79, \"Climb Time\": 36.733333333333334, \"Best Lap Time\": 7.2, \"Number of Laps\": 3.0, \"Target\": 0}, {\"Activity Type\": \"Walking\", \"Date\": \"2020-07-06 13:31:18\", \"Distance\": 1.43, \"Calories\": 76.0, \"Time\": 20.75, \"Avg HR\": 108.0, \"Max HR\": 120.0, \"Avg Run Cadence\": 77.0, \"Max Run Cadence\": 225.0, \"Avg Pace\": 14.55, \"Best Pace\": 9.4, \"Elev Gain\": 11.0, \"Elev Loss\": 34.0, \"Avg Stride Length\": 0.89, \"Climb Time\": 20.75, \"Best Lap Time\": 7.233333333333333, \"Number of Laps\": 2.0, \"Target\": 0}, {\"Activity Type\": \"Walking\", \"Date\": \"2020-07-06 12:09:30\", \"Distance\": 0.95, \"Calories\": 44.0, \"Time\": 14.083333333333334, \"Avg HR\": 96.0, \"Max HR\": 122.0, \"Avg Run Cadence\": 60.0, \"Max Run Cadence\": 137.0, \"Avg Pace\": 14.783333333333333, \"Best Pace\": 9.25, \"Elev Gain\": 11.0, \"Elev Loss\": 2.0, \"Avg Stride Length\": 1.13, \"Climb Time\": 14.083333333333334, \"Best Lap Time\": 14.083333333333334, \"Number of Laps\": 1.0, \"Target\": 0}, {\"Activity Type\": \"Walking\", \"Date\": \"2020-07-06 11:16:13\", \"Distance\": 0.77, \"Calories\": 39.0, \"Time\": 11.966666666666667, \"Avg HR\": 100.0, \"Max HR\": 112.0, \"Avg Run Cadence\": 49.0, \"Max Run Cadence\": 119.0, \"Avg Pace\": 15.516666666666667, \"Best Pace\": 8.883333333333333, \"Elev Gain\": 2.0, \"Elev Loss\": 8.0, \"Avg Stride Length\": 1.32, \"Climb Time\": 11.966666666666667, \"Best Lap Time\": 11.966666666666667, \"Number of Laps\": 1.0, \"Target\": 0}, {\"Activity Type\": \"Walking\", \"Date\": \"2020-07-06 10:39:41\", \"Distance\": 0.85, \"Calories\": 58.0, \"Time\": 16.083333333333332, \"Avg HR\": 105.0, \"Max HR\": 117.0, \"Avg Run Cadence\": 54.0, \"Max Run Cadence\": 155.0, \"Avg Pace\": 19.033333333333335, \"Best Pace\": 1.2666666666666666, \"Elev Gain\": 4.0, \"Elev Loss\": 31.0, \"Avg Stride Length\": 0.97, \"Climb Time\": 16.083333333333332, \"Best Lap Time\": 16.066666666666666, \"Number of Laps\": 1.0, \"Target\": 0}, {\"Activity Type\": \"Walking\", \"Date\": \"2020-07-05 18:30:03\", \"Distance\": 2.92, \"Calories\": 150.0, \"Time\": 44.016666666666666, \"Avg HR\": 104.0, \"Max HR\": 120.0, \"Avg Run Cadence\": 72.0, \"Max Run Cadence\": 135.0, \"Avg Pace\": 15.083333333333334, \"Best Pace\": 1.3833333333333333, \"Elev Gain\": 26.0, \"Elev Loss\": 9.0, \"Avg Stride Length\": 0.93, \"Climb Time\": 44.016666666666666, \"Best Lap Time\": 12.616666666666667, \"Number of Laps\": 3.0, \"Target\": 0}, {\"Activity Type\": \"Walking\", \"Date\": \"2020-07-05 11:53:23\", \"Distance\": 1.63, \"Calories\": 75.0, \"Time\": 21.0, \"Avg HR\": 91.0, \"Max HR\": 99.0, \"Avg Run Cadence\": 66.0, \"Max Run Cadence\": 131.0, \"Avg Pace\": 12.85, \"Best Pace\": 8.466666666666667, \"Elev Gain\": 2.0, \"Elev Loss\": null, \"Avg Stride Length\": 1.24, \"Climb Time\": 21.0, \"Best Lap Time\": 10.1, \"Number of Laps\": 2.0, \"Target\": 0}, {\"Activity Type\": \"Walking\", \"Date\": \"2020-07-04 12:56:47\", \"Distance\": 14.03, \"Calories\": 851.0, \"Time\": 216.23333333333332, \"Avg HR\": 106.0, \"Max HR\": 167.0, \"Avg Run Cadence\": 68.0, \"Max Run Cadence\": 247.0, \"Avg Pace\": 15.4, \"Best Pace\": 5.583333333333333, \"Elev Gain\": 440.0, \"Elev Loss\": 403.0, \"Avg Stride Length\": 0.97, \"Climb Time\": 216.23333333333332, \"Best Lap Time\": 6.233333333333333, \"Number of Laps\": 15.0, \"Target\": 0}, {\"Activity Type\": \"Walking\", \"Date\": \"2020-07-03 18:02:59\", \"Distance\": 0.85, \"Calories\": 58.0, \"Time\": 17.316666666666666, \"Avg HR\": 99.0, \"Max HR\": 110.0, \"Avg Run Cadence\": 63.0, \"Max Run Cadence\": 147.0, \"Avg Pace\": 20.25, \"Best Pace\": 9.116666666666667, \"Elev Gain\": 19.0, \"Elev Loss\": 2.0, \"Avg Stride Length\": 0.78, \"Climb Time\": 17.316666666666666, \"Best Lap Time\": 17.3, \"Number of Laps\": 1.0, \"Target\": 0}, {\"Activity Type\": \"Walking\", \"Date\": \"2020-07-03 10:51:40\", \"Distance\": 21.17, \"Calories\": 1339.0, \"Time\": 328.3333333333333, \"Avg HR\": 110.0, \"Max HR\": 166.0, \"Avg Run Cadence\": 79.0, \"Max Run Cadence\": 248.0, \"Avg Pace\": 15.5, \"Best Pace\": 4.016666666666667, \"Elev Gain\": 722.0, \"Elev Loss\": 922.0, \"Avg Stride Length\": 0.85, \"Climb Time\": 328.3333333333333, \"Best Lap Time\": 1.5, \"Number of Laps\": 22.0, \"Target\": 0}, {\"Activity Type\": \"Walking\", \"Date\": \"2020-07-02 19:19:39\", \"Distance\": 0.99, \"Calories\": 51.0, \"Time\": 13.65, \"Avg HR\": 106.0, \"Max HR\": 121.0, \"Avg Run Cadence\": 83.0, \"Max Run Cadence\": 126.0, \"Avg Pace\": 13.833333333333334, \"Best Pace\": 8.883333333333333, \"Elev Gain\": 4.0, \"Elev Loss\": 12.0, \"Avg Stride Length\": 0.87, \"Climb Time\": 13.65, \"Best Lap Time\": 13.633333333333333, \"Number of Laps\": 1.0, \"Target\": 0}, {\"Activity Type\": \"Walking\", \"Date\": \"2020-07-02 17:45:33\", \"Distance\": 1.46, \"Calories\": 67.0, \"Time\": 19.183333333333334, \"Avg HR\": 97.0, \"Max HR\": 112.0, \"Avg Run Cadence\": 83.0, \"Max Run Cadence\": 225.0, \"Avg Pace\": 13.15, \"Best Pace\": 9.2, \"Elev Gain\": 12.0, \"Elev Loss\": 2.0, \"Avg Stride Length\": 0.92, \"Climb Time\": 19.183333333333334, \"Best Lap Time\": 6.033333333333333, \"Number of Laps\": 2.0, \"Target\": 0}, {\"Activity Type\": \"Walking\", \"Date\": \"2020-07-02 11:39:01\", \"Distance\": 5.01, \"Calories\": 268.0, \"Time\": 73.45, \"Avg HR\": 99.0, \"Max HR\": 140.0, \"Avg Run Cadence\": 82.0, \"Max Run Cadence\": 159.0, \"Avg Pace\": 14.666666666666666, \"Best Pace\": 9.6, \"Elev Gain\": 90.0, \"Elev Loss\": 108.0, \"Avg Stride Length\": 0.83, \"Climb Time\": 73.45, \"Best Lap Time\": 0.16666666666666666, \"Number of Laps\": 6.0, \"Target\": 0}, {\"Activity Type\": \"Yoga\", \"Date\": \"2020-07-01 09:31:08\", \"Distance\": 0.0, \"Calories\": 10.0, \"Time\": 11.566666666666666, \"Avg HR\": 63.0, \"Max HR\": 79.0, \"Avg Run Cadence\": null, \"Max Run Cadence\": null, \"Avg Pace\": null, \"Best Pace\": null, \"Elev Gain\": null, \"Elev Loss\": null, \"Avg Stride Length\": 0.0, \"Climb Time\": 11.566666666666666, \"Best Lap Time\": 11.566666666666666, \"Number of Laps\": 1.0, \"Target\": 7}, {\"Activity Type\": \"Walking\", \"Date\": \"2020-06-30 21:54:17\", \"Distance\": 3.53, \"Calories\": 155.0, \"Time\": 41.31666666666667, \"Avg HR\": 112.0, \"Max HR\": 124.0, \"Avg Run Cadence\": 75.0, \"Max Run Cadence\": 124.0, \"Avg Pace\": 11.716666666666667, \"Best Pace\": 3.783333333333333, \"Elev Gain\": 90.0, \"Elev Loss\": 13.0, \"Avg Stride Length\": 1.13, \"Climb Time\": 41.31666666666667, \"Best Lap Time\": 3.183333333333333, \"Number of Laps\": 4.0, \"Target\": 0}, {\"Activity Type\": \"Cycling\", \"Date\": \"2020-06-30 13:34:44\", \"Distance\": 3.81, \"Calories\": 62.0, \"Time\": 13.716666666666667, \"Avg HR\": 113.0, \"Max HR\": 137.0, \"Avg Run Cadence\": null, \"Max Run Cadence\": null, \"Avg Pace\": 0.2783333333333333, \"Best Pace\": 0.44666666666666666, \"Elev Gain\": 7.0, \"Elev Loss\": 26.0, \"Avg Stride Length\": 0.0, \"Climb Time\": 13.716666666666667, \"Best Lap Time\": 13.7, \"Number of Laps\": 1.0, \"Target\": 5}, {\"Activity Type\": \"Walking\", \"Date\": \"2020-06-29 22:40:03\", \"Distance\": 3.79, \"Calories\": 189.0, \"Time\": 47.95, \"Avg HR\": 102.0, \"Max HR\": 121.0, \"Avg Run Cadence\": 107.0, \"Max Run Cadence\": 135.0, \"Avg Pace\": 12.65, \"Best Pace\": 9.6, \"Elev Gain\": 42.0, \"Elev Loss\": 38.0, \"Avg Stride Length\": 0.74, \"Climb Time\": 47.95, \"Best Lap Time\": 10.266666666666667, \"Number of Laps\": 4.0, \"Target\": 0}, {\"Activity Type\": \"Walking\", \"Date\": \"2020-06-29 21:26:50\", \"Distance\": 1.31, \"Calories\": 67.0, \"Time\": 15.783333333333333, \"Avg HR\": 108.0, \"Max HR\": 126.0, \"Avg Run Cadence\": 97.0, \"Max Run Cadence\": 129.0, \"Avg Pace\": 12.1, \"Best Pace\": 7.833333333333333, \"Elev Gain\": 20.0, \"Elev Loss\": 7.0, \"Avg Stride Length\": 0.85, \"Climb Time\": 15.783333333333333, \"Best Lap Time\": 3.9, \"Number of Laps\": 2.0, \"Target\": 0}, {\"Activity Type\": \"Walking\", \"Date\": \"2020-06-29 20:02:15\", \"Distance\": 0.41, \"Calories\": 20.0, \"Time\": 6.35, \"Avg HR\": 107.0, \"Max HR\": 117.0, \"Avg Run Cadence\": 77.0, \"Max Run Cadence\": 118.0, \"Avg Pace\": 15.316666666666666, \"Best Pace\": 13.233333333333333, \"Elev Gain\": null, \"Elev Loss\": null, \"Avg Stride Length\": 0.85, \"Climb Time\": 6.35, \"Best Lap Time\": 6.35, \"Number of Laps\": 1.0, \"Target\": 0}, {\"Activity Type\": \"Walking\", \"Date\": \"2020-06-29 18:15:45\", \"Distance\": 1.05, \"Calories\": 50.0, \"Time\": 13.75, \"Avg HR\": 107.0, \"Max HR\": 116.0, \"Avg Run Cadence\": 104.0, \"Max Run Cadence\": 118.0, \"Avg Pace\": 13.1, \"Best Pace\": 7.733333333333333, \"Elev Gain\": 15.0, \"Elev Loss\": null, \"Avg Stride Length\": 0.74, \"Climb Time\": 13.75, \"Best Lap Time\": 0.5833333333333334, \"Number of Laps\": 2.0, \"Target\": 0}, {\"Activity Type\": \"Walking\", \"Date\": \"2020-06-29 17:21:58\", \"Distance\": 3.15, \"Calories\": 148.0, \"Time\": 37.11666666666667, \"Avg HR\": 111.0, \"Max HR\": 128.0, \"Avg Run Cadence\": 102.0, \"Max Run Cadence\": 194.0, \"Avg Pace\": 11.783333333333333, \"Best Pace\": 9.7, \"Elev Gain\": 12.0, \"Elev Loss\": 23.0, \"Avg Stride Length\": 0.84, \"Climb Time\": 37.11666666666667, \"Best Lap Time\": 1.7, \"Number of Laps\": 4.0, \"Target\": 0}, {\"Activity Type\": \"Walking\", \"Date\": \"2020-06-28 19:46:35\", \"Distance\": 2.42, \"Calories\": 116.0, \"Time\": 36.56666666666667, \"Avg HR\": 95.0, \"Max HR\": 109.0, \"Avg Run Cadence\": 87.0, \"Max Run Cadence\": 137.0, \"Avg Pace\": 15.116666666666667, \"Best Pace\": 11.983333333333333, \"Elev Gain\": 6.0, \"Elev Loss\": 7.0, \"Avg Stride Length\": 0.76, \"Climb Time\": 36.56666666666667, \"Best Lap Time\": 6.266666666666667, \"Number of Laps\": 3.0, \"Target\": 0}, {\"Activity Type\": \"Cycling\", \"Date\": \"2020-06-28 13:45:36\", \"Distance\": 3.76, \"Calories\": 61.0, \"Time\": 13.566666666666666, \"Avg HR\": 113.0, \"Max HR\": 138.0, \"Avg Run Cadence\": null, \"Max Run Cadence\": null, \"Avg Pace\": 0.2783333333333333, \"Best Pace\": 0.44166666666666665, \"Elev Gain\": 9.0, \"Elev Loss\": 31.0, \"Avg Stride Length\": 0.0, \"Climb Time\": 13.566666666666666, \"Best Lap Time\": 13.55, \"Number of Laps\": 1.0, \"Target\": 5}, {\"Activity Type\": \"Walking\", \"Date\": \"2020-06-27 18:39:23\", \"Distance\": 0.67, \"Calories\": 33.0, \"Time\": 8.683333333333334, \"Avg HR\": 100.0, \"Max HR\": 108.0, \"Avg Run Cadence\": 99.0, \"Max Run Cadence\": 127.0, \"Avg Pace\": 12.916666666666666, \"Best Pace\": 9.983333333333333, \"Elev Gain\": 4.0, \"Elev Loss\": 105.0, \"Avg Stride Length\": 0.78, \"Climb Time\": 8.683333333333334, \"Best Lap Time\": 8.683333333333334, \"Number of Laps\": 1.0, \"Target\": 0}, {\"Activity Type\": \"Walking\", \"Date\": \"2020-06-27 16:58:58\", \"Distance\": 1.05, \"Calories\": 53.0, \"Time\": 14.483333333333333, \"Avg HR\": 108.0, \"Max HR\": 123.0, \"Avg Run Cadence\": 105.0, \"Max Run Cadence\": 159.0, \"Avg Pace\": 13.816666666666666, \"Best Pace\": 11.3, \"Elev Gain\": 2.0, \"Elev Loss\": 29.0, \"Avg Stride Length\": 0.69, \"Climb Time\": 14.483333333333333, \"Best Lap Time\": 0.9166666666666666, \"Number of Laps\": 2.0, \"Target\": 0}, {\"Activity Type\": \"Walking\", \"Date\": \"2020-06-27 15:30:49\", \"Distance\": 4.31, \"Calories\": 199.0, \"Time\": 50.3, \"Avg HR\": 107.0, \"Max HR\": 117.0, \"Avg Run Cadence\": 107.0, \"Max Run Cadence\": 128.0, \"Avg Pace\": 11.65, \"Best Pace\": 9.45, \"Elev Gain\": 2.0, \"Elev Loss\": 96.0, \"Avg Stride Length\": 0.8, \"Climb Time\": 50.3, \"Best Lap Time\": 3.966666666666667, \"Number of Laps\": 5.0, \"Target\": 0}, {\"Activity Type\": \"Yoga\", \"Date\": \"2020-06-27 10:17:39\", \"Distance\": 0.0, \"Calories\": 11.0, \"Time\": 11.516666666666667, \"Avg HR\": 67.0, \"Max HR\": 75.0, \"Avg Run Cadence\": null, \"Max Run Cadence\": null, \"Avg Pace\": null, \"Best Pace\": null, \"Elev Gain\": null, \"Elev Loss\": null, \"Avg Stride Length\": 0.0, \"Climb Time\": 11.516666666666667, \"Best Lap Time\": 11.5, \"Number of Laps\": 1.0, \"Target\": 7}, {\"Activity Type\": \"Walking\", \"Date\": \"2020-06-26 20:13:36\", \"Distance\": 3.63, \"Calories\": 187.0, \"Time\": 48.6, \"Avg HR\": 114.0, \"Max HR\": 144.0, \"Avg Run Cadence\": 91.0, \"Max Run Cadence\": 178.0, \"Avg Pace\": 13.383333333333333, \"Best Pace\": 6.116666666666666, \"Elev Gain\": 47.0, \"Elev Loss\": 64.0, \"Avg Stride Length\": 0.83, \"Climb Time\": 48.6, \"Best Lap Time\": 8.65, \"Number of Laps\": 4.0, \"Target\": 0}, {\"Activity Type\": \"Running\", \"Date\": \"2020-06-26 19:10:50\", \"Distance\": 7.06, \"Calories\": 391.0, \"Time\": 46.71666666666667, \"Avg HR\": 162.0, \"Max HR\": 177.0, \"Avg Run Cadence\": 173.0, \"Max Run Cadence\": 201.0, \"Avg Pace\": 6.616666666666667, \"Best Pace\": 5.416666666666667, \"Elev Gain\": 33.0, \"Elev Loss\": 53.0, \"Avg Stride Length\": 0.87, \"Climb Time\": 46.71666666666667, \"Best Lap Time\": 4.383333333333334, \"Number of Laps\": 8.0, \"Target\": 3}, {\"Activity Type\": \"Walking\", \"Date\": \"2020-06-26 16:45:00\", \"Distance\": 3.48, \"Calories\": 170.0, \"Time\": 50.6, \"Avg HR\": 93.0, \"Max HR\": 115.0, \"Avg Run Cadence\": 88.0, \"Max Run Cadence\": 159.0, \"Avg Pace\": 14.55, \"Best Pace\": 10.766666666666667, \"Elev Gain\": 9.0, \"Elev Loss\": 10.0, \"Avg Stride Length\": 0.79, \"Climb Time\": 50.6, \"Best Lap Time\": 6.65, \"Number of Laps\": 4.0, \"Target\": 0}, {\"Activity Type\": \"Cycling\", \"Date\": \"2020-06-26 15:02:48\", \"Distance\": 3.61, \"Calories\": 84.0, \"Time\": 14.783333333333333, \"Avg HR\": 124.0, \"Max HR\": 157.0, \"Avg Run Cadence\": 2.0, \"Max Run Cadence\": 118.0, \"Avg Pace\": 0.245, \"Best Pace\": 0.38333333333333336, \"Elev Gain\": 30.0, \"Elev Loss\": 9.0, \"Avg Stride Length\": 63.27, \"Climb Time\": 14.783333333333333, \"Best Lap Time\": 2.6, \"Number of Laps\": 4.0, \"Target\": 5}, {\"Activity Type\": \"Cycling\", \"Date\": \"2020-06-26 09:46:16\", \"Distance\": 3.66, \"Calories\": 67.0, \"Time\": 15.283333333333333, \"Avg HR\": 112.0, \"Max HR\": 135.0, \"Avg Run Cadence\": 1.0, \"Max Run Cadence\": 112.0, \"Avg Pace\": 0.24000000000000002, \"Best Pace\": 0.385, \"Elev Gain\": 11.0, \"Elev Loss\": 49.0, \"Avg Stride Length\": 270.58, \"Climb Time\": 15.283333333333333, \"Best Lap Time\": 2.5, \"Number of Laps\": 4.0, \"Target\": 5}, {\"Activity Type\": \"Walking\", \"Date\": \"2020-06-25 21:22:47\", \"Distance\": 3.53, \"Calories\": 176.0, \"Time\": 44.55, \"Avg HR\": 108.0, \"Max HR\": 121.0, \"Avg Run Cadence\": 97.0, \"Max Run Cadence\": 226.0, \"Avg Pace\": 12.6, \"Best Pace\": 3.1333333333333333, \"Elev Gain\": 19.0, \"Elev Loss\": null, \"Avg Stride Length\": 0.82, \"Climb Time\": 44.55, \"Best Lap Time\": 7.016666666666667, \"Number of Laps\": 4.0, \"Target\": 0}, {\"Activity Type\": \"Walking\", \"Date\": \"2020-06-25 17:36:01\", \"Distance\": 4.51, \"Calories\": 215.0, \"Time\": 49.18333333333333, \"Avg HR\": 112.0, \"Max HR\": 138.0, \"Avg Run Cadence\": 114.0, \"Max Run Cadence\": 134.0, \"Avg Pace\": 10.9, \"Best Pace\": 5.35, \"Elev Gain\": 2.0, \"Elev Loss\": 28.0, \"Avg Stride Length\": 0.81, \"Climb Time\": 49.18333333333333, \"Best Lap Time\": 5.75, \"Number of Laps\": 5.0, \"Target\": 0}, {\"Activity Type\": \"Walking\", \"Date\": \"2020-06-24 15:39:00\", \"Distance\": 11.62, \"Calories\": 565.0, \"Time\": 143.53333333333333, \"Avg HR\": 103.0, \"Max HR\": 134.0, \"Avg Run Cadence\": 105.0, \"Max Run Cadence\": 223.0, \"Avg Pace\": 12.35, \"Best Pace\": 6.866666666666667, \"Elev Gain\": 45.0, \"Elev Loss\": 38.0, \"Avg Stride Length\": 0.77, \"Climb Time\": 143.53333333333333, \"Best Lap Time\": 7.283333333333333, \"Number of Laps\": 12.0, \"Target\": 0}, {\"Activity Type\": \"Running\", \"Date\": \"2020-06-23 20:32:14\", \"Distance\": 6.75, \"Calories\": 374.0, \"Time\": 42.61666666666667, \"Avg HR\": 164.0, \"Max HR\": 179.0, \"Avg Run Cadence\": 177.0, \"Max Run Cadence\": 190.0, \"Avg Pace\": 6.316666666666666, \"Best Pace\": 5.283333333333333, \"Elev Gain\": 52.0, \"Elev Loss\": 50.0, \"Avg Stride Length\": 0.89, \"Climb Time\": 42.61666666666667, \"Best Lap Time\": 3.533333333333333, \"Number of Laps\": 8.0, \"Target\": 3}, {\"Activity Type\": \"Cycling\", \"Date\": \"2020-06-23 00:01:44\", \"Distance\": 3.82, \"Calories\": 89.0, \"Time\": 16.8, \"Avg HR\": 121.0, \"Max HR\": 141.0, \"Avg Run Cadence\": null, \"Max Run Cadence\": null, \"Avg Pace\": 0.22666666666666666, \"Best Pace\": 0.3433333333333334, \"Elev Gain\": 88.0, \"Elev Loss\": 7.0, \"Avg Stride Length\": 0.0, \"Climb Time\": 16.8, \"Best Lap Time\": 16.8, \"Number of Laps\": 1.0, \"Target\": 5}, {\"Activity Type\": \"Cycling\", \"Date\": \"2020-06-22 19:50:12\", \"Distance\": 3.53, \"Calories\": 70.0, \"Time\": 13.183333333333334, \"Avg HR\": 121.0, \"Max HR\": 147.0, \"Avg Run Cadence\": null, \"Max Run Cadence\": null, \"Avg Pace\": 0.26833333333333337, \"Best Pace\": 0.38166666666666665, \"Elev Gain\": 9.0, \"Elev Loss\": 29.0, \"Avg Stride Length\": 0.0, \"Climb Time\": 13.183333333333334, \"Best Lap Time\": 13.166666666666666, \"Number of Laps\": 1.0, \"Target\": 5}, {\"Activity Type\": \"Running\", \"Date\": \"2020-06-22 12:21:08\", \"Distance\": 11.82, \"Calories\": 681.0, \"Time\": 77.36666666666666, \"Avg HR\": 169.0, \"Max HR\": 189.0, \"Avg Run Cadence\": 176.0, \"Max Run Cadence\": 232.0, \"Avg Pace\": 6.55, \"Best Pace\": 5.183333333333334, \"Elev Gain\": 84.0, \"Elev Loss\": 150.0, \"Avg Stride Length\": 0.87, \"Climb Time\": 77.36666666666666, \"Best Lap Time\": 1.4833333333333334, \"Number of Laps\": 14.0, \"Target\": 3}, {\"Activity Type\": \"Breathwork\", \"Date\": \"2020-06-22 08:31:44\", \"Distance\": 0.0, \"Calories\": 14.0, \"Time\": 16.15, \"Avg HR\": 62.0, \"Max HR\": 72.0, \"Avg Run Cadence\": null, \"Max Run Cadence\": null, \"Avg Pace\": null, \"Best Pace\": null, \"Elev Gain\": null, \"Elev Loss\": null, \"Avg Stride Length\": 0.0, \"Climb Time\": 16.15, \"Best Lap Time\": 16.133333333333333, \"Number of Laps\": 1.0, \"Target\": 1}, {\"Activity Type\": \"Walking\", \"Date\": \"2020-06-21 19:07:54\", \"Distance\": 0.84, \"Calories\": 41.0, \"Time\": 11.433333333333334, \"Avg HR\": 97.0, \"Max HR\": 105.0, \"Avg Run Cadence\": 100.0, \"Max Run Cadence\": 128.0, \"Avg Pace\": 13.7, \"Best Pace\": 10.9, \"Elev Gain\": null, \"Elev Loss\": null, \"Avg Stride Length\": 0.73, \"Climb Time\": 11.433333333333334, \"Best Lap Time\": 11.433333333333334, \"Number of Laps\": 1.0, \"Target\": 0}, {\"Activity Type\": \"Walking\", \"Date\": \"2020-06-21 18:00:46\", \"Distance\": 5.37, \"Calories\": 261.0, \"Time\": 63.9, \"Avg HR\": 105.0, \"Max HR\": 134.0, \"Avg Run Cadence\": 108.0, \"Max Run Cadence\": 131.0, \"Avg Pace\": 11.9, \"Best Pace\": 8.883333333333333, \"Elev Gain\": 35.0, \"Elev Loss\": 50.0, \"Avg Stride Length\": 0.78, \"Climb Time\": 63.9, \"Best Lap Time\": 4.633333333333333, \"Number of Laps\": 6.0, \"Target\": 0}, {\"Activity Type\": \"Breathwork\", \"Date\": \"2020-06-21 09:33:24\", \"Distance\": 0.0, \"Calories\": 11.0, \"Time\": 11.616666666666667, \"Avg HR\": 67.0, \"Max HR\": 76.0, \"Avg Run Cadence\": null, \"Max Run Cadence\": null, \"Avg Pace\": null, \"Best Pace\": null, \"Elev Gain\": null, \"Elev Loss\": null, \"Avg Stride Length\": 0.0, \"Climb Time\": 11.616666666666667, \"Best Lap Time\": 11.6, \"Number of Laps\": 1.0, \"Target\": 1}, {\"Activity Type\": \"Running\", \"Date\": \"2020-06-20 16:13:09\", \"Distance\": 7.75, \"Calories\": 449.0, \"Time\": 48.53333333333333, \"Avg HR\": 171.0, \"Max HR\": 189.0, \"Avg Run Cadence\": 181.0, \"Max Run Cadence\": 201.0, \"Avg Pace\": 6.266666666666667, \"Best Pace\": 4.766666666666667, \"Elev Gain\": 116.0, \"Elev Loss\": 140.0, \"Avg Stride Length\": 0.88, \"Climb Time\": 48.53333333333333, \"Best Lap Time\": 1.5666666666666667, \"Number of Laps\": 10.0, \"Target\": 3}, {\"Activity Type\": \"Breathwork\", \"Date\": \"2020-06-20 08:52:13\", \"Distance\": 0.0, \"Calories\": 11.0, \"Time\": 11.516666666666667, \"Avg HR\": 66.0, \"Max HR\": 72.0, \"Avg Run Cadence\": null, \"Max Run Cadence\": null, \"Avg Pace\": null, \"Best Pace\": null, \"Elev Gain\": null, \"Elev Loss\": null, \"Avg Stride Length\": 0.0, \"Climb Time\": 11.516666666666667, \"Best Lap Time\": 11.5, \"Number of Laps\": 1.0, \"Target\": 1}, {\"Activity Type\": \"Cycling\", \"Date\": \"2020-06-19 18:14:48\", \"Distance\": 2.85, \"Calories\": 99.0, \"Time\": 13.283333333333333, \"Avg HR\": 142.0, \"Max HR\": 168.0, \"Avg Run Cadence\": null, \"Max Run Cadence\": null, \"Avg Pace\": 0.215, \"Best Pace\": 0.38833333333333336, \"Elev Gain\": 71.0, \"Elev Loss\": 27.0, \"Avg Stride Length\": 0.0, \"Climb Time\": 13.283333333333333, \"Best Lap Time\": 13.266666666666667, \"Number of Laps\": 1.0, \"Target\": 5}, {\"Activity Type\": \"Cycling\", \"Date\": \"2020-06-19 10:35:43\", \"Distance\": 5.73, \"Calories\": 190.0, \"Time\": 23.666666666666668, \"Avg HR\": 147.0, \"Max HR\": 169.0, \"Avg Run Cadence\": null, \"Max Run Cadence\": null, \"Avg Pace\": 0.24166666666666667, \"Best Pace\": 0.365, \"Elev Gain\": 37.0, \"Elev Loss\": 2.0, \"Avg Stride Length\": 0.0, \"Climb Time\": 23.666666666666668, \"Best Lap Time\": 2.783333333333333, \"Number of Laps\": 2.0, \"Target\": 5}, {\"Activity Type\": \"Running\", \"Date\": \"2020-06-19 09:04:22\", \"Distance\": 12.12, \"Calories\": 721.0, \"Time\": 81.76666666666667, \"Avg HR\": 164.0, \"Max HR\": 184.0, \"Avg Run Cadence\": 178.0, \"Max Run Cadence\": 194.0, \"Avg Pace\": 6.75, \"Best Pace\": 5.583333333333333, \"Elev Gain\": 23.0, \"Elev Loss\": 28.0, \"Avg Stride Length\": 0.83, \"Climb Time\": 81.76666666666667, \"Best Lap Time\": 1.45, \"Number of Laps\": 14.0, \"Target\": 3}, {\"Activity Type\": \"Cycling\", \"Date\": \"2020-06-19 08:31:44\", \"Distance\": 5.4, \"Calories\": 116.0, \"Time\": 22.0, \"Avg HR\": 121.0, \"Max HR\": 151.0, \"Avg Run Cadence\": null, \"Max Run Cadence\": null, \"Avg Pace\": 0.245, \"Best Pace\": 0.42833333333333334, \"Elev Gain\": 18.0, \"Elev Loss\": 55.0, \"Avg Stride Length\": 0.0, \"Climb Time\": 22.0, \"Best Lap Time\": 1.5666666666666667, \"Number of Laps\": 2.0, \"Target\": 5}, {\"Activity Type\": \"Breathwork\", \"Date\": \"2020-06-19 07:54:22\", \"Distance\": 0.0, \"Calories\": 11.0, \"Time\": 11.533333333333333, \"Avg HR\": 68.0, \"Max HR\": 92.0, \"Avg Run Cadence\": null, \"Max Run Cadence\": null, \"Avg Pace\": null, \"Best Pace\": null, \"Elev Gain\": null, \"Elev Loss\": null, \"Avg Stride Length\": 0.0, \"Climb Time\": 11.533333333333333, \"Best Lap Time\": 11.533333333333333, \"Number of Laps\": 1.0, \"Target\": 1}, {\"Activity Type\": \"Walking\", \"Date\": \"2020-06-18 18:12:58\", \"Distance\": 9.1, \"Calories\": 487.0, \"Time\": 118.31666666666666, \"Avg HR\": 105.0, \"Max HR\": 146.0, \"Avg Run Cadence\": 96.0, \"Max Run Cadence\": 156.0, \"Avg Pace\": 13.016666666666667, \"Best Pace\": 1.7333333333333334, \"Elev Gain\": 175.0, \"Elev Loss\": 207.0, \"Avg Stride Length\": 0.81, \"Climb Time\": 118.31666666666666, \"Best Lap Time\": 1.2333333333333334, \"Number of Laps\": 10.0, \"Target\": 0}, {\"Activity Type\": \"Breathwork\", \"Date\": \"2020-06-18 08:25:19\", \"Distance\": 0.0, \"Calories\": 12.0, \"Time\": 11.6, \"Avg HR\": 67.0, \"Max HR\": 86.0, \"Avg Run Cadence\": null, \"Max Run Cadence\": null, \"Avg Pace\": null, \"Best Pace\": null, \"Elev Gain\": null, \"Elev Loss\": null, \"Avg Stride Length\": 0.0, \"Climb Time\": 11.6, \"Best Lap Time\": 11.6, \"Number of Laps\": 1.0, \"Target\": 1}, {\"Activity Type\": \"Walking\", \"Date\": \"2020-06-17 21:41:44\", \"Distance\": 0.93, \"Calories\": 51.0, \"Time\": 13.2, \"Avg HR\": 113.0, \"Max HR\": 123.0, \"Avg Run Cadence\": 97.0, \"Max Run Cadence\": 127.0, \"Avg Pace\": 14.116666666666667, \"Best Pace\": 9.35, \"Elev Gain\": 7.0, \"Elev Loss\": 7.0, \"Avg Stride Length\": 0.73, \"Climb Time\": 13.2, \"Best Lap Time\": 13.183333333333334, \"Number of Laps\": 1.0, \"Target\": 0}, {\"Activity Type\": \"Walking\", \"Date\": \"2020-06-17 18:50:16\", \"Distance\": 0.86, \"Calories\": 45.0, \"Time\": 10.55, \"Avg HR\": 105.0, \"Max HR\": 113.0, \"Avg Run Cadence\": 75.0, \"Max Run Cadence\": 125.0, \"Avg Pace\": 12.266666666666667, \"Best Pace\": 4.683333333333334, \"Elev Gain\": 12.0, \"Elev Loss\": 64.0, \"Avg Stride Length\": 1.08, \"Climb Time\": 10.55, \"Best Lap Time\": 10.533333333333333, \"Number of Laps\": 1.0, \"Target\": 0}, {\"Activity Type\": \"Cycling\", \"Date\": \"2020-06-17 14:13:58\", \"Distance\": 2.74, \"Calories\": 62.0, \"Time\": 11.066666666666666, \"Avg HR\": 121.0, \"Max HR\": 149.0, \"Avg Run Cadence\": null, \"Max Run Cadence\": null, \"Avg Pace\": 0.24833333333333335, \"Best Pace\": 0.38, \"Elev Gain\": 7.0, \"Elev Loss\": 25.0, \"Avg Stride Length\": 0.0, \"Climb Time\": 11.066666666666666, \"Best Lap Time\": 11.066666666666666, \"Number of Laps\": 1.0, \"Target\": 5}, {\"Activity Type\": \"Cycling\", \"Date\": \"2020-06-17 09:32:06\", \"Distance\": 2.95, \"Calories\": 89.0, \"Time\": 12.716666666666667, \"Avg HR\": 136.0, \"Max HR\": 166.0, \"Avg Run Cadence\": null, \"Max Run Cadence\": null, \"Avg Pace\": 0.23166666666666666, \"Best Pace\": 0.38833333333333336, \"Elev Gain\": 23.0, \"Elev Loss\": 43.0, \"Avg Stride Length\": 0.0, \"Climb Time\": 12.716666666666667, \"Best Lap Time\": 12.716666666666667, \"Number of Laps\": 1.0, \"Target\": 5}, {\"Activity Type\": \"Running\", \"Date\": \"2020-06-17 09:08:54\", \"Distance\": 2.76, \"Calories\": 170.0, \"Time\": 21.833333333333332, \"Avg HR\": 155.0, \"Max HR\": 168.0, \"Avg Run Cadence\": 176.0, \"Max Run Cadence\": 188.0, \"Avg Pace\": 7.916666666666667, \"Best Pace\": 6.216666666666667, \"Elev Gain\": 73.0, \"Elev Loss\": 44.0, \"Avg Stride Length\": 0.72, \"Climb Time\": 21.833333333333332, \"Best Lap Time\": 1.3166666666666667, \"Number of Laps\": 5.0, \"Target\": 3}, {\"Activity Type\": \"Breathwork\", \"Date\": \"2020-06-17 08:00:58\", \"Distance\": 0.0, \"Calories\": null, \"Time\": 11.5, \"Avg HR\": null, \"Max HR\": null, \"Avg Run Cadence\": null, \"Max Run Cadence\": null, \"Avg Pace\": null, \"Best Pace\": null, \"Elev Gain\": null, \"Elev Loss\": null, \"Avg Stride Length\": 0.0, \"Climb Time\": 11.5, \"Best Lap Time\": 0.0, \"Number of Laps\": 1.0, \"Target\": 1}, {\"Activity Type\": \"Cycling\", \"Date\": \"2020-06-16 19:54:41\", \"Distance\": 3.25, \"Calories\": 96.0, \"Time\": 14.55, \"Avg HR\": 133.0, \"Max HR\": 152.0, \"Avg Run Cadence\": null, \"Max Run Cadence\": null, \"Avg Pace\": 0.22333333333333333, \"Best Pace\": 0.3516666666666667, \"Elev Gain\": 27.0, \"Elev Loss\": 84.0, \"Avg Stride Length\": 0.0, \"Climb Time\": 14.55, \"Best Lap Time\": 14.533333333333333, \"Number of Laps\": 1.0, \"Target\": 5}, {\"Activity Type\": \"Cycling\", \"Date\": \"2020-06-16 11:34:21\", \"Distance\": 4.41, \"Calories\": 128.0, \"Time\": 16.866666666666667, \"Avg HR\": 141.0, \"Max HR\": 158.0, \"Avg Run Cadence\": null, \"Max Run Cadence\": null, \"Avg Pace\": 0.26166666666666666, \"Best Pace\": 0.44, \"Elev Gain\": 25.0, \"Elev Loss\": 27.0, \"Avg Stride Length\": 0.0, \"Climb Time\": 16.866666666666667, \"Best Lap Time\": 16.85, \"Number of Laps\": 1.0, \"Target\": 5}, {\"Activity Type\": \"Running\", \"Date\": \"2020-06-16 08:41:43\", \"Distance\": 3.78, \"Calories\": 248.0, \"Time\": 30.0, \"Avg HR\": 161.0, \"Max HR\": 178.0, \"Avg Run Cadence\": 173.0, \"Max Run Cadence\": 188.0, \"Avg Pace\": 7.933333333333334, \"Best Pace\": 6.283333333333333, \"Elev Gain\": 86.0, \"Elev Loss\": 86.0, \"Avg Stride Length\": 0.73, \"Climb Time\": 30.0, \"Best Lap Time\": 1.8333333333333335, \"Number of Laps\": 6.0, \"Target\": 3}, {\"Activity Type\": \"Breathwork\", \"Date\": \"2020-06-16 07:43:59\", \"Distance\": 0.0, \"Calories\": 13.0, \"Time\": 11.516666666666667, \"Avg HR\": 71.0, \"Max HR\": 85.0, \"Avg Run Cadence\": null, \"Max Run Cadence\": null, \"Avg Pace\": null, \"Best Pace\": null, \"Elev Gain\": null, \"Elev Loss\": null, \"Avg Stride Length\": 0.0, \"Climb Time\": 11.516666666666667, \"Best Lap Time\": 11.5, \"Number of Laps\": 1.0, \"Target\": 1}, {\"Activity Type\": \"Breathwork\", \"Date\": \"2020-06-15 22:47:58\", \"Distance\": 0.0, \"Calories\": 12.0, \"Time\": 11.516666666666667, \"Avg HR\": 69.0, \"Max HR\": 86.0, \"Avg Run Cadence\": null, \"Max Run Cadence\": null, \"Avg Pace\": null, \"Best Pace\": null, \"Elev Gain\": null, \"Elev Loss\": null, \"Avg Stride Length\": 0.0, \"Climb Time\": 11.516666666666667, \"Best Lap Time\": 11.516666666666667, \"Number of Laps\": 1.0, \"Target\": 1}, {\"Activity Type\": \"Walking\", \"Date\": \"2020-06-15 18:38:38\", \"Distance\": 1.56, \"Calories\": 76.0, \"Time\": 18.866666666666667, \"Avg HR\": 110.0, \"Max HR\": 118.0, \"Avg Run Cadence\": 92.0, \"Max Run Cadence\": 161.0, \"Avg Pace\": 12.1, \"Best Pace\": 9.5, \"Elev Gain\": 97.0, \"Elev Loss\": 8.0, \"Avg Stride Length\": 0.89, \"Climb Time\": 18.866666666666667, \"Best Lap Time\": 7.083333333333333, \"Number of Laps\": 2.0, \"Target\": 0}, {\"Activity Type\": \"Walking\", \"Date\": \"2020-06-14 12:04:05\", \"Distance\": 1.16, \"Calories\": 73.0, \"Time\": 14.85, \"Avg HR\": 127.0, \"Max HR\": 149.0, \"Avg Run Cadence\": 83.0, \"Max Run Cadence\": 178.0, \"Avg Pace\": 12.816666666666666, \"Best Pace\": 7.383333333333334, \"Elev Gain\": 2.0, \"Elev Loss\": 28.0, \"Avg Stride Length\": 0.94, \"Climb Time\": 14.85, \"Best Lap Time\": 2.0166666666666666, \"Number of Laps\": 2.0, \"Target\": 0}, {\"Activity Type\": \"Running\", \"Date\": \"2020-06-14 10:49:52\", \"Distance\": 10.01, \"Calories\": 601.0, \"Time\": 68.73333333333333, \"Avg HR\": 166.0, \"Max HR\": 179.0, \"Avg Run Cadence\": 179.0, \"Max Run Cadence\": 192.0, \"Avg Pace\": 6.866666666666667, \"Best Pace\": 5.783333333333333, \"Elev Gain\": 22.0, \"Elev Loss\": 6.0, \"Avg Stride Length\": 0.81, \"Climb Time\": 68.73333333333333, \"Best Lap Time\": 3.1, \"Number of Laps\": 12.0, \"Target\": 3}, {\"Activity Type\": \"Breathwork\", \"Date\": \"2020-06-14 10:11:10\", \"Distance\": 0.0, \"Calories\": 10.0, \"Time\": 11.466666666666667, \"Avg HR\": 64.0, \"Max HR\": 85.0, \"Avg Run Cadence\": null, \"Max Run Cadence\": null, \"Avg Pace\": null, \"Best Pace\": null, \"Elev Gain\": null, \"Elev Loss\": null, \"Avg Stride Length\": 0.0, \"Climb Time\": 11.466666666666667, \"Best Lap Time\": 11.466666666666667, \"Number of Laps\": 1.0, \"Target\": 1}, {\"Activity Type\": \"Cycling\", \"Date\": \"2020-06-13 18:43:05\", \"Distance\": 2.71, \"Calories\": 62.0, \"Time\": 11.45, \"Avg HR\": 120.0, \"Max HR\": 136.0, \"Avg Run Cadence\": null, \"Max Run Cadence\": null, \"Avg Pace\": 0.23666666666666666, \"Best Pace\": 0.36000000000000004, \"Elev Gain\": null, \"Elev Loss\": null, \"Avg Stride Length\": 0.0, \"Climb Time\": 11.45, \"Best Lap Time\": 11.433333333333334, \"Number of Laps\": 1.0, \"Target\": 5}, {\"Activity Type\": \"Cycling\", \"Date\": \"2020-06-13 18:07:07\", \"Distance\": 2.34, \"Calories\": 59.0, \"Time\": 9.766666666666667, \"Avg HR\": 126.0, \"Max HR\": 141.0, \"Avg Run Cadence\": null, \"Max Run Cadence\": null, \"Avg Pace\": 0.24000000000000002, \"Best Pace\": 0.315, \"Elev Gain\": null, \"Elev Loss\": 6.0, \"Avg Stride Length\": 0.0, \"Climb Time\": 9.766666666666667, \"Best Lap Time\": 9.766666666666667, \"Number of Laps\": 1.0, \"Target\": 5}, {\"Activity Type\": \"Cycling\", \"Date\": \"2020-06-12 11:41:29\", \"Distance\": 3.81, \"Calories\": 90.0, \"Time\": 15.466666666666667, \"Avg HR\": 124.0, \"Max HR\": 140.0, \"Avg Run Cadence\": null, \"Max Run Cadence\": null, \"Avg Pace\": 0.24666666666666667, \"Best Pace\": 0.33, \"Elev Gain\": 2.0, \"Elev Loss\": null, \"Avg Stride Length\": 0.0, \"Climb Time\": 15.466666666666667, \"Best Lap Time\": 15.466666666666667, \"Number of Laps\": 1.0, \"Target\": 5}, {\"Activity Type\": \"Running\", \"Date\": \"2020-06-12 10:04:14\", \"Distance\": 5.89, \"Calories\": 332.0, \"Time\": 40.5, \"Avg HR\": 161.0, \"Max HR\": 173.0, \"Avg Run Cadence\": 181.0, \"Max Run Cadence\": 190.0, \"Avg Pace\": 6.883333333333333, \"Best Pace\": 6.05, \"Elev Gain\": null, \"Elev Loss\": 2.0, \"Avg Stride Length\": 0.8, \"Climb Time\": 40.5, \"Best Lap Time\": 3.0833333333333335, \"Number of Laps\": 8.0, \"Target\": 3}, {\"Activity Type\": \"Breathwork\", \"Date\": \"2020-06-12 08:09:53\", \"Distance\": 0.0, \"Calories\": null, \"Time\": 11.5, \"Avg HR\": null, \"Max HR\": null, \"Avg Run Cadence\": null, \"Max Run Cadence\": null, \"Avg Pace\": null, \"Best Pace\": null, \"Elev Gain\": null, \"Elev Loss\": null, \"Avg Stride Length\": 0.0, \"Climb Time\": 11.5, \"Best Lap Time\": 0.0, \"Number of Laps\": 1.0, \"Target\": 1}, {\"Activity Type\": \"Breathwork\", \"Date\": \"2020-06-11 09:17:14\", \"Distance\": 0.0, \"Calories\": 11.0, \"Time\": 11.533333333333333, \"Avg HR\": 67.0, \"Max HR\": 82.0, \"Avg Run Cadence\": null, \"Max Run Cadence\": null, \"Avg Pace\": null, \"Best Pace\": null, \"Elev Gain\": null, \"Elev Loss\": null, \"Avg Stride Length\": 0.0, \"Climb Time\": 11.533333333333333, \"Best Lap Time\": 11.533333333333333, \"Number of Laps\": 1.0, \"Target\": 1}, {\"Activity Type\": \"Breathwork\", \"Date\": \"2020-06-10 23:16:41\", \"Distance\": 0.0, \"Calories\": 14.0, \"Time\": 11.566666666666666, \"Avg HR\": 72.0, \"Max HR\": 80.0, \"Avg Run Cadence\": null, \"Max Run Cadence\": null, \"Avg Pace\": null, \"Best Pace\": null, \"Elev Gain\": null, \"Elev Loss\": null, \"Avg Stride Length\": 0.0, \"Climb Time\": 11.566666666666666, \"Best Lap Time\": 11.566666666666666, \"Number of Laps\": 1.0, \"Target\": 1}, {\"Activity Type\": \"Running\", \"Date\": \"2020-06-10 08:29:20\", \"Distance\": 5.89, \"Calories\": 332.0, \"Time\": 38.63333333333333, \"Avg HR\": 164.0, \"Max HR\": 175.0, \"Avg Run Cadence\": 184.0, \"Max Run Cadence\": 190.0, \"Avg Pace\": 6.566666666666666, \"Best Pace\": 0.7166666666666667, \"Elev Gain\": 2.0, \"Elev Loss\": null, \"Avg Stride Length\": 0.83, \"Climb Time\": 38.63333333333333, \"Best Lap Time\": 1.95, \"Number of Laps\": 8.0, \"Target\": 3}, {\"Activity Type\": \"Running\", \"Date\": \"2020-06-09 09:59:42\", \"Distance\": 5.86, \"Calories\": 331.0, \"Time\": 37.18333333333333, \"Avg HR\": 167.0, \"Max HR\": 186.0, \"Avg Run Cadence\": 183.0, \"Max Run Cadence\": 191.0, \"Avg Pace\": 6.35, \"Best Pace\": 0.7666666666666667, \"Elev Gain\": null, \"Elev Loss\": null, \"Avg Stride Length\": 0.86, \"Climb Time\": 37.18333333333333, \"Best Lap Time\": 0.8333333333333334, \"Number of Laps\": 8.0, \"Target\": 3}, {\"Activity Type\": \"Cycling\", \"Date\": \"2020-06-08 19:26:16\", \"Distance\": 2.73, \"Calories\": 59.0, \"Time\": 11.916666666666666, \"Avg HR\": 116.0, \"Max HR\": 135.0, \"Avg Run Cadence\": null, \"Max Run Cadence\": null, \"Avg Pace\": 0.23, \"Best Pace\": 0.33666666666666667, \"Elev Gain\": null, \"Elev Loss\": null, \"Avg Stride Length\": 0.0, \"Climb Time\": 11.916666666666666, \"Best Lap Time\": 11.916666666666666, \"Number of Laps\": 1.0, \"Target\": 5}, {\"Activity Type\": \"Cycling\", \"Date\": \"2020-06-08 15:15:34\", \"Distance\": 2.71, \"Calories\": 71.0, \"Time\": 10.833333333333334, \"Avg HR\": 131.0, \"Max HR\": 143.0, \"Avg Run Cadence\": null, \"Max Run Cadence\": null, \"Avg Pace\": 0.25, \"Best Pace\": 0.3266666666666667, \"Elev Gain\": 2.0, \"Elev Loss\": 64.0, \"Avg Stride Length\": 0.0, \"Climb Time\": 10.833333333333334, \"Best Lap Time\": 10.816666666666666, \"Number of Laps\": 1.0, \"Target\": 5}, {\"Activity Type\": \"Cycling\", \"Date\": \"2020-06-08 14:33:00\", \"Distance\": 0.95, \"Calories\": 24.0, \"Time\": 4.3, \"Avg HR\": 120.0, \"Max HR\": 152.0, \"Avg Run Cadence\": null, \"Max Run Cadence\": null, \"Avg Pace\": 0.22, \"Best Pace\": 0.39499999999999996, \"Elev Gain\": 13.0, \"Elev Loss\": 6.0, \"Avg Stride Length\": 0.0, \"Climb Time\": 4.3, \"Best Lap Time\": 4.3, \"Number of Laps\": 1.0, \"Target\": 5}, {\"Activity Type\": \"Breathwork\", \"Date\": \"2020-06-08 09:05:14\", \"Distance\": 0.0, \"Calories\": 14.0, \"Time\": 11.8, \"Avg HR\": 72.0, \"Max HR\": 92.0, \"Avg Run Cadence\": null, \"Max Run Cadence\": null, \"Avg Pace\": null, \"Best Pace\": null, \"Elev Gain\": null, \"Elev Loss\": null, \"Avg Stride Length\": 0.0, \"Climb Time\": 11.8, \"Best Lap Time\": 11.8, \"Number of Laps\": 1.0, \"Target\": 1}, {\"Activity Type\": \"Cycling\", \"Date\": \"2020-06-07 18:45:48\", \"Distance\": 4.8, \"Calories\": 106.0, \"Time\": 21.65, \"Avg HR\": 117.0, \"Max HR\": 133.0, \"Avg Run Cadence\": null, \"Max Run Cadence\": null, \"Avg Pace\": 0.22166666666666668, \"Best Pace\": 0.33666666666666667, \"Elev Gain\": 2.0, \"Elev Loss\": null, \"Avg Stride Length\": 0.0, \"Climb Time\": 21.65, \"Best Lap Time\": 21.633333333333333, \"Number of Laps\": 1.0, \"Target\": 5}, {\"Activity Type\": \"Cycling\", \"Date\": \"2020-06-07 17:07:37\", \"Distance\": 2.6, \"Calories\": 62.0, \"Time\": 10.183333333333334, \"Avg HR\": 125.0, \"Max HR\": 143.0, \"Avg Run Cadence\": null, \"Max Run Cadence\": null, \"Avg Pace\": 0.255, \"Best Pace\": 0.3783333333333333, \"Elev Gain\": null, \"Elev Loss\": 2.0, \"Avg Stride Length\": 0.0, \"Climb Time\": 10.183333333333334, \"Best Lap Time\": 10.166666666666666, \"Number of Laps\": 1.0, \"Target\": 5}, {\"Activity Type\": \"Breathwork\", \"Date\": \"2020-06-07 08:12:51\", \"Distance\": 0.0, \"Calories\": 12.0, \"Time\": 11.65, \"Avg HR\": 71.0, \"Max HR\": 80.0, \"Avg Run Cadence\": null, \"Max Run Cadence\": null, \"Avg Pace\": null, \"Best Pace\": null, \"Elev Gain\": null, \"Elev Loss\": null, \"Avg Stride Length\": 0.0, \"Climb Time\": 11.65, \"Best Lap Time\": 11.65, \"Number of Laps\": 1.0, \"Target\": 1}, {\"Activity Type\": \"Running\", \"Date\": \"2020-06-06 10:17:20\", \"Distance\": 4.12, \"Calories\": 238.0, \"Time\": 27.416666666666668, \"Avg HR\": 165.0, \"Max HR\": 174.0, \"Avg Run Cadence\": 181.0, \"Max Run Cadence\": 188.0, \"Avg Pace\": 6.65, \"Best Pace\": 6.133333333333334, \"Elev Gain\": null, \"Elev Loss\": 31.0, \"Avg Stride Length\": 0.83, \"Climb Time\": 27.416666666666668, \"Best Lap Time\": 0.8, \"Number of Laps\": 5.0, \"Target\": 3}, {\"Activity Type\": \"Running\", \"Date\": \"2020-06-06 10:04:22\", \"Distance\": 1.69, \"Calories\": 91.0, \"Time\": 11.866666666666667, \"Avg HR\": 150.0, \"Max HR\": 165.0, \"Avg Run Cadence\": 178.0, \"Max Run Cadence\": 186.0, \"Avg Pace\": 7.016666666666667, \"Best Pace\": 6.0, \"Elev Gain\": null, \"Elev Loss\": null, \"Avg Stride Length\": 0.8, \"Climb Time\": 11.866666666666667, \"Best Lap Time\": 0.016666666666666666, \"Number of Laps\": 4.0, \"Target\": 3}, {\"Activity Type\": \"Breathwork\", \"Date\": \"2020-06-06 08:51:43\", \"Distance\": 0.0, \"Calories\": 11.0, \"Time\": 11.533333333333333, \"Avg HR\": 66.0, \"Max HR\": 86.0, \"Avg Run Cadence\": null, \"Max Run Cadence\": null, \"Avg Pace\": null, \"Best Pace\": null, \"Elev Gain\": null, \"Elev Loss\": null, \"Avg Stride Length\": 0.0, \"Climb Time\": 11.533333333333333, \"Best Lap Time\": 11.533333333333333, \"Number of Laps\": 1.0, \"Target\": 1}, {\"Activity Type\": \"Cycling\", \"Date\": \"2020-06-05 18:27:15\", \"Distance\": 2.65, \"Calories\": 65.0, \"Time\": 10.966666666666667, \"Avg HR\": 124.0, \"Max HR\": 150.0, \"Avg Run Cadence\": null, \"Max Run Cadence\": null, \"Avg Pace\": 0.24166666666666667, \"Best Pace\": 0.345, \"Elev Gain\": 2.0, \"Elev Loss\": 11.0, \"Avg Stride Length\": 0.0, \"Climb Time\": 10.966666666666667, \"Best Lap Time\": 10.966666666666667, \"Number of Laps\": 1.0, \"Target\": 5}, {\"Activity Type\": \"Cycling\", \"Date\": \"2020-06-05 17:43:28\", \"Distance\": 6.32, \"Calories\": 143.0, \"Time\": 25.516666666666666, \"Avg HR\": 125.0, \"Max HR\": 141.0, \"Avg Run Cadence\": null, \"Max Run Cadence\": null, \"Avg Pace\": 0.24833333333333335, \"Best Pace\": 0.3783333333333333, \"Elev Gain\": 12.0, \"Elev Loss\": 17.0, \"Avg Stride Length\": 0.0, \"Climb Time\": 25.516666666666666, \"Best Lap Time\": 5.6, \"Number of Laps\": 2.0, \"Target\": 5}, {\"Activity Type\": \"Cycling\", \"Date\": \"2020-06-05 16:35:11\", \"Distance\": 8.95, \"Calories\": 230.0, \"Time\": 33.333333333333336, \"Avg HR\": 139.0, \"Max HR\": 149.0, \"Avg Run Cadence\": null, \"Max Run Cadence\": null, \"Avg Pace\": 0.26833333333333337, \"Best Pace\": 0.38, \"Elev Gain\": 14.0, \"Elev Loss\": 9.0, \"Avg Stride Length\": 0.0, \"Climb Time\": 33.333333333333336, \"Best Lap Time\": 15.55, \"Number of Laps\": 2.0, \"Target\": 5}, {\"Activity Type\": \"Cycling\", \"Date\": \"2020-06-05 16:05:56\", \"Distance\": 1.98, \"Calories\": 53.0, \"Time\": 7.8, \"Avg HR\": 132.0, \"Max HR\": 144.0, \"Avg Run Cadence\": null, \"Max Run Cadence\": null, \"Avg Pace\": 0.2533333333333333, \"Best Pace\": 0.41333333333333333, \"Elev Gain\": 42.0, \"Elev Loss\": 14.0, \"Avg Stride Length\": 0.0, \"Climb Time\": 7.8, \"Best Lap Time\": 7.8, \"Number of Laps\": 1.0, \"Target\": 5}, {\"Activity Type\": \"Breathwork\", \"Date\": \"2020-06-05 07:59:12\", \"Distance\": 0.0, \"Calories\": 14.0, \"Time\": 11.5, \"Avg HR\": 73.0, \"Max HR\": 83.0, \"Avg Run Cadence\": null, \"Max Run Cadence\": null, \"Avg Pace\": null, \"Best Pace\": null, \"Elev Gain\": null, \"Elev Loss\": null, \"Avg Stride Length\": 0.0, \"Climb Time\": 11.5, \"Best Lap Time\": 11.483333333333333, \"Number of Laps\": 1.0, \"Target\": 1}, {\"Activity Type\": \"Cycling\", \"Date\": \"2020-06-04 22:10:23\", \"Distance\": 8.49, \"Calories\": 189.0, \"Time\": 34.65, \"Avg HR\": 126.0, \"Max HR\": 139.0, \"Avg Run Cadence\": null, \"Max Run Cadence\": null, \"Avg Pace\": 0.245, \"Best Pace\": 0.31, \"Elev Gain\": null, \"Elev Loss\": 8.0, \"Avg Stride Length\": 0.0, \"Climb Time\": 34.65, \"Best Lap Time\": 14.333333333333334, \"Number of Laps\": 2.0, \"Target\": 5}, {\"Activity Type\": \"Cycling\", \"Date\": \"2020-06-04 17:54:29\", \"Distance\": 7.72, \"Calories\": 178.0, \"Time\": 28.883333333333333, \"Avg HR\": 131.0, \"Max HR\": 149.0, \"Avg Run Cadence\": null, \"Max Run Cadence\": null, \"Avg Pace\": 0.26666666666666666, \"Best Pace\": 0.39333333333333337, \"Elev Gain\": 13.0, \"Elev Loss\": 5.0, \"Avg Stride Length\": 0.0, \"Climb Time\": 28.883333333333333, \"Best Lap Time\": 10.683333333333334, \"Number of Laps\": 2.0, \"Target\": 5}, {\"Activity Type\": \"Running\", \"Date\": \"2020-06-04 08:59:40\", \"Distance\": 8.47, \"Calories\": 487.0, \"Time\": 56.416666666666664, \"Avg HR\": 164.0, \"Max HR\": 176.0, \"Avg Run Cadence\": 179.0, \"Max Run Cadence\": 188.0, \"Avg Pace\": 6.65, \"Best Pace\": 5.666666666666667, \"Elev Gain\": 6.0, \"Elev Loss\": 9.0, \"Avg Stride Length\": 0.84, \"Climb Time\": 56.416666666666664, \"Best Lap Time\": 0.05, \"Number of Laps\": 11.0, \"Target\": 3}, {\"Activity Type\": \"Breathwork\", \"Date\": \"2020-06-04 08:21:54\", \"Distance\": 0.0, \"Calories\": 11.0, \"Time\": 11.6, \"Avg HR\": 67.0, \"Max HR\": 80.0, \"Avg Run Cadence\": null, \"Max Run Cadence\": null, \"Avg Pace\": null, \"Best Pace\": null, \"Elev Gain\": null, \"Elev Loss\": null, \"Avg Stride Length\": 0.0, \"Climb Time\": 11.6, \"Best Lap Time\": 11.583333333333334, \"Number of Laps\": 1.0, \"Target\": 1}, {\"Activity Type\": \"Cycling\", \"Date\": \"2020-06-03 17:24:40\", \"Distance\": 1.37, \"Calories\": 36.0, \"Time\": 6.616666666666667, \"Avg HR\": 119.0, \"Max HR\": 132.0, \"Avg Run Cadence\": null, \"Max Run Cadence\": null, \"Avg Pace\": 0.20666666666666667, \"Best Pace\": 0.36333333333333334, \"Elev Gain\": 6.0, \"Elev Loss\": 11.0, \"Avg Stride Length\": 0.0, \"Climb Time\": 6.616666666666667, \"Best Lap Time\": 6.616666666666667, \"Number of Laps\": 1.0, \"Target\": 5}, {\"Activity Type\": \"Cycling\", \"Date\": \"2020-06-03 15:32:06\", \"Distance\": 4.1, \"Calories\": 132.0, \"Time\": 25.883333333333333, \"Avg HR\": 122.0, \"Max HR\": 160.0, \"Avg Run Cadence\": null, \"Max Run Cadence\": null, \"Avg Pace\": 0.15833333333333333, \"Best Pace\": 0.3516666666666667, \"Elev Gain\": 14.0, \"Elev Loss\": 3.0, \"Avg Stride Length\": 0.0, \"Climb Time\": 25.883333333333333, \"Best Lap Time\": 0.0, \"Number of Laps\": 1.0, \"Target\": 5}, {\"Activity Type\": \"Cycling\", \"Date\": \"2020-06-03 14:23:20\", \"Distance\": 2.52, \"Calories\": 63.0, \"Time\": 10.066666666666666, \"Avg HR\": 127.0, \"Max HR\": 142.0, \"Avg Run Cadence\": null, \"Max Run Cadence\": null, \"Avg Pace\": 0.25166666666666665, \"Best Pace\": 0.38166666666666665, \"Elev Gain\": 2.0, \"Elev Loss\": null, \"Avg Stride Length\": 0.0, \"Climb Time\": 10.066666666666666, \"Best Lap Time\": 0.0, \"Number of Laps\": 1.0, \"Target\": 5}, {\"Activity Type\": \"Running\", \"Date\": \"2020-06-03 10:43:30\", \"Distance\": 6.0, \"Calories\": 351.0, \"Time\": 40.266666666666666, \"Avg HR\": 172.0, \"Max HR\": 189.0, \"Avg Run Cadence\": 176.0, \"Max Run Cadence\": 184.0, \"Avg Pace\": 6.7, \"Best Pace\": 5.316666666666666, \"Elev Gain\": 2.0, \"Elev Loss\": null, \"Avg Stride Length\": 0.85, \"Climb Time\": 40.266666666666666, \"Best Lap Time\": 2.05, \"Number of Laps\": 8.0, \"Target\": 3}, {\"Activity Type\": \"Breathwork\", \"Date\": \"2020-06-03 09:41:13\", \"Distance\": 0.0, \"Calories\": 17.0, \"Time\": 11.516666666666667, \"Avg HR\": 79.0, \"Max HR\": 96.0, \"Avg Run Cadence\": null, \"Max Run Cadence\": null, \"Avg Pace\": null, \"Best Pace\": null, \"Elev Gain\": null, \"Elev Loss\": null, \"Avg Stride Length\": 0.0, \"Climb Time\": 11.516666666666667, \"Best Lap Time\": 0.0, \"Number of Laps\": 1.0, \"Target\": 1}, {\"Activity Type\": \"Cardio\", \"Date\": \"2020-06-02 22:33:20\", \"Distance\": 0.0, \"Calories\": 47.0, \"Time\": 10.516666666666667, \"Avg HR\": 111.0, \"Max HR\": 131.0, \"Avg Run Cadence\": null, \"Max Run Cadence\": null, \"Avg Pace\": null, \"Best Pace\": null, \"Elev Gain\": null, \"Elev Loss\": null, \"Avg Stride Length\": 0.0, \"Climb Time\": 10.516666666666667, \"Best Lap Time\": 0.0, \"Number of Laps\": 1.0, \"Target\": 2}, {\"Activity Type\": \"Breathwork\", \"Date\": \"2020-06-02 08:51:31\", \"Distance\": 0.0, \"Calories\": 13.0, \"Time\": 11.566666666666666, \"Avg HR\": 76.0, \"Max HR\": 84.0, \"Avg Run Cadence\": null, \"Max Run Cadence\": null, \"Avg Pace\": null, \"Best Pace\": null, \"Elev Gain\": null, \"Elev Loss\": null, \"Avg Stride Length\": 0.0, \"Climb Time\": 11.566666666666666, \"Best Lap Time\": 0.0, \"Number of Laps\": 1.0, \"Target\": 1}, {\"Activity Type\": \"Cycling\", \"Date\": \"2020-06-01 15:46:34\", \"Distance\": 3.22, \"Calories\": 67.0, \"Time\": 17.05, \"Avg HR\": 106.0, \"Max HR\": 124.0, \"Avg Run Cadence\": null, \"Max Run Cadence\": null, \"Avg Pace\": 0.18833333333333335, \"Best Pace\": 0.30333333333333334, \"Elev Gain\": 2.0, \"Elev Loss\": 2.0, \"Avg Stride Length\": 0.0, \"Climb Time\": 17.05, \"Best Lap Time\": 0.0, \"Number of Laps\": 1.0, \"Target\": 5}, {\"Activity Type\": \"Cycling\", \"Date\": \"2020-06-01 14:30:28\", \"Distance\": 2.42, \"Calories\": 53.0, \"Time\": 9.95, \"Avg HR\": 119.0, \"Max HR\": 128.0, \"Avg Run Cadence\": null, \"Max Run Cadence\": null, \"Avg Pace\": 0.24333333333333332, \"Best Pace\": 0.35500000000000004, \"Elev Gain\": null, \"Elev Loss\": null, \"Avg Stride Length\": 0.0, \"Climb Time\": 9.95, \"Best Lap Time\": 0.0, \"Number of Laps\": 1.0, \"Target\": 5}, {\"Activity Type\": \"Breathwork\", \"Date\": \"2020-06-01 08:57:31\", \"Distance\": 0.0, \"Calories\": 12.0, \"Time\": 11.466666666666667, \"Avg HR\": 72.0, \"Max HR\": 79.0, \"Avg Run Cadence\": null, \"Max Run Cadence\": null, \"Avg Pace\": null, \"Best Pace\": null, \"Elev Gain\": null, \"Elev Loss\": null, \"Avg Stride Length\": 0.0, \"Climb Time\": 11.466666666666667, \"Best Lap Time\": 0.0, \"Number of Laps\": 1.0, \"Target\": 1}, {\"Activity Type\": \"Cycling\", \"Date\": \"2020-05-31 17:19:04\", \"Distance\": 2.05, \"Calories\": 45.0, \"Time\": 8.566666666666666, \"Avg HR\": 117.0, \"Max HR\": 127.0, \"Avg Run Cadence\": null, \"Max Run Cadence\": null, \"Avg Pace\": 0.23833333333333334, \"Best Pace\": 0.31, \"Elev Gain\": null, \"Elev Loss\": 12.0, \"Avg Stride Length\": 0.0, \"Climb Time\": 8.566666666666666, \"Best Lap Time\": 0.0, \"Number of Laps\": 1.0, \"Target\": 5}, {\"Activity Type\": \"Cycling\", \"Date\": \"2020-05-31 15:46:47\", \"Distance\": 2.5, \"Calories\": 52.0, \"Time\": 8.65, \"Avg HR\": 125.0, \"Max HR\": 141.0, \"Avg Run Cadence\": null, \"Max Run Cadence\": null, \"Avg Pace\": 0.28833333333333333, \"Best Pace\": 0.3766666666666667, \"Elev Gain\": 2.0, \"Elev Loss\": null, \"Avg Stride Length\": 0.0, \"Climb Time\": 8.65, \"Best Lap Time\": 0.0, \"Number of Laps\": 1.0, \"Target\": 5}, {\"Activity Type\": \"Breathwork\", \"Date\": \"2020-05-31 09:50:49\", \"Distance\": 0.0, \"Calories\": 13.0, \"Time\": 11.5, \"Avg HR\": 70.0, \"Max HR\": 95.0, \"Avg Run Cadence\": null, \"Max Run Cadence\": null, \"Avg Pace\": null, \"Best Pace\": null, \"Elev Gain\": null, \"Elev Loss\": null, \"Avg Stride Length\": 0.0, \"Climb Time\": 11.5, \"Best Lap Time\": 0.0, \"Number of Laps\": 1.0, \"Target\": 1}, {\"Activity Type\": \"Cardio\", \"Date\": \"2020-05-30 20:43:23\", \"Distance\": 0.0, \"Calories\": 51.0, \"Time\": 9.7, \"Avg HR\": 119.0, \"Max HR\": 149.0, \"Avg Run Cadence\": null, \"Max Run Cadence\": null, \"Avg Pace\": null, \"Best Pace\": null, \"Elev Gain\": null, \"Elev Loss\": null, \"Avg Stride Length\": 0.0, \"Climb Time\": 9.7, \"Best Lap Time\": 0.0, \"Number of Laps\": 1.0, \"Target\": 2}, {\"Activity Type\": \"Yoga\", \"Date\": \"2020-05-30 19:56:45\", \"Distance\": 0.0, \"Calories\": 60.0, \"Time\": 32.65, \"Avg HR\": 83.0, \"Max HR\": 110.0, \"Avg Run Cadence\": null, \"Max Run Cadence\": null, \"Avg Pace\": null, \"Best Pace\": null, \"Elev Gain\": null, \"Elev Loss\": null, \"Avg Stride Length\": 0.0, \"Climb Time\": 32.65, \"Best Lap Time\": 0.0, \"Number of Laps\": 1.0, \"Target\": 7}, {\"Activity Type\": \"Walking\", \"Date\": \"2020-05-30 13:14:25\", \"Distance\": 1.93, \"Calories\": 121.0, \"Time\": 24.016666666666666, \"Avg HR\": 132.0, \"Max HR\": 146.0, \"Avg Run Cadence\": 97.0, \"Max Run Cadence\": 154.0, \"Avg Pace\": 12.483333333333333, \"Best Pace\": 9.866666666666667, \"Elev Gain\": 2.0, \"Elev Loss\": 17.0, \"Avg Stride Length\": 0.83, \"Climb Time\": 24.016666666666666, \"Best Lap Time\": 11.883333333333333, \"Number of Laps\": 2.0, \"Target\": 0}, {\"Activity Type\": \"Running\", \"Date\": \"2020-05-30 12:39:51\", \"Distance\": 4.6, \"Calories\": 273.0, \"Time\": 33.083333333333336, \"Avg HR\": 170.0, \"Max HR\": 188.0, \"Avg Run Cadence\": 158.0, \"Max Run Cadence\": 188.0, \"Avg Pace\": 7.183333333333334, \"Best Pace\": 5.6, \"Elev Gain\": 4.0, \"Elev Loss\": 2.0, \"Avg Stride Length\": 0.89, \"Climb Time\": 33.083333333333336, \"Best Lap Time\": 0.7, \"Number of Laps\": 7.0, \"Target\": 3}, {\"Activity Type\": \"Breathwork\", \"Date\": \"2020-05-30 09:28:39\", \"Distance\": 0.0, \"Calories\": 13.0, \"Time\": 11.516666666666667, \"Avg HR\": 75.0, \"Max HR\": 86.0, \"Avg Run Cadence\": null, \"Max Run Cadence\": null, \"Avg Pace\": null, \"Best Pace\": null, \"Elev Gain\": null, \"Elev Loss\": null, \"Avg Stride Length\": 0.0, \"Climb Time\": 11.516666666666667, \"Best Lap Time\": 0.0, \"Number of Laps\": 1.0, \"Target\": 1}, {\"Activity Type\": \"Walking\", \"Date\": \"2020-05-29 13:35:37\", \"Distance\": 0.69, \"Calories\": 41.0, \"Time\": 10.1, \"Avg HR\": 107.0, \"Max HR\": 118.0, \"Avg Run Cadence\": 90.0, \"Max Run Cadence\": 135.0, \"Avg Pace\": 14.65, \"Best Pace\": 9.166666666666666, \"Elev Gain\": 3.0, \"Elev Loss\": 40.0, \"Avg Stride Length\": 0.76, \"Climb Time\": 10.1, \"Best Lap Time\": 0.0, \"Number of Laps\": 1.0, \"Target\": 0}, {\"Activity Type\": \"Breathwork\", \"Date\": \"2020-05-29 10:10:05\", \"Distance\": 0.0, \"Calories\": 11.0, \"Time\": 11.516666666666667, \"Avg HR\": 67.0, \"Max HR\": 79.0, \"Avg Run Cadence\": null, \"Max Run Cadence\": null, \"Avg Pace\": null, \"Best Pace\": null, \"Elev Gain\": null, \"Elev Loss\": null, \"Avg Stride Length\": 0.0, \"Climb Time\": 11.516666666666667, \"Best Lap Time\": 0.0, \"Number of Laps\": 1.0, \"Target\": 1}, {\"Activity Type\": \"Yoga\", \"Date\": \"2020-05-28 18:20:28\", \"Distance\": 0.0, \"Calories\": 70.0, \"Time\": 36.13333333333333, \"Avg HR\": 84.0, \"Max HR\": 116.0, \"Avg Run Cadence\": null, \"Max Run Cadence\": null, \"Avg Pace\": null, \"Best Pace\": null, \"Elev Gain\": null, \"Elev Loss\": null, \"Avg Stride Length\": 0.0, \"Climb Time\": 36.13333333333333, \"Best Lap Time\": 0.0, \"Number of Laps\": 1.0, \"Target\": 7}, {\"Activity Type\": \"Yoga\", \"Date\": \"2020-05-28 11:06:02\", \"Distance\": 0.0, \"Calories\": 70.0, \"Time\": 26.233333333333334, \"Avg HR\": 93.0, \"Max HR\": 118.0, \"Avg Run Cadence\": null, \"Max Run Cadence\": null, \"Avg Pace\": null, \"Best Pace\": null, \"Elev Gain\": null, \"Elev Loss\": null, \"Avg Stride Length\": 0.0, \"Climb Time\": 26.233333333333334, \"Best Lap Time\": 0.0, \"Number of Laps\": 1.0, \"Target\": 7}, {\"Activity Type\": \"Breathwork\", \"Date\": \"2020-05-28 10:37:02\", \"Distance\": 0.0, \"Calories\": 10.0, \"Time\": 11.333333333333334, \"Avg HR\": 69.0, \"Max HR\": 85.0, \"Avg Run Cadence\": null, \"Max Run Cadence\": null, \"Avg Pace\": null, \"Best Pace\": null, \"Elev Gain\": null, \"Elev Loss\": null, \"Avg Stride Length\": 0.0, \"Climb Time\": 11.333333333333334, \"Best Lap Time\": 0.0, \"Number of Laps\": 1.0, \"Target\": 1}, {\"Activity Type\": \"Yoga\", \"Date\": \"2020-05-27 11:11:58\", \"Distance\": 0.0, \"Calories\": 57.0, \"Time\": 22.966666666666665, \"Avg HR\": 91.0, \"Max HR\": 109.0, \"Avg Run Cadence\": null, \"Max Run Cadence\": null, \"Avg Pace\": null, \"Best Pace\": null, \"Elev Gain\": null, \"Elev Loss\": null, \"Avg Stride Length\": 0.0, \"Climb Time\": 22.966666666666665, \"Best Lap Time\": 0.0, \"Number of Laps\": 1.0, \"Target\": 7}, {\"Activity Type\": \"Breathwork\", \"Date\": \"2020-05-27 10:36:19\", \"Distance\": 0.0, \"Calories\": 12.0, \"Time\": 11.55, \"Avg HR\": 70.0, \"Max HR\": 93.0, \"Avg Run Cadence\": null, \"Max Run Cadence\": null, \"Avg Pace\": null, \"Best Pace\": null, \"Elev Gain\": null, \"Elev Loss\": null, \"Avg Stride Length\": 0.0, \"Climb Time\": 11.55, \"Best Lap Time\": 0.0, \"Number of Laps\": 1.0, \"Target\": 1}, {\"Activity Type\": \"Breathwork\", \"Date\": \"2020-05-26 10:48:43\", \"Distance\": 0.0, \"Calories\": 10.0, \"Time\": 11.583333333333334, \"Avg HR\": 66.0, \"Max HR\": 75.0, \"Avg Run Cadence\": null, \"Max Run Cadence\": null, \"Avg Pace\": null, \"Best Pace\": null, \"Elev Gain\": null, \"Elev Loss\": null, \"Avg Stride Length\": 0.0, \"Climb Time\": 11.583333333333334, \"Best Lap Time\": 0.0, \"Number of Laps\": 1.0, \"Target\": 1}, {\"Activity Type\": \"Breathwork\", \"Date\": \"2020-05-25 11:31:40\", \"Distance\": 0.0, \"Calories\": 12.0, \"Time\": 11.35, \"Avg HR\": 69.0, \"Max HR\": 91.0, \"Avg Run Cadence\": null, \"Max Run Cadence\": null, \"Avg Pace\": null, \"Best Pace\": null, \"Elev Gain\": null, \"Elev Loss\": null, \"Avg Stride Length\": 0.0, \"Climb Time\": 11.35, \"Best Lap Time\": 0.0, \"Number of Laps\": 1.0, \"Target\": 1}, {\"Activity Type\": \"Breathwork\", \"Date\": \"2020-05-24 09:15:49\", \"Distance\": 0.0, \"Calories\": 12.0, \"Time\": 11.5, \"Avg HR\": 73.0, \"Max HR\": 79.0, \"Avg Run Cadence\": null, \"Max Run Cadence\": null, \"Avg Pace\": null, \"Best Pace\": null, \"Elev Gain\": null, \"Elev Loss\": null, \"Avg Stride Length\": 0.0, \"Climb Time\": 11.5, \"Best Lap Time\": 0.0, \"Number of Laps\": 1.0, \"Target\": 1}, {\"Activity Type\": \"Walking\", \"Date\": \"2020-05-23 13:12:21\", \"Distance\": 1.96, \"Calories\": 98.0, \"Time\": 26.466666666666665, \"Avg HR\": 116.0, \"Max HR\": 123.0, \"Avg Run Cadence\": 104.0, \"Max Run Cadence\": 119.0, \"Avg Pace\": 13.483333333333333, \"Best Pace\": 11.6, \"Elev Gain\": null, \"Elev Loss\": null, \"Avg Stride Length\": 0.71, \"Climb Time\": 26.466666666666665, \"Best Lap Time\": 13.083333333333334, \"Number of Laps\": 2.0, \"Target\": 0}, {\"Activity Type\": \"Running\", \"Date\": \"2020-05-23 12:40:05\", \"Distance\": 3.46, \"Calories\": 197.0, \"Time\": 25.433333333333334, \"Avg HR\": 158.0, \"Max HR\": 175.0, \"Avg Run Cadence\": 162.0, \"Max Run Cadence\": 188.0, \"Avg Pace\": 7.366666666666666, \"Best Pace\": 5.85, \"Elev Gain\": 7.0, \"Elev Loss\": 6.0, \"Avg Stride Length\": 0.83, \"Climb Time\": 25.433333333333334, \"Best Lap Time\": 0.43333333333333335, \"Number of Laps\": 6.0, \"Target\": 3}, {\"Activity Type\": \"Yoga\", \"Date\": \"2020-05-23 11:22:40\", \"Distance\": 0.0, \"Calories\": 39.0, \"Time\": 20.933333333333334, \"Avg HR\": 87.0, \"Max HR\": 100.0, \"Avg Run Cadence\": null, \"Max Run Cadence\": null, \"Avg Pace\": null, \"Best Pace\": null, \"Elev Gain\": null, \"Elev Loss\": null, \"Avg Stride Length\": 0.0, \"Climb Time\": 20.933333333333334, \"Best Lap Time\": 0.0, \"Number of Laps\": 1.0, \"Target\": 7}, {\"Activity Type\": \"Breathwork\", \"Date\": \"2020-05-23 08:59:25\", \"Distance\": 0.0, \"Calories\": 17.0, \"Time\": 11.466666666666667, \"Avg HR\": 80.0, \"Max HR\": 90.0, \"Avg Run Cadence\": null, \"Max Run Cadence\": null, \"Avg Pace\": null, \"Best Pace\": null, \"Elev Gain\": null, \"Elev Loss\": null, \"Avg Stride Length\": 0.0, \"Climb Time\": 11.466666666666667, \"Best Lap Time\": 0.0, \"Number of Laps\": 1.0, \"Target\": 1}, {\"Activity Type\": \"Breathwork\", \"Date\": \"2020-05-22 23:21:08\", \"Distance\": 0.0, \"Calories\": 13.0, \"Time\": 11.483333333333333, \"Avg HR\": 71.0, \"Max HR\": 75.0, \"Avg Run Cadence\": null, \"Max Run Cadence\": null, \"Avg Pace\": null, \"Best Pace\": null, \"Elev Gain\": null, \"Elev Loss\": null, \"Avg Stride Length\": 0.0, \"Climb Time\": 11.483333333333333, \"Best Lap Time\": 0.0, \"Number of Laps\": 1.0, \"Target\": 1}, {\"Activity Type\": \"Yoga\", \"Date\": \"2020-05-22 22:24:45\", \"Distance\": 0.0, \"Calories\": 62.0, \"Time\": 22.0, \"Avg HR\": 97.0, \"Max HR\": 114.0, \"Avg Run Cadence\": null, \"Max Run Cadence\": null, \"Avg Pace\": null, \"Best Pace\": null, \"Elev Gain\": null, \"Elev Loss\": null, \"Avg Stride Length\": 0.0, \"Climb Time\": 22.0, \"Best Lap Time\": 0.0, \"Number of Laps\": 1.0, \"Target\": 7}, {\"Activity Type\": \"Walking\", \"Date\": \"2020-05-22 20:26:13\", \"Distance\": 2.31, \"Calories\": 144.0, \"Time\": 36.416666666666664, \"Avg HR\": 123.0, \"Max HR\": 135.0, \"Avg Run Cadence\": 77.0, \"Max Run Cadence\": 148.0, \"Avg Pace\": 15.733333333333333, \"Best Pace\": 10.633333333333333, \"Elev Gain\": 2.0, \"Elev Loss\": 2.0, \"Avg Stride Length\": 0.84, \"Climb Time\": 36.416666666666664, \"Best Lap Time\": 5.116666666666666, \"Number of Laps\": 3.0, \"Target\": 0}, {\"Activity Type\": \"Running\", \"Date\": \"2020-05-22 20:15:09\", \"Distance\": 1.46, \"Calories\": 74.0, \"Time\": 9.0, \"Avg HR\": 156.0, \"Max HR\": 167.0, \"Avg Run Cadence\": 175.0, \"Max Run Cadence\": 182.0, \"Avg Pace\": 6.15, \"Best Pace\": 5.083333333333333, \"Elev Gain\": 2.0, \"Elev Loss\": 3.0, \"Avg Stride Length\": 0.93, \"Climb Time\": 9.0, \"Best Lap Time\": 2.0, \"Number of Laps\": 3.0, \"Target\": 3}, {\"Activity Type\": \"Breathwork\", \"Date\": \"2020-05-22 10:05:20\", \"Distance\": 0.0, \"Calories\": 13.0, \"Time\": 11.383333333333333, \"Avg HR\": 73.0, \"Max HR\": 84.0, \"Avg Run Cadence\": null, \"Max Run Cadence\": null, \"Avg Pace\": null, \"Best Pace\": null, \"Elev Gain\": null, \"Elev Loss\": null, \"Avg Stride Length\": 0.0, \"Climb Time\": 11.383333333333333, \"Best Lap Time\": 0.0, \"Number of Laps\": 1.0, \"Target\": 1}, {\"Activity Type\": \"Cycling\", \"Date\": \"2020-05-21 19:22:52\", \"Distance\": 3.82, \"Calories\": 132.0, \"Time\": 15.333333333333334, \"Avg HR\": 141.0, \"Max HR\": 167.0, \"Avg Run Cadence\": null, \"Max Run Cadence\": null, \"Avg Pace\": 0.24833333333333335, \"Best Pace\": 0.48833333333333334, \"Elev Gain\": 4.0, \"Elev Loss\": 46.0, \"Avg Stride Length\": 0.0, \"Climb Time\": 15.333333333333334, \"Best Lap Time\": 0.0, \"Number of Laps\": 1.0, \"Target\": 5}, {\"Activity Type\": \"Strength\", \"Date\": \"2020-05-21 17:36:33\", \"Distance\": 0.0, \"Calories\": 656.0, \"Time\": 88.23333333333333, \"Avg HR\": 159.0, \"Max HR\": 186.0, \"Avg Run Cadence\": null, \"Max Run Cadence\": null, \"Avg Pace\": null, \"Best Pace\": null, \"Elev Gain\": null, \"Elev Loss\": null, \"Avg Stride Length\": 0.0, \"Climb Time\": 88.23333333333333, \"Best Lap Time\": 0.0, \"Number of Laps\": 1.0, \"Target\": 4}, {\"Activity Type\": \"Cycling\", \"Date\": \"2020-05-21 16:53:50\", \"Distance\": 10.25, \"Calories\": 308.0, \"Time\": 33.75, \"Avg HR\": 169.0, \"Max HR\": 186.0, \"Avg Run Cadence\": null, \"Max Run Cadence\": null, \"Avg Pace\": 0.30333333333333334, \"Best Pace\": 0.455, \"Elev Gain\": 21.0, \"Elev Loss\": 9.0, \"Avg Stride Length\": 0.0, \"Climb Time\": 33.75, \"Best Lap Time\": 1.1166666666666667, \"Number of Laps\": 3.0, \"Target\": 5}, {\"Activity Type\": \"Yoga\", \"Date\": \"2020-05-21 09:45:04\", \"Distance\": 0.0, \"Calories\": 93.0, \"Time\": 41.13333333333333, \"Avg HR\": 92.0, \"Max HR\": 110.0, \"Avg Run Cadence\": null, \"Max Run Cadence\": null, \"Avg Pace\": null, \"Best Pace\": null, \"Elev Gain\": null, \"Elev Loss\": null, \"Avg Stride Length\": 0.0, \"Climb Time\": 41.13333333333333, \"Best Lap Time\": 0.0, \"Number of Laps\": 1.0, \"Target\": 7}, {\"Activity Type\": \"Breathwork\", \"Date\": \"2020-05-21 09:11:21\", \"Distance\": 0.0, \"Calories\": 12.0, \"Time\": 11.5, \"Avg HR\": 72.0, \"Max HR\": 90.0, \"Avg Run Cadence\": null, \"Max Run Cadence\": null, \"Avg Pace\": null, \"Best Pace\": null, \"Elev Gain\": null, \"Elev Loss\": null, \"Avg Stride Length\": 0.0, \"Climb Time\": 11.5, \"Best Lap Time\": 0.0, \"Number of Laps\": 1.0, \"Target\": 1}, {\"Activity Type\": \"Breathwork\", \"Date\": \"2020-05-20 08:22:20\", \"Distance\": 0.0, \"Calories\": 12.0, \"Time\": 11.233333333333333, \"Avg HR\": 72.0, \"Max HR\": 86.0, \"Avg Run Cadence\": null, \"Max Run Cadence\": null, \"Avg Pace\": null, \"Best Pace\": null, \"Elev Gain\": null, \"Elev Loss\": null, \"Avg Stride Length\": 0.0, \"Climb Time\": 11.233333333333333, \"Best Lap Time\": 0.0, \"Number of Laps\": 1.0, \"Target\": 1}, {\"Activity Type\": \"Yoga\", \"Date\": \"2020-05-19 09:55:13\", \"Distance\": 0.0, \"Calories\": 70.0, \"Time\": 30.483333333333334, \"Avg HR\": 93.0, \"Max HR\": 122.0, \"Avg Run Cadence\": null, \"Max Run Cadence\": null, \"Avg Pace\": null, \"Best Pace\": null, \"Elev Gain\": null, \"Elev Loss\": null, \"Avg Stride Length\": 0.0, \"Climb Time\": 30.483333333333334, \"Best Lap Time\": 0.0, \"Number of Laps\": 1.0, \"Target\": 7}, {\"Activity Type\": \"Breathwork\", \"Date\": \"2020-05-19 08:15:15\", \"Distance\": 0.0, \"Calories\": null, \"Time\": 6.25, \"Avg HR\": null, \"Max HR\": null, \"Avg Run Cadence\": null, \"Max Run Cadence\": null, \"Avg Pace\": null, \"Best Pace\": null, \"Elev Gain\": null, \"Elev Loss\": null, \"Avg Stride Length\": 0.0, \"Climb Time\": 6.25, \"Best Lap Time\": 0.0, \"Number of Laps\": 1.0, \"Target\": 1}, {\"Activity Type\": \"Yoga\", \"Date\": \"2020-05-18 16:56:36\", \"Distance\": 0.0, \"Calories\": 58.0, \"Time\": 30.05, \"Avg HR\": 82.0, \"Max HR\": 115.0, \"Avg Run Cadence\": null, \"Max Run Cadence\": null, \"Avg Pace\": null, \"Best Pace\": null, \"Elev Gain\": null, \"Elev Loss\": null, \"Avg Stride Length\": 0.0, \"Climb Time\": 30.05, \"Best Lap Time\": 0.0, \"Number of Laps\": 1.0, \"Target\": 7}, {\"Activity Type\": \"Breathwork\", \"Date\": \"2020-05-18 10:18:46\", \"Distance\": 0.0, \"Calories\": 7.0, \"Time\": 6.25, \"Avg HR\": 69.0, \"Max HR\": 75.0, \"Avg Run Cadence\": null, \"Max Run Cadence\": null, \"Avg Pace\": null, \"Best Pace\": null, \"Elev Gain\": null, \"Elev Loss\": null, \"Avg Stride Length\": 0.0, \"Climb Time\": 6.25, \"Best Lap Time\": 0.0, \"Number of Laps\": 1.0, \"Target\": 1}, {\"Activity Type\": \"Yoga\", \"Date\": \"2020-05-17 09:55:57\", \"Distance\": 0.0, \"Calories\": 99.0, \"Time\": 34.28333333333333, \"Avg HR\": 97.0, \"Max HR\": 137.0, \"Avg Run Cadence\": null, \"Max Run Cadence\": null, \"Avg Pace\": null, \"Best Pace\": null, \"Elev Gain\": null, \"Elev Loss\": null, \"Avg Stride Length\": 0.0, \"Climb Time\": 34.28333333333333, \"Best Lap Time\": 0.0, \"Number of Laps\": 1.0, \"Target\": 7}, {\"Activity Type\": \"Breathwork\", \"Date\": \"2020-05-17 09:33:37\", \"Distance\": 0.0, \"Calories\": 6.0, \"Time\": 5.716666666666667, \"Avg HR\": 72.0, \"Max HR\": 83.0, \"Avg Run Cadence\": null, \"Max Run Cadence\": null, \"Avg Pace\": null, \"Best Pace\": null, \"Elev Gain\": null, \"Elev Loss\": null, \"Avg Stride Length\": 0.0, \"Climb Time\": 5.716666666666667, \"Best Lap Time\": 0.0, \"Number of Laps\": 1.0, \"Target\": 1}, {\"Activity Type\": \"Breathwork\", \"Date\": \"2020-05-16 08:03:17\", \"Distance\": 0.0, \"Calories\": 7.0, \"Time\": 6.466666666666667, \"Avg HR\": 67.0, \"Max HR\": 74.0, \"Avg Run Cadence\": null, \"Max Run Cadence\": null, \"Avg Pace\": null, \"Best Pace\": null, \"Elev Gain\": null, \"Elev Loss\": null, \"Avg Stride Length\": 0.0, \"Climb Time\": 6.466666666666667, \"Best Lap Time\": 0.0, \"Number of Laps\": 1.0, \"Target\": 1}, {\"Activity Type\": \"Yoga\", \"Date\": \"2020-05-15 13:12:47\", \"Distance\": 0.0, \"Calories\": 50.0, \"Time\": 31.033333333333335, \"Avg HR\": 79.0, \"Max HR\": 135.0, \"Avg Run Cadence\": null, \"Max Run Cadence\": null, \"Avg Pace\": null, \"Best Pace\": null, \"Elev Gain\": null, \"Elev Loss\": null, \"Avg Stride Length\": 0.0, \"Climb Time\": 31.033333333333335, \"Best Lap Time\": 0.0, \"Number of Laps\": 1.0, \"Target\": 7}, {\"Activity Type\": \"Breathwork\", \"Date\": \"2020-05-15 08:02:45\", \"Distance\": 0.0, \"Calories\": 6.0, \"Time\": 6.083333333333333, \"Avg HR\": 66.0, \"Max HR\": 72.0, \"Avg Run Cadence\": null, \"Max Run Cadence\": null, \"Avg Pace\": null, \"Best Pace\": null, \"Elev Gain\": null, \"Elev Loss\": null, \"Avg Stride Length\": 0.0, \"Climb Time\": 6.083333333333333, \"Best Lap Time\": 0.0, \"Number of Laps\": 1.0, \"Target\": 1}, {\"Activity Type\": \"Breathwork\", \"Date\": \"2020-05-14 08:35:37\", \"Distance\": 0.0, \"Calories\": 5.0, \"Time\": 6.4, \"Avg HR\": 66.0, \"Max HR\": 70.0, \"Avg Run Cadence\": null, \"Max Run Cadence\": null, \"Avg Pace\": null, \"Best Pace\": null, \"Elev Gain\": null, \"Elev Loss\": null, \"Avg Stride Length\": 0.0, \"Climb Time\": 6.4, \"Best Lap Time\": 0.0, \"Number of Laps\": 1.0, \"Target\": 1}, {\"Activity Type\": \"Yoga\", \"Date\": \"2020-05-13 10:14:21\", \"Distance\": 0.0, \"Calories\": 88.0, \"Time\": 31.283333333333335, \"Avg HR\": 96.0, \"Max HR\": 122.0, \"Avg Run Cadence\": null, \"Max Run Cadence\": null, \"Avg Pace\": null, \"Best Pace\": null, \"Elev Gain\": null, \"Elev Loss\": null, \"Avg Stride Length\": 0.0, \"Climb Time\": 31.283333333333335, \"Best Lap Time\": 0.0, \"Number of Laps\": 1.0, \"Target\": 7}, {\"Activity Type\": \"Breathwork\", \"Date\": \"2020-05-13 08:24:37\", \"Distance\": 0.0, \"Calories\": 6.0, \"Time\": 6.216666666666667, \"Avg HR\": 71.0, \"Max HR\": 80.0, \"Avg Run Cadence\": null, \"Max Run Cadence\": null, \"Avg Pace\": null, \"Best Pace\": null, \"Elev Gain\": null, \"Elev Loss\": null, \"Avg Stride Length\": 0.0, \"Climb Time\": 6.216666666666667, \"Best Lap Time\": 0.0, \"Number of Laps\": 1.0, \"Target\": 1}, {\"Activity Type\": \"Yoga\", \"Date\": \"2020-05-12 22:28:41\", \"Distance\": 0.0, \"Calories\": 30.0, \"Time\": 19.75, \"Avg HR\": 80.0, \"Max HR\": 98.0, \"Avg Run Cadence\": null, \"Max Run Cadence\": null, \"Avg Pace\": null, \"Best Pace\": null, \"Elev Gain\": null, \"Elev Loss\": null, \"Avg Stride Length\": 0.0, \"Climb Time\": 19.75, \"Best Lap Time\": 0.0, \"Number of Laps\": 1.0, \"Target\": 7}, {\"Activity Type\": \"Breathwork\", \"Date\": \"2020-05-12 08:45:13\", \"Distance\": 0.0, \"Calories\": 7.0, \"Time\": 6.283333333333333, \"Avg HR\": 75.0, \"Max HR\": 100.0, \"Avg Run Cadence\": null, \"Max Run Cadence\": null, \"Avg Pace\": null, \"Best Pace\": null, \"Elev Gain\": null, \"Elev Loss\": null, \"Avg Stride Length\": 0.0, \"Climb Time\": 6.283333333333333, \"Best Lap Time\": 0.0, \"Number of Laps\": 1.0, \"Target\": 1}, {\"Activity Type\": \"Yoga\", \"Date\": \"2020-05-11 11:37:25\", \"Distance\": 0.0, \"Calories\": 30.0, \"Time\": 16.1, \"Avg HR\": 82.0, \"Max HR\": 118.0, \"Avg Run Cadence\": null, \"Max Run Cadence\": null, \"Avg Pace\": null, \"Best Pace\": null, \"Elev Gain\": null, \"Elev Loss\": null, \"Avg Stride Length\": 0.0, \"Climb Time\": 16.1, \"Best Lap Time\": 0.0, \"Number of Laps\": 1.0, \"Target\": 7}, {\"Activity Type\": \"Breathwork\", \"Date\": \"2020-05-11 08:05:43\", \"Distance\": 0.0, \"Calories\": 7.0, \"Time\": 6.416666666666667, \"Avg HR\": 72.0, \"Max HR\": 77.0, \"Avg Run Cadence\": null, \"Max Run Cadence\": null, \"Avg Pace\": null, \"Best Pace\": null, \"Elev Gain\": null, \"Elev Loss\": null, \"Avg Stride Length\": 0.0, \"Climb Time\": 6.416666666666667, \"Best Lap Time\": 0.0, \"Number of Laps\": 1.0, \"Target\": 1}, {\"Activity Type\": \"Yoga\", \"Date\": \"2020-05-10 07:48:23\", \"Distance\": 0.0, \"Calories\": 66.0, \"Time\": 40.18333333333333, \"Avg HR\": 82.0, \"Max HR\": 104.0, \"Avg Run Cadence\": null, \"Max Run Cadence\": null, \"Avg Pace\": null, \"Best Pace\": null, \"Elev Gain\": null, \"Elev Loss\": null, \"Avg Stride Length\": 0.0, \"Climb Time\": 40.18333333333333, \"Best Lap Time\": 0.0, \"Number of Laps\": 1.0, \"Target\": 7}, {\"Activity Type\": \"Breathwork\", \"Date\": \"2020-05-10 07:22:05\", \"Distance\": 0.0, \"Calories\": 8.0, \"Time\": 6.533333333333333, \"Avg HR\": 75.0, \"Max HR\": 90.0, \"Avg Run Cadence\": null, \"Max Run Cadence\": null, \"Avg Pace\": null, \"Best Pace\": null, \"Elev Gain\": null, \"Elev Loss\": null, \"Avg Stride Length\": 0.0, \"Climb Time\": 6.533333333333333, \"Best Lap Time\": 0.0, \"Number of Laps\": 1.0, \"Target\": 1}, {\"Activity Type\": \"Walking\", \"Date\": \"2020-05-09 17:26:35\", \"Distance\": 0.6, \"Calories\": 36.0, \"Time\": 10.183333333333334, \"Avg HR\": 109.0, \"Max HR\": 116.0, \"Avg Run Cadence\": 39.0, \"Max Run Cadence\": 116.0, \"Avg Pace\": 16.916666666666668, \"Best Pace\": 10.566666666666666, \"Elev Gain\": 2.0, \"Elev Loss\": null, \"Avg Stride Length\": 1.53, \"Climb Time\": 10.183333333333334, \"Best Lap Time\": 0.0, \"Number of Laps\": 1.0, \"Target\": 0}, {\"Activity Type\": \"Yoga\", \"Date\": \"2020-05-09 08:37:09\", \"Distance\": 0.0, \"Calories\": 70.0, \"Time\": 24.533333333333335, \"Avg HR\": 100.0, \"Max HR\": 115.0, \"Avg Run Cadence\": null, \"Max Run Cadence\": null, \"Avg Pace\": null, \"Best Pace\": null, \"Elev Gain\": null, \"Elev Loss\": null, \"Avg Stride Length\": 0.0, \"Climb Time\": 24.533333333333335, \"Best Lap Time\": 0.0, \"Number of Laps\": 1.0, \"Target\": 7}, {\"Activity Type\": \"Breathwork\", \"Date\": \"2020-05-09 07:48:26\", \"Distance\": 0.0, \"Calories\": 6.0, \"Time\": 6.016666666666667, \"Avg HR\": 71.0, \"Max HR\": 83.0, \"Avg Run Cadence\": null, \"Max Run Cadence\": null, \"Avg Pace\": null, \"Best Pace\": null, \"Elev Gain\": null, \"Elev Loss\": null, \"Avg Stride Length\": 0.0, \"Climb Time\": 6.016666666666667, \"Best Lap Time\": 0.0, \"Number of Laps\": 1.0, \"Target\": 1}, {\"Activity Type\": \"Running\", \"Date\": \"2020-05-08 15:20:23\", \"Distance\": 0.24, \"Calories\": 14.0, \"Time\": 3.4166666666666665, \"Avg HR\": 116.0, \"Max HR\": 134.0, \"Avg Run Cadence\": 102.0, \"Max Run Cadence\": 130.0, \"Avg Pace\": 14.316666666666666, \"Best Pace\": 5.633333333333333, \"Elev Gain\": 5.0, \"Elev Loss\": 2.0, \"Avg Stride Length\": 0.68, \"Climb Time\": 3.4166666666666665, \"Best Lap Time\": 0.0, \"Number of Laps\": 1.0, \"Target\": 3}, {\"Activity Type\": \"Yoga\", \"Date\": \"2020-05-08 07:54:02\", \"Distance\": 0.0, \"Calories\": 36.0, \"Time\": 19.0, \"Avg HR\": 88.0, \"Max HR\": 108.0, \"Avg Run Cadence\": null, \"Max Run Cadence\": null, \"Avg Pace\": null, \"Best Pace\": null, \"Elev Gain\": null, \"Elev Loss\": null, \"Avg Stride Length\": 0.0, \"Climb Time\": 19.0, \"Best Lap Time\": 0.0, \"Number of Laps\": 1.0, \"Target\": 7}, {\"Activity Type\": \"Breathwork\", \"Date\": \"2020-05-08 07:23:32\", \"Distance\": 0.0, \"Calories\": 8.0, \"Time\": 6.016666666666667, \"Avg HR\": 77.0, \"Max HR\": 89.0, \"Avg Run Cadence\": null, \"Max Run Cadence\": null, \"Avg Pace\": null, \"Best Pace\": null, \"Elev Gain\": null, \"Elev Loss\": null, \"Avg Stride Length\": 0.0, \"Climb Time\": 6.016666666666667, \"Best Lap Time\": 0.0, \"Number of Laps\": 1.0, \"Target\": 1}, {\"Activity Type\": \"Walking\", \"Date\": \"2020-05-07 13:41:57\", \"Distance\": 0.7, \"Calories\": 36.0, \"Time\": 10.333333333333334, \"Avg HR\": 106.0, \"Max HR\": 117.0, \"Avg Run Cadence\": 95.0, \"Max Run Cadence\": 130.0, \"Avg Pace\": 14.716666666666667, \"Best Pace\": 10.383333333333333, \"Elev Gain\": 2.0, \"Elev Loss\": null, \"Avg Stride Length\": 0.71, \"Climb Time\": 10.333333333333334, \"Best Lap Time\": 0.0, \"Number of Laps\": 1.0, \"Target\": 0}, {\"Activity Type\": \"Yoga\", \"Date\": \"2020-05-07 07:48:52\", \"Distance\": 0.0, \"Calories\": 40.0, \"Time\": 16.45, \"Avg HR\": 92.0, \"Max HR\": 118.0, \"Avg Run Cadence\": null, \"Max Run Cadence\": null, \"Avg Pace\": null, \"Best Pace\": null, \"Elev Gain\": null, \"Elev Loss\": null, \"Avg Stride Length\": 0.0, \"Climb Time\": 16.45, \"Best Lap Time\": 0.0, \"Number of Laps\": 1.0, \"Target\": 7}, {\"Activity Type\": \"Breathwork\", \"Date\": \"2020-05-07 07:32:38\", \"Distance\": 0.0, \"Calories\": 7.0, \"Time\": 5.683333333333334, \"Avg HR\": 80.0, \"Max HR\": 90.0, \"Avg Run Cadence\": null, \"Max Run Cadence\": null, \"Avg Pace\": null, \"Best Pace\": null, \"Elev Gain\": null, \"Elev Loss\": null, \"Avg Stride Length\": 0.0, \"Climb Time\": 5.683333333333334, \"Best Lap Time\": 0.0, \"Number of Laps\": 1.0, \"Target\": 1}, {\"Activity Type\": \"Strength\", \"Date\": \"2020-05-06 19:58:03\", \"Distance\": 0.0, \"Calories\": 149.0, \"Time\": 26.4, \"Avg HR\": 125.0, \"Max HR\": 159.0, \"Avg Run Cadence\": null, \"Max Run Cadence\": null, \"Avg Pace\": null, \"Best Pace\": null, \"Elev Gain\": null, \"Elev Loss\": null, \"Avg Stride Length\": 0.0, \"Climb Time\": 26.4, \"Best Lap Time\": 0.0, \"Number of Laps\": 1.0, \"Target\": 4}, {\"Activity Type\": \"Strength\", \"Date\": \"2020-05-06 11:58:09\", \"Distance\": 0.0, \"Calories\": 266.0, \"Time\": 36.35, \"Avg HR\": 148.0, \"Max HR\": 174.0, \"Avg Run Cadence\": null, \"Max Run Cadence\": null, \"Avg Pace\": null, \"Best Pace\": null, \"Elev Gain\": null, \"Elev Loss\": null, \"Avg Stride Length\": 0.0, \"Climb Time\": 36.35, \"Best Lap Time\": 0.0, \"Number of Laps\": 1.0, \"Target\": 4}, {\"Activity Type\": \"Yoga\", \"Date\": \"2020-05-06 07:32:35\", \"Distance\": 0.0, \"Calories\": 21.0, \"Time\": 10.116666666666667, \"Avg HR\": 86.0, \"Max HR\": 113.0, \"Avg Run Cadence\": null, \"Max Run Cadence\": null, \"Avg Pace\": null, \"Best Pace\": null, \"Elev Gain\": null, \"Elev Loss\": null, \"Avg Stride Length\": 0.0, \"Climb Time\": 10.116666666666667, \"Best Lap Time\": 0.0, \"Number of Laps\": 1.0, \"Target\": 7}, {\"Activity Type\": \"Breathwork\", \"Date\": \"2020-05-06 07:24:24\", \"Distance\": 0.0, \"Calories\": 8.0, \"Time\": 6.183333333333334, \"Avg HR\": 77.0, \"Max HR\": 95.0, \"Avg Run Cadence\": null, \"Max Run Cadence\": null, \"Avg Pace\": null, \"Best Pace\": null, \"Elev Gain\": null, \"Elev Loss\": null, \"Avg Stride Length\": 0.0, \"Climb Time\": 6.183333333333334, \"Best Lap Time\": 0.0, \"Number of Laps\": 1.0, \"Target\": 1}, {\"Activity Type\": \"Yoga\", \"Date\": \"2020-05-05 07:54:14\", \"Distance\": 0.0, \"Calories\": 63.0, \"Time\": 33.0, \"Avg HR\": 88.0, \"Max HR\": 116.0, \"Avg Run Cadence\": null, \"Max Run Cadence\": null, \"Avg Pace\": null, \"Best Pace\": null, \"Elev Gain\": null, \"Elev Loss\": null, \"Avg Stride Length\": 0.0, \"Climb Time\": 33.0, \"Best Lap Time\": 0.0, \"Number of Laps\": 1.0, \"Target\": 7}, {\"Activity Type\": \"Breathwork\", \"Date\": \"2020-05-05 07:28:00\", \"Distance\": 0.0, \"Calories\": 7.0, \"Time\": 6.383333333333334, \"Avg HR\": 71.0, \"Max HR\": 80.0, \"Avg Run Cadence\": null, \"Max Run Cadence\": null, \"Avg Pace\": null, \"Best Pace\": null, \"Elev Gain\": null, \"Elev Loss\": null, \"Avg Stride Length\": 0.0, \"Climb Time\": 6.383333333333334, \"Best Lap Time\": 0.0, \"Number of Laps\": 1.0, \"Target\": 1}, {\"Activity Type\": \"Walking\", \"Date\": \"2020-05-04 17:40:21\", \"Distance\": 5.16, \"Calories\": 265.0, \"Time\": 75.38333333333334, \"Avg HR\": 113.0, \"Max HR\": 139.0, \"Avg Run Cadence\": 66.0, \"Max Run Cadence\": 158.0, \"Avg Pace\": 14.6, \"Best Pace\": 10.566666666666666, \"Elev Gain\": 9.0, \"Elev Loss\": 6.0, \"Avg Stride Length\": 1.08, \"Climb Time\": 75.38333333333334, \"Best Lap Time\": 3.1333333333333333, \"Number of Laps\": 6.0, \"Target\": 0}, {\"Activity Type\": \"Breathwork\", \"Date\": \"2020-05-04 07:36:31\", \"Distance\": 0.0, \"Calories\": 5.0, \"Time\": 6.066666666666666, \"Avg HR\": 66.0, \"Max HR\": 78.0, \"Avg Run Cadence\": null, \"Max Run Cadence\": null, \"Avg Pace\": null, \"Best Pace\": null, \"Elev Gain\": null, \"Elev Loss\": null, \"Avg Stride Length\": 0.0, \"Climb Time\": 6.066666666666666, \"Best Lap Time\": 0.0, \"Number of Laps\": 1.0, \"Target\": 1}, {\"Activity Type\": \"Breathwork\", \"Date\": \"2020-05-03 10:33:39\", \"Distance\": 0.0, \"Calories\": 6.0, \"Time\": 6.4, \"Avg HR\": 65.0, \"Max HR\": 74.0, \"Avg Run Cadence\": null, \"Max Run Cadence\": null, \"Avg Pace\": null, \"Best Pace\": null, \"Elev Gain\": null, \"Elev Loss\": null, \"Avg Stride Length\": 0.0, \"Climb Time\": 6.4, \"Best Lap Time\": 0.0, \"Number of Laps\": 1.0, \"Target\": 1}, {\"Activity Type\": \"Walking\", \"Date\": \"2020-05-02 14:41:40\", \"Distance\": 4.34, \"Calories\": 264.0, \"Time\": 82.8, \"Avg HR\": 101.0, \"Max HR\": 121.0, \"Avg Run Cadence\": 59.0, \"Max Run Cadence\": 134.0, \"Avg Pace\": 19.066666666666666, \"Best Pace\": 7.5, \"Elev Gain\": 7.0, \"Elev Loss\": 6.0, \"Avg Stride Length\": 1.05, \"Climb Time\": 82.8, \"Best Lap Time\": 8.533333333333333, \"Number of Laps\": 5.0, \"Target\": 0}, {\"Activity Type\": \"Yoga\", \"Date\": \"2020-05-02 08:18:19\", \"Distance\": 0.0, \"Calories\": 36.0, \"Time\": 19.666666666666668, \"Avg HR\": 86.0, \"Max HR\": 101.0, \"Avg Run Cadence\": null, \"Max Run Cadence\": null, \"Avg Pace\": null, \"Best Pace\": null, \"Elev Gain\": null, \"Elev Loss\": null, \"Avg Stride Length\": 0.0, \"Climb Time\": 19.666666666666668, \"Best Lap Time\": 0.0, \"Number of Laps\": 1.0, \"Target\": 7}, {\"Activity Type\": \"Breathwork\", \"Date\": \"2020-05-02 07:35:54\", \"Distance\": 0.0, \"Calories\": 6.0, \"Time\": 5.783333333333333, \"Avg HR\": 74.0, \"Max HR\": 85.0, \"Avg Run Cadence\": null, \"Max Run Cadence\": null, \"Avg Pace\": null, \"Best Pace\": null, \"Elev Gain\": null, \"Elev Loss\": null, \"Avg Stride Length\": 0.0, \"Climb Time\": 5.783333333333333, \"Best Lap Time\": 0.0, \"Number of Laps\": 1.0, \"Target\": 1}, {\"Activity Type\": \"Yoga\", \"Date\": \"2020-05-01 08:26:57\", \"Distance\": 0.0, \"Calories\": 23.0, \"Time\": 17.216666666666665, \"Avg HR\": 73.0, \"Max HR\": 91.0, \"Avg Run Cadence\": null, \"Max Run Cadence\": null, \"Avg Pace\": null, \"Best Pace\": null, \"Elev Gain\": null, \"Elev Loss\": null, \"Avg Stride Length\": 0.0, \"Climb Time\": 17.216666666666665, \"Best Lap Time\": 0.0, \"Number of Laps\": 1.0, \"Target\": 7}, {\"Activity Type\": \"Breathwork\", \"Date\": \"2020-05-01 08:01:38\", \"Distance\": 0.0, \"Calories\": 7.0, \"Time\": 6.283333333333333, \"Avg HR\": 71.0, \"Max HR\": 91.0, \"Avg Run Cadence\": null, \"Max Run Cadence\": null, \"Avg Pace\": null, \"Best Pace\": null, \"Elev Gain\": null, \"Elev Loss\": null, \"Avg Stride Length\": 0.0, \"Climb Time\": 6.283333333333333, \"Best Lap Time\": 0.0, \"Number of Laps\": 1.0, \"Target\": 1}, {\"Activity Type\": \"Breathwork\", \"Date\": \"2020-04-30 08:31:28\", \"Distance\": 0.0, \"Calories\": 6.0, \"Time\": 5.766666666666667, \"Avg HR\": 72.0, \"Max HR\": 91.0, \"Avg Run Cadence\": null, \"Max Run Cadence\": null, \"Avg Pace\": null, \"Best Pace\": null, \"Elev Gain\": null, \"Elev Loss\": null, \"Avg Stride Length\": 0.0, \"Climb Time\": 5.766666666666667, \"Best Lap Time\": 0.0, \"Number of Laps\": 1.0, \"Target\": 1}, {\"Activity Type\": \"Yoga\", \"Date\": \"2020-04-29 09:18:29\", \"Distance\": 0.0, \"Calories\": 48.0, \"Time\": 24.283333333333335, \"Avg HR\": 87.0, \"Max HR\": 118.0, \"Avg Run Cadence\": null, \"Max Run Cadence\": null, \"Avg Pace\": null, \"Best Pace\": null, \"Elev Gain\": null, \"Elev Loss\": null, \"Avg Stride Length\": 0.0, \"Climb Time\": 24.283333333333335, \"Best Lap Time\": 0.0, \"Number of Laps\": 1.0, \"Target\": 7}, {\"Activity Type\": \"Breathwork\", \"Date\": \"2020-04-29 08:25:05\", \"Distance\": 0.0, \"Calories\": 6.0, \"Time\": 5.016666666666667, \"Avg HR\": 78.0, \"Max HR\": 86.0, \"Avg Run Cadence\": null, \"Max Run Cadence\": null, \"Avg Pace\": null, \"Best Pace\": null, \"Elev Gain\": null, \"Elev Loss\": null, \"Avg Stride Length\": 0.0, \"Climb Time\": 5.016666666666667, \"Best Lap Time\": 0.0, \"Number of Laps\": 1.0, \"Target\": 1}, {\"Activity Type\": \"Cycling\", \"Date\": \"2020-04-28 20:35:56\", \"Distance\": 5.44, \"Calories\": 171.0, \"Time\": 30.65, \"Avg HR\": 126.0, \"Max HR\": 152.0, \"Avg Run Cadence\": null, \"Max Run Cadence\": null, \"Avg Pace\": 0.17666666666666667, \"Best Pace\": 0.3383333333333333, \"Elev Gain\": 3.0, \"Elev Loss\": 2.0, \"Avg Stride Length\": 0.0, \"Climb Time\": 30.65, \"Best Lap Time\": 3.9, \"Number of Laps\": 2.0, \"Target\": 5}, {\"Activity Type\": \"Yoga\", \"Date\": \"2020-04-28 09:14:36\", \"Distance\": 0.0, \"Calories\": 40.0, \"Time\": 22.733333333333334, \"Avg HR\": 87.0, \"Max HR\": 107.0, \"Avg Run Cadence\": null, \"Max Run Cadence\": null, \"Avg Pace\": null, \"Best Pace\": null, \"Elev Gain\": null, \"Elev Loss\": null, \"Avg Stride Length\": 0.0, \"Climb Time\": 22.733333333333334, \"Best Lap Time\": 0.0, \"Number of Laps\": 1.0, \"Target\": 7}, {\"Activity Type\": \"Breathwork\", \"Date\": \"2020-04-28 08:26:22\", \"Distance\": 0.0, \"Calories\": 8.0, \"Time\": 5.666666666666667, \"Avg HR\": 81.0, \"Max HR\": 96.0, \"Avg Run Cadence\": null, \"Max Run Cadence\": null, \"Avg Pace\": null, \"Best Pace\": null, \"Elev Gain\": null, \"Elev Loss\": null, \"Avg Stride Length\": 0.0, \"Climb Time\": 5.666666666666667, \"Best Lap Time\": 0.0, \"Number of Laps\": 1.0, \"Target\": 1}, {\"Activity Type\": \"Cycling\", \"Date\": \"2020-04-27 18:36:32\", \"Distance\": 3.08, \"Calories\": 130.0, \"Time\": 26.166666666666668, \"Avg HR\": 120.0, \"Max HR\": 138.0, \"Avg Run Cadence\": null, \"Max Run Cadence\": null, \"Avg Pace\": 0.11833333333333333, \"Best Pace\": 0.55, \"Elev Gain\": 5.0, \"Elev Loss\": null, \"Avg Stride Length\": 0.0, \"Climb Time\": 26.166666666666668, \"Best Lap Time\": 0.0, \"Number of Laps\": 1.0, \"Target\": 5}, {\"Activity Type\": \"Strength\", \"Date\": \"2020-04-27 16:42:49\", \"Distance\": 0.0, \"Calories\": 596.0, \"Time\": 89.53333333333333, \"Avg HR\": 150.0, \"Max HR\": 184.0, \"Avg Run Cadence\": null, \"Max Run Cadence\": null, \"Avg Pace\": null, \"Best Pace\": null, \"Elev Gain\": null, \"Elev Loss\": null, \"Avg Stride Length\": 0.0, \"Climb Time\": 89.53333333333333, \"Best Lap Time\": 0.0, \"Number of Laps\": 1.0, \"Target\": 4}, {\"Activity Type\": \"Yoga\", \"Date\": \"2020-04-27 09:00:30\", \"Distance\": 0.0, \"Calories\": 52.0, \"Time\": 31.2, \"Avg HR\": 84.0, \"Max HR\": 103.0, \"Avg Run Cadence\": null, \"Max Run Cadence\": null, \"Avg Pace\": null, \"Best Pace\": null, \"Elev Gain\": null, \"Elev Loss\": null, \"Avg Stride Length\": 0.0, \"Climb Time\": 31.2, \"Best Lap Time\": 0.0, \"Number of Laps\": 1.0, \"Target\": 7}, {\"Activity Type\": \"Breathwork\", \"Date\": \"2020-04-27 08:50:00\", \"Distance\": 0.0, \"Calories\": 14.0, \"Time\": 6.0, \"Avg HR\": null, \"Max HR\": null, \"Avg Run Cadence\": null, \"Max Run Cadence\": null, \"Avg Pace\": null, \"Best Pace\": null, \"Elev Gain\": null, \"Elev Loss\": null, \"Avg Stride Length\": 0.0, \"Climb Time\": 6.0, \"Best Lap Time\": 0.0, \"Number of Laps\": 1.0, \"Target\": 1}, {\"Activity Type\": \"Yoga\", \"Date\": \"2020-04-26 15:59:25\", \"Distance\": 0.0, \"Calories\": 101.0, \"Time\": 34.65, \"Avg HR\": 98.0, \"Max HR\": 131.0, \"Avg Run Cadence\": null, \"Max Run Cadence\": null, \"Avg Pace\": null, \"Best Pace\": null, \"Elev Gain\": null, \"Elev Loss\": null, \"Avg Stride Length\": 0.0, \"Climb Time\": 34.65, \"Best Lap Time\": 0.0, \"Number of Laps\": 1.0, \"Target\": 7}, {\"Activity Type\": \"Breathwork\", \"Date\": \"2020-04-26 10:25:06\", \"Distance\": 0.0, \"Calories\": 6.0, \"Time\": 5.666666666666667, \"Avg HR\": 68.0, \"Max HR\": 88.0, \"Avg Run Cadence\": null, \"Max Run Cadence\": null, \"Avg Pace\": null, \"Best Pace\": null, \"Elev Gain\": null, \"Elev Loss\": null, \"Avg Stride Length\": 0.0, \"Climb Time\": 5.666666666666667, \"Best Lap Time\": 0.0, \"Number of Laps\": 1.0, \"Target\": 1}, {\"Activity Type\": \"Yoga\", \"Date\": \"2020-04-25 10:10:18\", \"Distance\": 0.0, \"Calories\": 67.0, \"Time\": 40.03333333333333, \"Avg HR\": 81.0, \"Max HR\": 106.0, \"Avg Run Cadence\": null, \"Max Run Cadence\": null, \"Avg Pace\": null, \"Best Pace\": null, \"Elev Gain\": null, \"Elev Loss\": null, \"Avg Stride Length\": 0.0, \"Climb Time\": 40.03333333333333, \"Best Lap Time\": 0.0, \"Number of Laps\": 1.0, \"Target\": 7}, {\"Activity Type\": \"Breathwork\", \"Date\": \"2020-04-25 09:40:55\", \"Distance\": 0.0, \"Calories\": 7.0, \"Time\": 6.45, \"Avg HR\": 73.0, \"Max HR\": 81.0, \"Avg Run Cadence\": null, \"Max Run Cadence\": null, \"Avg Pace\": null, \"Best Pace\": null, \"Elev Gain\": null, \"Elev Loss\": null, \"Avg Stride Length\": 0.0, \"Climb Time\": 6.45, \"Best Lap Time\": 0.0, \"Number of Laps\": 1.0, \"Target\": 1}, {\"Activity Type\": \"Walking\", \"Date\": \"2020-04-24 15:47:52\", \"Distance\": 3.3, \"Calories\": 157.0, \"Time\": 44.733333333333334, \"Avg HR\": 111.0, \"Max HR\": 124.0, \"Avg Run Cadence\": 69.0, \"Max Run Cadence\": 174.0, \"Avg Pace\": 13.566666666666666, \"Best Pace\": 10.566666666666666, \"Elev Gain\": 9.0, \"Elev Loss\": 6.0, \"Avg Stride Length\": 1.09, \"Climb Time\": 44.733333333333334, \"Best Lap Time\": 3.6666666666666665, \"Number of Laps\": 4.0, \"Target\": 0}, {\"Activity Type\": \"Walking\", \"Date\": \"2020-04-24 14:26:54\", \"Distance\": 4.92, \"Calories\": 235.0, \"Time\": 65.61666666666666, \"Avg HR\": 113.0, \"Max HR\": 123.0, \"Avg Run Cadence\": 76.0, \"Max Run Cadence\": 158.0, \"Avg Pace\": 13.333333333333334, \"Best Pace\": 9.2, \"Elev Gain\": 6.0, \"Elev Loss\": 4.0, \"Avg Stride Length\": 1.02, \"Climb Time\": 65.61666666666666, \"Best Lap Time\": 11.683333333333334, \"Number of Laps\": 5.0, \"Target\": 0}, {\"Activity Type\": \"Walking\", \"Date\": \"2020-04-23 19:50:34\", \"Distance\": 3.02, \"Calories\": 187.0, \"Time\": 58.61666666666667, \"Avg HR\": 100.0, \"Max HR\": 120.0, \"Avg Run Cadence\": 60.0, \"Max Run Cadence\": 143.0, \"Avg Pace\": 19.4, \"Best Pace\": 2.3666666666666667, \"Elev Gain\": 2.0, \"Elev Loss\": null, \"Avg Stride Length\": 0.85, \"Climb Time\": 58.61666666666667, \"Best Lap Time\": 0.21666666666666667, \"Number of Laps\": 4.0, \"Target\": 0}, {\"Activity Type\": \"Cycling\", \"Date\": \"2020-04-23 17:12:06\", \"Distance\": 2.66, \"Calories\": 63.0, \"Time\": 10.05, \"Avg HR\": 127.0, \"Max HR\": 150.0, \"Avg Run Cadence\": null, \"Max Run Cadence\": null, \"Avg Pace\": 0.265, \"Best Pace\": 0.36000000000000004, \"Elev Gain\": null, \"Elev Loss\": null, \"Avg Stride Length\": 0.0, \"Climb Time\": 10.05, \"Best Lap Time\": 0.0, \"Number of Laps\": 1.0, \"Target\": 5}, {\"Activity Type\": \"Yoga\", \"Date\": \"2020-04-23 12:14:02\", \"Distance\": 0.0, \"Calories\": 96.0, \"Time\": 42.03333333333333, \"Avg HR\": 92.0, \"Max HR\": 120.0, \"Avg Run Cadence\": null, \"Max Run Cadence\": null, \"Avg Pace\": null, \"Best Pace\": null, \"Elev Gain\": null, \"Elev Loss\": null, \"Avg Stride Length\": 0.0, \"Climb Time\": 42.03333333333333, \"Best Lap Time\": 0.0, \"Number of Laps\": 1.0, \"Target\": 7}, {\"Activity Type\": \"Breathwork\", \"Date\": \"2020-04-23 08:33:07\", \"Distance\": 0.0, \"Calories\": null, \"Time\": 7.0, \"Avg HR\": null, \"Max HR\": null, \"Avg Run Cadence\": null, \"Max Run Cadence\": null, \"Avg Pace\": null, \"Best Pace\": null, \"Elev Gain\": null, \"Elev Loss\": null, \"Avg Stride Length\": 0.0, \"Climb Time\": 7.0, \"Best Lap Time\": 0.0, \"Number of Laps\": 1.0, \"Target\": 1}, {\"Activity Type\": \"Walking\", \"Date\": \"2020-04-22 16:51:06\", \"Distance\": 8.16, \"Calories\": 387.0, \"Time\": 108.1, \"Avg HR\": 108.0, \"Max HR\": 139.0, \"Avg Run Cadence\": 98.0, \"Max Run Cadence\": 141.0, \"Avg Pace\": 13.25, \"Best Pace\": 7.766666666666667, \"Elev Gain\": 13.0, \"Elev Loss\": 9.0, \"Avg Stride Length\": 0.78, \"Climb Time\": 108.1, \"Best Lap Time\": 1.9666666666666668, \"Number of Laps\": 9.0, \"Target\": 0}, {\"Activity Type\": \"Yoga\", \"Date\": \"2020-04-22 07:56:49\", \"Distance\": 0.0, \"Calories\": 78.0, \"Time\": 38.333333333333336, \"Avg HR\": 88.0, \"Max HR\": 124.0, \"Avg Run Cadence\": null, \"Max Run Cadence\": null, \"Avg Pace\": null, \"Best Pace\": null, \"Elev Gain\": null, \"Elev Loss\": null, \"Avg Stride Length\": 0.0, \"Climb Time\": 38.333333333333336, \"Best Lap Time\": 0.0, \"Number of Laps\": 1.0, \"Target\": 7}, {\"Activity Type\": \"Breathwork\", \"Date\": \"2020-04-22 07:24:27\", \"Distance\": 0.0, \"Calories\": null, \"Time\": 7.0, \"Avg HR\": null, \"Max HR\": null, \"Avg Run Cadence\": null, \"Max Run Cadence\": null, \"Avg Pace\": null, \"Best Pace\": null, \"Elev Gain\": null, \"Elev Loss\": null, \"Avg Stride Length\": 0.0, \"Climb Time\": 7.0, \"Best Lap Time\": 0.0, \"Number of Laps\": 1.0, \"Target\": 1}, {\"Activity Type\": \"Running\", \"Date\": \"2020-04-21 10:34:13\", \"Distance\": 0.38, \"Calories\": 21.0, \"Time\": 4.566666666666666, \"Avg HR\": 119.0, \"Max HR\": 130.0, \"Avg Run Cadence\": 74.0, \"Max Run Cadence\": 142.0, \"Avg Pace\": 12.1, \"Best Pace\": 0.9833333333333333, \"Elev Gain\": 3.0, \"Elev Loss\": 2.0, \"Avg Stride Length\": 1.11, \"Climb Time\": 4.566666666666666, \"Best Lap Time\": 0.0, \"Number of Laps\": 1.0, \"Target\": 3}, {\"Activity Type\": \"Yoga\", \"Date\": \"2020-04-21 08:11:54\", \"Distance\": 0.0, \"Calories\": 12.0, \"Time\": 7.366666666666666, \"Avg HR\": 84.0, \"Max HR\": 98.0, \"Avg Run Cadence\": null, \"Max Run Cadence\": null, \"Avg Pace\": null, \"Best Pace\": null, \"Elev Gain\": null, \"Elev Loss\": null, \"Avg Stride Length\": 0.0, \"Climb Time\": 7.366666666666666, \"Best Lap Time\": 0.0, \"Number of Laps\": 1.0, \"Target\": 7}, {\"Activity Type\": \"Breathwork\", \"Date\": \"2020-04-21 07:25:26\", \"Distance\": 0.0, \"Calories\": null, \"Time\": 7.0, \"Avg HR\": null, \"Max HR\": null, \"Avg Run Cadence\": null, \"Max Run Cadence\": null, \"Avg Pace\": null, \"Best Pace\": null, \"Elev Gain\": null, \"Elev Loss\": null, \"Avg Stride Length\": 0.0, \"Climb Time\": 7.0, \"Best Lap Time\": 0.0, \"Number of Laps\": 1.0, \"Target\": 1}, {\"Activity Type\": \"Walking\", \"Date\": \"2020-04-20 14:49:08\", \"Distance\": 1.91, \"Calories\": 90.0, \"Time\": 23.033333333333335, \"Avg HR\": 114.0, \"Max HR\": 123.0, \"Avg Run Cadence\": 110.0, \"Max Run Cadence\": 139.0, \"Avg Pace\": 12.066666666666666, \"Best Pace\": 10.7, \"Elev Gain\": 5.0, \"Elev Loss\": 2.0, \"Avg Stride Length\": 0.76, \"Climb Time\": 23.033333333333335, \"Best Lap Time\": 10.983333333333333, \"Number of Laps\": 2.0, \"Target\": 0}, {\"Activity Type\": \"Walking\", \"Date\": \"2020-04-20 13:29:38\", \"Distance\": 2.81, \"Calories\": 134.0, \"Time\": 34.03333333333333, \"Avg HR\": 116.0, \"Max HR\": 132.0, \"Avg Run Cadence\": 89.0, \"Max Run Cadence\": 140.0, \"Avg Pace\": 12.116666666666667, \"Best Pace\": 8.716666666666667, \"Elev Gain\": 2.0, \"Elev Loss\": null, \"Avg Stride Length\": 0.94, \"Climb Time\": 34.03333333333333, \"Best Lap Time\": 10.116666666666667, \"Number of Laps\": 3.0, \"Target\": 0}, {\"Activity Type\": \"Yoga\", \"Date\": \"2020-04-20 08:00:03\", \"Distance\": 0.0, \"Calories\": 76.0, \"Time\": 32.61666666666667, \"Avg HR\": 93.0, \"Max HR\": 124.0, \"Avg Run Cadence\": null, \"Max Run Cadence\": null, \"Avg Pace\": null, \"Best Pace\": null, \"Elev Gain\": null, \"Elev Loss\": null, \"Avg Stride Length\": 0.0, \"Climb Time\": 32.61666666666667, \"Best Lap Time\": 0.0, \"Number of Laps\": 1.0, \"Target\": 7}, {\"Activity Type\": \"Breathwork\", \"Date\": \"2020-04-20 07:33:34\", \"Distance\": 0.0, \"Calories\": null, \"Time\": 5.0, \"Avg HR\": null, \"Max HR\": null, \"Avg Run Cadence\": null, \"Max Run Cadence\": null, \"Avg Pace\": null, \"Best Pace\": null, \"Elev Gain\": null, \"Elev Loss\": null, \"Avg Stride Length\": 0.0, \"Climb Time\": 5.0, \"Best Lap Time\": 0.0, \"Number of Laps\": 1.0, \"Target\": 1}, {\"Activity Type\": \"Walking\", \"Date\": \"2020-04-16 17:19:56\", \"Distance\": 3.72, \"Calories\": 177.0, \"Time\": 53.45, \"Avg HR\": 101.0, \"Max HR\": 121.0, \"Avg Run Cadence\": 78.0, \"Max Run Cadence\": 215.0, \"Avg Pace\": 14.383333333333333, \"Best Pace\": 11.45, \"Elev Gain\": 2.0, \"Elev Loss\": null, \"Avg Stride Length\": 0.9, \"Climb Time\": 53.45, \"Best Lap Time\": 10.15, \"Number of Laps\": 4.0, \"Target\": 0}, {\"Activity Type\": \"Walking\", \"Date\": \"2020-04-16 16:20:47\", \"Distance\": 1.12, \"Calories\": 54.0, \"Time\": 15.883333333333333, \"Avg HR\": 103.0, \"Max HR\": 113.0, \"Avg Run Cadence\": 67.0, \"Max Run Cadence\": 135.0, \"Avg Pace\": 14.183333333333334, \"Best Pace\": 10.95, \"Elev Gain\": 2.0, \"Elev Loss\": 4.0, \"Avg Stride Length\": 1.05, \"Climb Time\": 15.883333333333333, \"Best Lap Time\": 2.1166666666666667, \"Number of Laps\": 2.0, \"Target\": 0}, {\"Activity Type\": \"Walking\", \"Date\": \"2020-04-14 17:39:31\", \"Distance\": 3.34, \"Calories\": 162.0, \"Time\": 41.15, \"Avg HR\": 113.0, \"Max HR\": 125.0, \"Avg Run Cadence\": 98.0, \"Max Run Cadence\": 158.0, \"Avg Pace\": 12.333333333333334, \"Best Pace\": 7.9, \"Elev Gain\": 2.0, \"Elev Loss\": 2.0, \"Avg Stride Length\": 0.83, \"Climb Time\": 41.15, \"Best Lap Time\": 3.6833333333333336, \"Number of Laps\": 4.0, \"Target\": 0}, {\"Activity Type\": \"Running\", \"Date\": \"2020-04-14 17:15:43\", \"Distance\": 2.87, \"Calories\": 162.0, \"Time\": 21.25, \"Avg HR\": 153.0, \"Max HR\": 174.0, \"Avg Run Cadence\": 172.0, \"Max Run Cadence\": 190.0, \"Avg Pace\": 7.416666666666667, \"Best Pace\": 5.266666666666667, \"Elev Gain\": 2.0, \"Elev Loss\": 2.0, \"Avg Stride Length\": 0.78, \"Climb Time\": 21.25, \"Best Lap Time\": 6.833333333333333, \"Number of Laps\": 3.0, \"Target\": 3}, {\"Activity Type\": \"Running\", \"Date\": \"2020-04-06 18:27:51\", \"Distance\": 0.16, \"Calories\": 16.0, \"Time\": 2.4833333333333334, \"Avg HR\": 130.0, \"Max HR\": 141.0, \"Avg Run Cadence\": 92.0, \"Max Run Cadence\": 199.0, \"Avg Pace\": 15.8, \"Best Pace\": 6.05, \"Elev Gain\": null, \"Elev Loss\": null, \"Avg Stride Length\": 0.69, \"Climb Time\": 2.4833333333333334, \"Best Lap Time\": 0.0, \"Number of Laps\": 1.0, \"Target\": 3}, {\"Activity Type\": \"Running\", \"Date\": \"2020-04-06 18:11:06\", \"Distance\": 0.46, \"Calories\": 58.0, \"Time\": 8.0, \"Avg HR\": 137.0, \"Max HR\": 154.0, \"Avg Run Cadence\": 80.0, \"Max Run Cadence\": 155.0, \"Avg Pace\": 17.533333333333335, \"Best Pace\": 8.2, \"Elev Gain\": null, \"Elev Loss\": null, \"Avg Stride Length\": 0.71, \"Climb Time\": 8.0, \"Best Lap Time\": 0.0, \"Number of Laps\": 1.0, \"Target\": 3}, {\"Activity Type\": \"Breathwork\", \"Date\": \"2020-04-06 08:18:32\", \"Distance\": 0.0, \"Calories\": null, \"Time\": 7.0, \"Avg HR\": null, \"Max HR\": null, \"Avg Run Cadence\": null, \"Max Run Cadence\": null, \"Avg Pace\": null, \"Best Pace\": null, \"Elev Gain\": null, \"Elev Loss\": null, \"Avg Stride Length\": 0.0, \"Climb Time\": 7.0, \"Best Lap Time\": 0.0, \"Number of Laps\": 1.0, \"Target\": 1}, {\"Activity Type\": \"Walking\", \"Date\": \"2020-04-05 16:02:01\", \"Distance\": 2.17, \"Calories\": 106.0, \"Time\": 31.55, \"Avg HR\": 105.0, \"Max HR\": 115.0, \"Avg Run Cadence\": 66.0, \"Max Run Cadence\": 146.0, \"Avg Pace\": 14.533333333333333, \"Best Pace\": 10.266666666666667, \"Elev Gain\": 5.0, \"Elev Loss\": null, \"Avg Stride Length\": 1.04, \"Climb Time\": 31.55, \"Best Lap Time\": 3.9333333333333336, \"Number of Laps\": 3.0, \"Target\": 0}, {\"Activity Type\": \"Walking\", \"Date\": \"2020-04-05 14:17:12\", \"Distance\": 2.12, \"Calories\": 119.0, \"Time\": 34.36666666666667, \"Avg HR\": 114.0, \"Max HR\": 126.0, \"Avg Run Cadence\": 73.0, \"Max Run Cadence\": 168.0, \"Avg Pace\": 16.25, \"Best Pace\": 9.816666666666666, \"Elev Gain\": 4.0, \"Elev Loss\": null, \"Avg Stride Length\": 0.85, \"Climb Time\": 34.36666666666667, \"Best Lap Time\": 5.966666666666667, \"Number of Laps\": 3.0, \"Target\": 0}, {\"Activity Type\": \"Breathwork\", \"Date\": \"2020-04-05 08:07:39\", \"Distance\": 0.0, \"Calories\": null, \"Time\": 7.0, \"Avg HR\": null, \"Max HR\": null, \"Avg Run Cadence\": null, \"Max Run Cadence\": null, \"Avg Pace\": null, \"Best Pace\": null, \"Elev Gain\": null, \"Elev Loss\": null, \"Avg Stride Length\": 0.0, \"Climb Time\": 7.0, \"Best Lap Time\": 0.0, \"Number of Laps\": 1.0, \"Target\": 1}, {\"Activity Type\": \"Breathwork\", \"Date\": \"2020-04-03 07:52:38\", \"Distance\": 0.0, \"Calories\": null, \"Time\": 7.0, \"Avg HR\": null, \"Max HR\": null, \"Avg Run Cadence\": null, \"Max Run Cadence\": null, \"Avg Pace\": null, \"Best Pace\": null, \"Elev Gain\": null, \"Elev Loss\": null, \"Avg Stride Length\": 0.0, \"Climb Time\": 7.0, \"Best Lap Time\": 0.0, \"Number of Laps\": 1.0, \"Target\": 1}, {\"Activity Type\": \"Walking\", \"Date\": \"2020-04-01 12:33:41\", \"Distance\": 4.89, \"Calories\": 230.0, \"Time\": 67.2, \"Avg HR\": 111.0, \"Max HR\": 147.0, \"Avg Run Cadence\": 103.0, \"Max Run Cadence\": 158.0, \"Avg Pace\": 13.75, \"Best Pace\": 10.566666666666666, \"Elev Gain\": 16.0, \"Elev Loss\": 7.0, \"Avg Stride Length\": 0.71, \"Climb Time\": 67.2, \"Best Lap Time\": 11.783333333333333, \"Number of Laps\": 5.0, \"Target\": 0}, {\"Activity Type\": \"Walking\", \"Date\": \"2020-04-01 11:06:57\", \"Distance\": 2.23, \"Calories\": 107.0, \"Time\": 37.11666666666667, \"Avg HR\": 100.0, \"Max HR\": 120.0, \"Avg Run Cadence\": 72.0, \"Max Run Cadence\": 118.0, \"Avg Pace\": 16.616666666666667, \"Best Pace\": 11.233333333333333, \"Elev Gain\": 6.0, \"Elev Loss\": null, \"Avg Stride Length\": 0.85, \"Climb Time\": 37.11666666666667, \"Best Lap Time\": 5.85, \"Number of Laps\": 3.0, \"Target\": 0}, {\"Activity Type\": \"Walking\", \"Date\": \"2020-04-01 10:22:50\", \"Distance\": 2.16, \"Calories\": 100.0, \"Time\": 32.85, \"Avg HR\": 101.0, \"Max HR\": 112.0, \"Avg Run Cadence\": 87.0, \"Max Run Cadence\": 128.0, \"Avg Pace\": 15.2, \"Best Pace\": 11.3, \"Elev Gain\": 5.0, \"Elev Loss\": 4.0, \"Avg Stride Length\": 0.76, \"Climb Time\": 32.85, \"Best Lap Time\": 2.25, \"Number of Laps\": 3.0, \"Target\": 0}, {\"Activity Type\": \"Walking\", \"Date\": \"2020-04-01 10:04:55\", \"Distance\": 1.0, \"Calories\": 48.0, \"Time\": 12.766666666666667, \"Avg HR\": 103.0, \"Max HR\": 128.0, \"Avg Run Cadence\": 103.0, \"Max Run Cadence\": 129.0, \"Avg Pace\": 12.716666666666667, \"Best Pace\": 10.15, \"Elev Gain\": 2.0, \"Elev Loss\": null, \"Avg Stride Length\": 0.76, \"Climb Time\": 12.766666666666667, \"Best Lap Time\": 0.08333333333333333, \"Number of Laps\": 2.0, \"Target\": 0}, {\"Activity Type\": \"Strength\", \"Date\": \"2020-03-30 22:36:46\", \"Distance\": 0.0, \"Calories\": 116.0, \"Time\": 22.15, \"Avg HR\": 122.0, \"Max HR\": 161.0, \"Avg Run Cadence\": null, \"Max Run Cadence\": null, \"Avg Pace\": null, \"Best Pace\": null, \"Elev Gain\": null, \"Elev Loss\": null, \"Avg Stride Length\": 0.0, \"Climb Time\": 22.15, \"Best Lap Time\": 0.0, \"Number of Laps\": 1.0, \"Target\": 4}, {\"Activity Type\": \"Walking\", \"Date\": \"2020-03-29 17:39:00\", \"Distance\": 4.79, \"Calories\": 221.0, \"Time\": 62.8, \"Avg HR\": 109.0, \"Max HR\": 122.0, \"Avg Run Cadence\": 97.0, \"Max Run Cadence\": 135.0, \"Avg Pace\": 13.116666666666667, \"Best Pace\": 10.2, \"Elev Gain\": 13.0, \"Elev Loss\": 15.0, \"Avg Stride Length\": 0.79, \"Climb Time\": 62.8, \"Best Lap Time\": 9.133333333333333, \"Number of Laps\": 5.0, \"Target\": 0}, {\"Activity Type\": \"Walking\", \"Date\": \"2020-03-29 17:10:29\", \"Distance\": 1.59, \"Calories\": 77.0, \"Time\": 19.066666666666666, \"Avg HR\": 122.0, \"Max HR\": 133.0, \"Avg Run Cadence\": 82.0, \"Max Run Cadence\": 145.0, \"Avg Pace\": 11.966666666666667, \"Best Pace\": 8.85, \"Elev Gain\": 2.0, \"Elev Loss\": 7.0, \"Avg Stride Length\": 1.06, \"Climb Time\": 19.066666666666666, \"Best Lap Time\": 7.633333333333333, \"Number of Laps\": 2.0, \"Target\": 0}, {\"Activity Type\": \"Walking\", \"Date\": \"2020-03-27 18:39:52\", \"Distance\": 0.57, \"Calories\": 34.0, \"Time\": 10.183333333333334, \"Avg HR\": 107.0, \"Max HR\": 116.0, \"Avg Run Cadence\": 86.0, \"Max Run Cadence\": 127.0, \"Avg Pace\": 18.016666666666666, \"Best Pace\": 10.816666666666666, \"Elev Gain\": null, \"Elev Loss\": 2.0, \"Avg Stride Length\": 0.64, \"Climb Time\": 10.183333333333334, \"Best Lap Time\": 0.0, \"Number of Laps\": 1.0, \"Target\": 0}, {\"Activity Type\": \"Gym\", \"Date\": \"2020-03-26 18:10:11\", \"Distance\": 0.0, \"Calories\": 482.0, \"Time\": 90.0, \"Avg HR\": null, \"Max HR\": null, \"Avg Run Cadence\": null, \"Max Run Cadence\": null, \"Avg Pace\": null, \"Best Pace\": null, \"Elev Gain\": null, \"Elev Loss\": null, \"Avg Stride Length\": 0.0, \"Climb Time\": 90.0, \"Best Lap Time\": 0.0, \"Number of Laps\": 1.0, \"Target\": 8}, {\"Activity Type\": \"Breathwork\", \"Date\": \"2020-03-26 11:38:39\", \"Distance\": 0.0, \"Calories\": null, \"Time\": 15.633333333333333, \"Avg HR\": 74.0, \"Max HR\": 95.0, \"Avg Run Cadence\": null, \"Max Run Cadence\": null, \"Avg Pace\": null, \"Best Pace\": null, \"Elev Gain\": null, \"Elev Loss\": null, \"Avg Stride Length\": 0.0, \"Climb Time\": 15.633333333333333, \"Best Lap Time\": 0.05, \"Number of Laps\": 253.0, \"Target\": 1}, {\"Activity Type\": \"Walking\", \"Date\": \"2020-03-26 10:43:09\", \"Distance\": 0.67, \"Calories\": 33.0, \"Time\": 10.133333333333333, \"Avg HR\": 112.0, \"Max HR\": 117.0, \"Avg Run Cadence\": 81.0, \"Max Run Cadence\": 129.0, \"Avg Pace\": 15.033333333333333, \"Best Pace\": 9.5, \"Elev Gain\": 2.0, \"Elev Loss\": null, \"Avg Stride Length\": 0.82, \"Climb Time\": 10.133333333333333, \"Best Lap Time\": 0.0, \"Number of Laps\": 1.0, \"Target\": 0}, {\"Activity Type\": \"Walking\", \"Date\": \"2020-03-21 10:35:43\", \"Distance\": 0.98, \"Calories\": 61.0, \"Time\": 16.783333333333335, \"Avg HR\": 110.0, \"Max HR\": 122.0, \"Avg Run Cadence\": 76.0, \"Max Run Cadence\": 239.0, \"Avg Pace\": 17.15, \"Best Pace\": 3.8333333333333335, \"Elev Gain\": 7.0, \"Elev Loss\": 2.0, \"Avg Stride Length\": 0.77, \"Climb Time\": 16.783333333333335, \"Best Lap Time\": 0.0, \"Number of Laps\": 1.0, \"Target\": 0}, {\"Activity Type\": \"Walking\", \"Date\": \"2020-03-13 14:35:07\", \"Distance\": 0.97, \"Calories\": 57.0, \"Time\": 14.15, \"Avg HR\": 103.0, \"Max HR\": 114.0, \"Avg Run Cadence\": 89.0, \"Max Run Cadence\": 158.0, \"Avg Pace\": 14.616666666666667, \"Best Pace\": 7.866666666666667, \"Elev Gain\": 25.0, \"Elev Loss\": 36.0, \"Avg Stride Length\": 0.77, \"Climb Time\": 14.15, \"Best Lap Time\": 0.0, \"Number of Laps\": 1.0, \"Target\": 0}, {\"Activity Type\": \"Walking\", \"Date\": \"2020-03-13 10:32:58\", \"Distance\": 0.81, \"Calories\": 36.0, \"Time\": 10.35, \"Avg HR\": 101.0, \"Max HR\": 110.0, \"Avg Run Cadence\": 108.0, \"Max Run Cadence\": 130.0, \"Avg Pace\": 12.85, \"Best Pace\": 9.75, \"Elev Gain\": null, \"Elev Loss\": 11.0, \"Avg Stride Length\": 0.72, \"Climb Time\": 10.35, \"Best Lap Time\": 0.0, \"Number of Laps\": 1.0, \"Target\": 0}, {\"Activity Type\": \"Walking\", \"Date\": \"2020-03-12 13:35:02\", \"Distance\": 2.9, \"Calories\": 139.0, \"Time\": 40.516666666666666, \"Avg HR\": 110.0, \"Max HR\": 133.0, \"Avg Run Cadence\": 102.0, \"Max Run Cadence\": 156.0, \"Avg Pace\": 14.0, \"Best Pace\": 10.45, \"Elev Gain\": 27.0, \"Elev Loss\": 39.0, \"Avg Stride Length\": 0.71, \"Climb Time\": 40.516666666666666, \"Best Lap Time\": 12.616666666666667, \"Number of Laps\": 3.0, \"Target\": 0}, {\"Activity Type\": \"Running\", \"Date\": \"2020-03-12 12:24:12\", \"Distance\": 3.76, \"Calories\": 246.0, \"Time\": 54.63333333333333, \"Avg HR\": 128.0, \"Max HR\": 173.0, \"Avg Run Cadence\": 81.0, \"Max Run Cadence\": 186.0, \"Avg Pace\": 14.516666666666667, \"Best Pace\": 5.866666666666667, \"Elev Gain\": 69.0, \"Elev Loss\": 45.0, \"Avg Stride Length\": 0.9, \"Climb Time\": 54.63333333333333, \"Best Lap Time\": 3.3333333333333335, \"Number of Laps\": 5.0, \"Target\": 3}, {\"Activity Type\": \"Walking\", \"Date\": \"2020-03-11 14:37:47\", \"Distance\": 0.87, \"Calories\": 46.0, \"Time\": 12.15, \"Avg HR\": 114.0, \"Max HR\": 122.0, \"Avg Run Cadence\": 97.0, \"Max Run Cadence\": 196.0, \"Avg Pace\": 14.0, \"Best Pace\": 6.683333333333334, \"Elev Gain\": 6.0, \"Elev Loss\": 7.0, \"Avg Stride Length\": 0.73, \"Climb Time\": 12.15, \"Best Lap Time\": 0.0, \"Number of Laps\": 1.0, \"Target\": 0}, {\"Activity Type\": \"Walking\", \"Date\": \"2020-03-10 09:08:05\", \"Distance\": 0.91, \"Calories\": 41.0, \"Time\": 10.583333333333334, \"Avg HR\": 109.0, \"Max HR\": 120.0, \"Avg Run Cadence\": 113.0, \"Max Run Cadence\": 133.0, \"Avg Pace\": 11.616666666666667, \"Best Pace\": 9.816666666666666, \"Elev Gain\": 2.0, \"Elev Loss\": 4.0, \"Avg Stride Length\": 0.76, \"Climb Time\": 10.583333333333334, \"Best Lap Time\": 0.0, \"Number of Laps\": 1.0, \"Target\": 0}, {\"Activity Type\": \"Walking\", \"Date\": \"2020-03-09 08:53:08\", \"Distance\": 1.0, \"Calories\": 48.0, \"Time\": 10.45, \"Avg HR\": 120.0, \"Max HR\": 130.0, \"Avg Run Cadence\": 120.0, \"Max Run Cadence\": 148.0, \"Avg Pace\": 10.45, \"Best Pace\": 7.966666666666667, \"Elev Gain\": 9.0, \"Elev Loss\": 2.0, \"Avg Stride Length\": 0.81, \"Climb Time\": 10.45, \"Best Lap Time\": 0.21666666666666667, \"Number of Laps\": 2.0, \"Target\": 0}, {\"Activity Type\": \"Walking\", \"Date\": \"2020-03-07 10:29:50\", \"Distance\": 1.03, \"Calories\": 49.0, \"Time\": 10.35, \"Avg HR\": 105.0, \"Max HR\": 117.0, \"Avg Run Cadence\": 117.0, \"Max Run Cadence\": 140.0, \"Avg Pace\": 10.033333333333333, \"Best Pace\": 7.966666666666667, \"Elev Gain\": null, \"Elev Loss\": 4.0, \"Avg Stride Length\": 0.86, \"Climb Time\": 10.35, \"Best Lap Time\": 0.2833333333333333, \"Number of Laps\": 2.0, \"Target\": 0}, {\"Activity Type\": \"Walking\", \"Date\": \"2020-03-06 08:52:49\", \"Distance\": 0.81, \"Calories\": 45.0, \"Time\": 10.3, \"Avg HR\": 116.0, \"Max HR\": 143.0, \"Avg Run Cadence\": 111.0, \"Max Run Cadence\": 134.0, \"Avg Pace\": 12.65, \"Best Pace\": 9.016666666666667, \"Elev Gain\": 11.0, \"Elev Loss\": 2.0, \"Avg Stride Length\": 0.71, \"Climb Time\": 10.3, \"Best Lap Time\": 0.06666666666666667, \"Number of Laps\": 2.0, \"Target\": 0}, {\"Activity Type\": \"Walking\", \"Date\": \"2020-03-05 17:21:21\", \"Distance\": 1.46, \"Calories\": 106.0, \"Time\": 30.316666666666666, \"Avg HR\": 108.0, \"Max HR\": 130.0, \"Avg Run Cadence\": 63.0, \"Max Run Cadence\": 158.0, \"Avg Pace\": 20.783333333333335, \"Best Pace\": 7.866666666666667, \"Elev Gain\": 7.0, \"Elev Loss\": 7.0, \"Avg Stride Length\": 0.78, \"Climb Time\": 30.316666666666666, \"Best Lap Time\": 13.466666666666667, \"Number of Laps\": 2.0, \"Target\": 0}, {\"Activity Type\": \"Walking\", \"Date\": \"2020-03-05 10:57:58\", \"Distance\": 0.88, \"Calories\": 51.0, \"Time\": 12.8, \"Avg HR\": 98.0, \"Max HR\": 127.0, \"Avg Run Cadence\": 79.0, \"Max Run Cadence\": 134.0, \"Avg Pace\": 14.55, \"Best Pace\": 7.533333333333333, \"Elev Gain\": 3.0, \"Elev Loss\": 2.0, \"Avg Stride Length\": 0.87, \"Climb Time\": 12.8, \"Best Lap Time\": 0.0, \"Number of Laps\": 1.0, \"Target\": 0}, {\"Activity Type\": \"Running\", \"Date\": \"2020-03-03 20:50:37\", \"Distance\": 4.83, \"Calories\": 259.0, \"Time\": 26.466666666666665, \"Avg HR\": 178.0, \"Max HR\": 191.0, \"Avg Run Cadence\": 180.0, \"Max Run Cadence\": 190.0, \"Avg Pace\": 5.483333333333333, \"Best Pace\": 4.783333333333333, \"Elev Gain\": 36.0, \"Elev Loss\": 42.0, \"Avg Stride Length\": 1.01, \"Climb Time\": 26.466666666666665, \"Best Lap Time\": 4.333333333333333, \"Number of Laps\": 5.0, \"Target\": 3}, {\"Activity Type\": \"Walking\", \"Date\": \"2020-03-01 19:00:05\", \"Distance\": 0.96, \"Calories\": 45.0, \"Time\": 10.7, \"Avg HR\": 108.0, \"Max HR\": 117.0, \"Avg Run Cadence\": 123.0, \"Max Run Cadence\": 140.0, \"Avg Pace\": 11.1, \"Best Pace\": 8.383333333333333, \"Elev Gain\": null, \"Elev Loss\": 19.0, \"Avg Stride Length\": 0.73, \"Climb Time\": 10.7, \"Best Lap Time\": 0.0, \"Number of Laps\": 1.0, \"Target\": 0}, {\"Activity Type\": \"Walking\", \"Date\": \"2020-03-01 15:53:00\", \"Distance\": 0.95, \"Calories\": 51.0, \"Time\": 10.7, \"Avg HR\": 124.0, \"Max HR\": 136.0, \"Avg Run Cadence\": 112.0, \"Max Run Cadence\": 237.0, \"Avg Pace\": 11.283333333333333, \"Best Pace\": 8.583333333333334, \"Elev Gain\": 23.0, \"Elev Loss\": null, \"Avg Stride Length\": 0.79, \"Climb Time\": 10.7, \"Best Lap Time\": 0.0, \"Number of Laps\": 1.0, \"Target\": 0}, {\"Activity Type\": \"Running\", \"Date\": \"2020-03-01 11:19:09\", \"Distance\": 6.44, \"Calories\": 371.0, \"Time\": 41.6, \"Avg HR\": 168.0, \"Max HR\": 187.0, \"Avg Run Cadence\": 176.0, \"Max Run Cadence\": 188.0, \"Avg Pace\": 6.466666666666667, \"Best Pace\": 3.7, \"Elev Gain\": 20.0, \"Elev Loss\": 19.0, \"Avg Stride Length\": 0.88, \"Climb Time\": 41.6, \"Best Lap Time\": 2.283333333333333, \"Number of Laps\": 7.0, \"Target\": 3}, {\"Activity Type\": \"Walking\", \"Date\": \"2020-02-29 22:06:31\", \"Distance\": 0.98, \"Calories\": 44.0, \"Time\": 11.583333333333334, \"Avg HR\": 106.0, \"Max HR\": 118.0, \"Avg Run Cadence\": 113.0, \"Max Run Cadence\": 134.0, \"Avg Pace\": 11.833333333333334, \"Best Pace\": 8.466666666666667, \"Elev Gain\": null, \"Elev Loss\": 19.0, \"Avg Stride Length\": 0.74, \"Climb Time\": 11.583333333333334, \"Best Lap Time\": 0.0, \"Number of Laps\": 1.0, \"Target\": 0}, {\"Activity Type\": \"Walking\", \"Date\": \"2020-02-29 00:26:05\", \"Distance\": 1.14, \"Calories\": 56.0, \"Time\": 15.516666666666667, \"Avg HR\": 108.0, \"Max HR\": 115.0, \"Avg Run Cadence\": 96.0, \"Max Run Cadence\": 130.0, \"Avg Pace\": 13.566666666666666, \"Best Pace\": 6.766666666666667, \"Elev Gain\": 2.0, \"Elev Loss\": 17.0, \"Avg Stride Length\": 0.76, \"Climb Time\": 15.516666666666667, \"Best Lap Time\": 4.416666666666667, \"Number of Laps\": 2.0, \"Target\": 0}, {\"Activity Type\": \"Yoga\", \"Date\": \"2020-02-27 19:15:01\", \"Distance\": 0.0, \"Calories\": 199.0, \"Time\": 90.0, \"Avg HR\": null, \"Max HR\": null, \"Avg Run Cadence\": null, \"Max Run Cadence\": null, \"Avg Pace\": null, \"Best Pace\": null, \"Elev Gain\": null, \"Elev Loss\": null, \"Avg Stride Length\": 0.0, \"Climb Time\": 90.0, \"Best Lap Time\": 0.0, \"Number of Laps\": 1.0, \"Target\": 7}, {\"Activity Type\": \"Walking\", \"Date\": \"2020-02-27 08:58:46\", \"Distance\": 1.09, \"Calories\": 57.0, \"Time\": 10.45, \"Avg HR\": 123.0, \"Max HR\": 137.0, \"Avg Run Cadence\": 100.0, \"Max Run Cadence\": 139.0, \"Avg Pace\": 9.55, \"Best Pace\": 6.766666666666667, \"Elev Gain\": 8.0, \"Elev Loss\": 6.0, \"Avg Stride Length\": 1.01, \"Climb Time\": 10.45, \"Best Lap Time\": 2.4333333333333336, \"Number of Laps\": 2.0, \"Target\": 0}, {\"Activity Type\": \"Walking\", \"Date\": \"2020-02-26 20:13:20\", \"Distance\": 0.9, \"Calories\": 44.0, \"Time\": 10.316666666666666, \"Avg HR\": 121.0, \"Max HR\": 169.0, \"Avg Run Cadence\": 113.0, \"Max Run Cadence\": 234.0, \"Avg Pace\": 11.416666666666666, \"Best Pace\": 9.4, \"Elev Gain\": 9.0, \"Elev Loss\": 2.0, \"Avg Stride Length\": 0.77, \"Climb Time\": 10.316666666666666, \"Best Lap Time\": 0.0, \"Number of Laps\": 1.0, \"Target\": 0}, {\"Activity Type\": \"Gym\", \"Date\": \"2020-02-26 18:30:45\", \"Distance\": 0.0, \"Calories\": 477.0, \"Time\": 90.0, \"Avg HR\": null, \"Max HR\": null, \"Avg Run Cadence\": null, \"Max Run Cadence\": null, \"Avg Pace\": null, \"Best Pace\": null, \"Elev Gain\": null, \"Elev Loss\": null, \"Avg Stride Length\": 0.0, \"Climb Time\": 90.0, \"Best Lap Time\": 0.0, \"Number of Laps\": 1.0, \"Target\": 8}, {\"Activity Type\": \"Running\", \"Date\": \"2020-02-24 20:47:38\", \"Distance\": 7.08, \"Calories\": 386.0, \"Time\": 45.1, \"Avg HR\": 162.0, \"Max HR\": 185.0, \"Avg Run Cadence\": 175.0, \"Max Run Cadence\": 188.0, \"Avg Pace\": 6.366666666666666, \"Best Pace\": 5.016666666666667, \"Elev Gain\": 100.0, \"Elev Loss\": 92.0, \"Avg Stride Length\": 0.9, \"Climb Time\": 45.1, \"Best Lap Time\": 0.48333333333333334, \"Number of Laps\": 8.0, \"Target\": 3}, {\"Activity Type\": \"Walking\", \"Date\": \"2020-02-24 09:01:26\", \"Distance\": 1.01, \"Calories\": 62.0, \"Time\": 13.366666666666667, \"Avg HR\": 117.0, \"Max HR\": 132.0, \"Avg Run Cadence\": 95.0, \"Max Run Cadence\": 137.0, \"Avg Pace\": 13.233333333333333, \"Best Pace\": 7.766666666666667, \"Elev Gain\": 12.0, \"Elev Loss\": 37.0, \"Avg Stride Length\": 0.75, \"Climb Time\": 13.366666666666667, \"Best Lap Time\": 2.6333333333333333, \"Number of Laps\": 2.0, \"Target\": 0}, {\"Activity Type\": \"Running\", \"Date\": \"2020-02-22 17:12:19\", \"Distance\": 4.01, \"Calories\": 223.0, \"Time\": 23.233333333333334, \"Avg HR\": 178.0, \"Max HR\": 188.0, \"Avg Run Cadence\": 179.0, \"Max Run Cadence\": 190.0, \"Avg Pace\": 5.8, \"Best Pace\": 4.833333333333333, \"Elev Gain\": 21.0, \"Elev Loss\": 23.0, \"Avg Stride Length\": 0.97, \"Climb Time\": 23.233333333333334, \"Best Lap Time\": 0.03333333333333333, \"Number of Laps\": 5.0, \"Target\": 3}, {\"Activity Type\": \"Running\", \"Date\": \"2020-02-22 17:00:28\", \"Distance\": 1.46, \"Calories\": 75.0, \"Time\": 9.0, \"Avg HR\": 165.0, \"Max HR\": 179.0, \"Avg Run Cadence\": 179.0, \"Max Run Cadence\": 190.0, \"Avg Pace\": 6.166666666666667, \"Best Pace\": 5.4, \"Elev Gain\": 7.0, \"Elev Loss\": 6.0, \"Avg Stride Length\": 0.9, \"Climb Time\": 9.0, \"Best Lap Time\": 2.0, \"Number of Laps\": 3.0, \"Target\": 3}, {\"Activity Type\": \"Walking\", \"Date\": \"2020-02-22 13:37:07\", \"Distance\": 1.12, \"Calories\": 71.0, \"Time\": 20.233333333333334, \"Avg HR\": 101.0, \"Max HR\": 133.0, \"Avg Run Cadence\": 78.0, \"Max Run Cadence\": 152.0, \"Avg Pace\": 18.016666666666666, \"Best Pace\": 9.916666666666666, \"Elev Gain\": 10.0, \"Elev Loss\": 4.0, \"Avg Stride Length\": 0.72, \"Climb Time\": 20.233333333333334, \"Best Lap Time\": 6.633333333333333, \"Number of Laps\": 2.0, \"Target\": 0}, {\"Activity Type\": \"Running\", \"Date\": \"2020-02-22 00:53:27\", \"Distance\": 0.14, \"Calories\": 9.0, \"Time\": 2.4833333333333334, \"Avg HR\": 102.0, \"Max HR\": 108.0, \"Avg Run Cadence\": 74.0, \"Max Run Cadence\": 125.0, \"Avg Pace\": 17.8, \"Best Pace\": 5.616666666666667, \"Elev Gain\": null, \"Elev Loss\": null, \"Avg Stride Length\": 0.76, \"Climb Time\": 2.4833333333333334, \"Best Lap Time\": 0.0, \"Number of Laps\": 1.0, \"Target\": 3}, {\"Activity Type\": \"Running\", \"Date\": \"2020-02-22 00:46:23\", \"Distance\": 0.22, \"Calories\": 8.0, \"Time\": 2.4833333333333334, \"Avg HR\": 106.0, \"Max HR\": 112.0, \"Avg Run Cadence\": 119.0, \"Max Run Cadence\": 128.0, \"Avg Pace\": 11.316666666666666, \"Best Pace\": 10.9, \"Elev Gain\": null, \"Elev Loss\": 2.0, \"Avg Stride Length\": 0.74, \"Climb Time\": 2.4833333333333334, \"Best Lap Time\": 0.0, \"Number of Laps\": 1.0, \"Target\": 3}, {\"Activity Type\": \"Walking\", \"Date\": \"2020-02-20 08:10:01\", \"Distance\": 0.95, \"Calories\": 49.0, \"Time\": 9.616666666666667, \"Avg HR\": 125.0, \"Max HR\": 156.0, \"Avg Run Cadence\": 122.0, \"Max Run Cadence\": 132.0, \"Avg Pace\": 10.083333333333334, \"Best Pace\": 9.55, \"Elev Gain\": 2.0, \"Elev Loss\": 2.0, \"Avg Stride Length\": 0.81, \"Climb Time\": 9.616666666666667, \"Best Lap Time\": 0.0, \"Number of Laps\": 1.0, \"Target\": 0}, {\"Activity Type\": \"Running\", \"Date\": \"2020-02-18 19:27:50\", \"Distance\": 5.47, \"Calories\": null, \"Time\": 34.45, \"Avg HR\": null, \"Max HR\": null, \"Avg Run Cadence\": null, \"Max Run Cadence\": null, \"Avg Pace\": 6.3, \"Best Pace\": 1.2333333333333334, \"Elev Gain\": 62.0, \"Elev Loss\": 65.0, \"Avg Stride Length\": 0.0, \"Climb Time\": 34.45, \"Best Lap Time\": 0.0, \"Number of Laps\": 1.0, \"Target\": 3}, {\"Activity Type\": \"Running\", \"Date\": \"2020-02-17 18:13:43\", \"Distance\": 7.31, \"Calories\": null, \"Time\": 52.983333333333334, \"Avg HR\": null, \"Max HR\": null, \"Avg Run Cadence\": null, \"Max Run Cadence\": null, \"Avg Pace\": 7.25, \"Best Pace\": 2.15, \"Elev Gain\": 93.0, \"Elev Loss\": 91.0, \"Avg Stride Length\": 0.0, \"Climb Time\": 52.983333333333334, \"Best Lap Time\": 0.0, \"Number of Laps\": 1.0, \"Target\": 3}, {\"Activity Type\": \"Running\", \"Date\": \"2020-02-14 21:51:44\", \"Distance\": 6.13, \"Calories\": null, \"Time\": 38.083333333333336, \"Avg HR\": null, \"Max HR\": null, \"Avg Run Cadence\": null, \"Max Run Cadence\": null, \"Avg Pace\": 6.216666666666667, \"Best Pace\": 1.45, \"Elev Gain\": 75.0, \"Elev Loss\": 75.0, \"Avg Stride Length\": 0.0, \"Climb Time\": 38.083333333333336, \"Best Lap Time\": 0.0, \"Number of Laps\": 1.0, \"Target\": 3}, {\"Activity Type\": \"Running\", \"Date\": \"2020-02-07 13:50:40\", \"Distance\": 5.53, \"Calories\": null, \"Time\": 42.68333333333333, \"Avg HR\": null, \"Max HR\": null, \"Avg Run Cadence\": null, \"Max Run Cadence\": null, \"Avg Pace\": 7.716666666666667, \"Best Pace\": 1.9833333333333334, \"Elev Gain\": 37.0, \"Elev Loss\": 37.0, \"Avg Stride Length\": 0.0, \"Climb Time\": 42.68333333333333, \"Best Lap Time\": 0.0, \"Number of Laps\": 1.0, \"Target\": 3}, {\"Activity Type\": \"Running\", \"Date\": \"2020-01-19 18:51:49\", \"Distance\": 4.82, \"Calories\": null, \"Time\": 36.8, \"Avg HR\": null, \"Max HR\": null, \"Avg Run Cadence\": null, \"Max Run Cadence\": null, \"Avg Pace\": 7.633333333333333, \"Best Pace\": 2.0166666666666666, \"Elev Gain\": 52.0, \"Elev Loss\": 52.0, \"Avg Stride Length\": 0.0, \"Climb Time\": 36.8, \"Best Lap Time\": 0.0, \"Number of Laps\": 1.0, \"Target\": 3}, {\"Activity Type\": \"Running\", \"Date\": \"2019-11-01 14:35:11\", \"Distance\": 6.91, \"Calories\": null, \"Time\": 57.916666666666664, \"Avg HR\": null, \"Max HR\": null, \"Avg Run Cadence\": null, \"Max Run Cadence\": null, \"Avg Pace\": 8.383333333333333, \"Best Pace\": 2.6666666666666665, \"Elev Gain\": 67.0, \"Elev Loss\": 78.0, \"Avg Stride Length\": 0.0, \"Climb Time\": 57.916666666666664, \"Best Lap Time\": 0.0, \"Number of Laps\": 1.0, \"Target\": 3}, {\"Activity Type\": \"Cycling\", \"Date\": \"2018-10-17 17:47:15\", \"Distance\": 1.6, \"Calories\": 56.0, \"Time\": 13.683333333333334, \"Avg HR\": 104.0, \"Max HR\": 131.0, \"Avg Run Cadence\": null, \"Max Run Cadence\": null, \"Avg Pace\": 0.11666666666666667, \"Best Pace\": 0.7899999999999999, \"Elev Gain\": 2.0, \"Elev Loss\": null, \"Avg Stride Length\": 0.0, \"Climb Time\": 13.683333333333334, \"Best Lap Time\": 0.0, \"Number of Laps\": 1.0, \"Target\": 5}, {\"Activity Type\": \"Running\", \"Date\": \"2018-06-24 13:28:00\", \"Distance\": 5.48, \"Calories\": 285.0, \"Time\": 30.4, \"Avg HR\": 182.0, \"Max HR\": 196.0, \"Avg Run Cadence\": 180.0, \"Max Run Cadence\": 192.0, \"Avg Pace\": 5.55, \"Best Pace\": 4.816666666666666, \"Elev Gain\": 2.0, \"Elev Loss\": null, \"Avg Stride Length\": 1.0, \"Climb Time\": 30.4, \"Best Lap Time\": 0.0, \"Number of Laps\": 6.0, \"Target\": 3}, {\"Activity Type\": \"Running\", \"Date\": \"2018-05-18 18:49:26\", \"Distance\": 9.81, \"Calories\": 432.0, \"Time\": 56.93333333333333, \"Avg HR\": 159.0, \"Max HR\": 190.0, \"Avg Run Cadence\": 177.0, \"Max Run Cadence\": 190.0, \"Avg Pace\": 5.8, \"Best Pace\": 4.25, \"Elev Gain\": 4.0, \"Elev Loss\": 6.0, \"Avg Stride Length\": 0.97, \"Climb Time\": 56.93333333333333, \"Best Lap Time\": 0.0, \"Number of Laps\": 10.0, \"Target\": 3}, {\"Activity Type\": \"Running\", \"Date\": \"2018-05-13 14:08:37\", \"Distance\": 11.62, \"Calories\": 622.0, \"Time\": 73.18333333333334, \"Avg HR\": 170.0, \"Max HR\": 189.0, \"Avg Run Cadence\": 181.0, \"Max Run Cadence\": 191.0, \"Avg Pace\": 6.3, \"Best Pace\": 5.2, \"Elev Gain\": 9.0, \"Elev Loss\": 2.0, \"Avg Stride Length\": 0.88, \"Climb Time\": 73.18333333333334, \"Best Lap Time\": 0.0, \"Number of Laps\": 12.0, \"Target\": 3}, {\"Activity Type\": \"Running\", \"Date\": \"2018-05-11 19:20:38\", \"Distance\": 11.13, \"Calories\": 545.0, \"Time\": 65.85, \"Avg HR\": 173.0, \"Max HR\": 195.0, \"Avg Run Cadence\": 179.0, \"Max Run Cadence\": 191.0, \"Avg Pace\": 5.916666666666667, \"Best Pace\": 4.483333333333333, \"Elev Gain\": 12.0, \"Elev Loss\": 13.0, \"Avg Stride Length\": 0.94, \"Climb Time\": 65.85, \"Best Lap Time\": 0.0, \"Number of Laps\": 12.0, \"Target\": 3}, {\"Activity Type\": \"Running\", \"Date\": \"2018-05-08 06:05:45\", \"Distance\": 5.87, \"Calories\": 251.0, \"Time\": 34.46666666666667, \"Avg HR\": 153.0, \"Max HR\": 178.0, \"Avg Run Cadence\": 185.0, \"Max Run Cadence\": 193.0, \"Avg Pace\": 5.866666666666667, \"Best Pace\": 4.966666666666667, \"Elev Gain\": null, \"Elev Loss\": null, \"Avg Stride Length\": 0.92, \"Climb Time\": 34.46666666666667, \"Best Lap Time\": 0.0, \"Number of Laps\": 6.0, \"Target\": 3}, {\"Activity Type\": \"Running\", \"Date\": \"2018-04-27 17:18:16\", \"Distance\": 5.9, \"Calories\": 260.0, \"Time\": 31.083333333333332, \"Avg HR\": 179.0, \"Max HR\": 194.0, \"Avg Run Cadence\": 179.0, \"Max Run Cadence\": 196.0, \"Avg Pace\": 5.266666666666667, \"Best Pace\": 4.766666666666667, \"Elev Gain\": 2.0, \"Elev Loss\": null, \"Avg Stride Length\": 1.06, \"Climb Time\": 31.083333333333332, \"Best Lap Time\": 0.0, \"Number of Laps\": 6.0, \"Target\": 3}, {\"Activity Type\": \"Running\", \"Date\": \"2018-04-08 11:01:35\", \"Distance\": 20.9, \"Calories\": 1057.0, \"Time\": 128.11666666666667, \"Avg HR\": 180.0, \"Max HR\": 195.0, \"Avg Run Cadence\": 183.0, \"Max Run Cadence\": 193.0, \"Avg Pace\": 6.133333333333334, \"Best Pace\": 4.9, \"Elev Gain\": 14.0, \"Elev Loss\": 12.0, \"Avg Stride Length\": 0.89, \"Climb Time\": 128.11666666666667, \"Best Lap Time\": 0.0, \"Number of Laps\": 21.0, \"Target\": 3}, {\"Activity Type\": \"Running\", \"Date\": \"2018-04-05 18:30:50\", \"Distance\": 9.55, \"Calories\": 497.0, \"Time\": 61.6, \"Avg HR\": 174.0, \"Max HR\": 197.0, \"Avg Run Cadence\": 177.0, \"Max Run Cadence\": 192.0, \"Avg Pace\": 6.45, \"Best Pace\": 5.233333333333333, \"Elev Gain\": null, \"Elev Loss\": 12.0, \"Avg Stride Length\": 0.87, \"Climb Time\": 61.6, \"Best Lap Time\": 0.0, \"Number of Laps\": 10.0, \"Target\": 3}]}}, {\"mode\": \"vega-lite\"});\n",
       "</script>"
      ],
      "text/plain": [
       "alt.Chart(...)"
      ]
     },
     "execution_count": 20,
     "metadata": {},
     "output_type": "execute_result"
    }
   ],
   "source": [
    "# Specifying a color scheme:\n",
    "palette = specify_palette_altair(activities)\n",
    "\n",
    "# Plotting class distribution:\n",
    "class_distribution=alt.Chart(cleaned_data).mark_bar(size=20).encode(\n",
    "            y = alt.Y('Activity Type', title='classes'),\n",
    "            x = alt.X('count()'),\n",
    "            color=alt.Color('Activity Type:N', \n",
    "                            scale=palette, \n",
    "                            legend = alt.Legend(symbolSize=400, orient=\"top\")),\n",
    "            tooltip='count()'\n",
    "        ).properties(\n",
    "            width=380,\n",
    "            height=300,\n",
    "            title=\"class distribution\"\n",
    "        )\n",
    "\n",
    "class_distribution"
   ]
  },
  {
   "cell_type": "markdown",
   "metadata": {},
   "source": [
    "#### Interpretation:\n",
    "The frequency of individual activities in this dataset varies quite a bit. Some activities were carried out only a couple of times (like \"Gym\" 2 times), others were carried out a lot (like \"Walking\" 159 times). Statistics will be way more representative on activities which were carried out a lot. E.g.: The two datapoints of the activity \"Gym\" will not tell us a lot where the true mean of e.g: \"Calories\" is. Furthermore the issue of missing values is bigger in the case of activities which where carried out less often."
   ]
  },
  {
   "cell_type": "markdown",
   "metadata": {},
   "source": [
    "### When was this Dataset created?\n",
    "Aim:\n",
    "* Give overview of the \"Date\" attribute of each datapoint.\n",
    "* The user should be able to see if the \"Date\" attribute is realistic or if it contains obvious errors."
   ]
  },
  {
   "cell_type": "code",
   "execution_count": 7,
   "metadata": {},
   "outputs": [
    {
     "data": {
      "text/markdown": [
       "This graph can be zoomed!"
      ],
      "text/plain": [
       "<IPython.core.display.Markdown object>"
      ]
     },
     "metadata": {},
     "output_type": "display_data"
    },
    {
     "data": {
      "application/vnd.jupyter.widget-view+json": {
       "model_id": "c7c156d7b1914d269cfed14ebf36dd35",
       "version_major": 2,
       "version_minor": 0
      },
      "text/plain": [
       "interactive(children=(Dropdown(description='selected', options=('All Data', 'Walking', 'Cardio', 'Breathwork',…"
      ]
     },
     "metadata": {},
     "output_type": "display_data"
    }
   ],
   "source": [
    "def draw_time_plot(df):\n",
    "    chart=alt.Chart(df).mark_tick(\n",
    "        opacity=0.2,\n",
    "        color='red',\n",
    "        thickness=2,\n",
    "        size=40 * 0.9,  # controls width of tick.\n",
    "    ).encode(x=alt.X('Date:T',axis=alt.Axis(format='%B %Y')),\n",
    "            tooltip=['Activity Type','Date:T']\n",
    "    ).interactive()\n",
    "    return chart\n",
    "\n",
    "printmd(\"This graph can be zoomed!\")\n",
    "@widgets.interact(selected = ['All Data','Walking','Cardio', 'Breathwork', 'Cycling', 'Yoga', 'Swimming', 'Gym', 'Strength', 'Running'])\n",
    "def plotter(selected):\n",
    "    if selected=='All Data':\n",
    "        return draw_time_plot(cleaned_data)\n",
    "    else:\n",
    "        my_list=[selected]\n",
    "        my_data=(cleaned_data.iloc[[True if any(string in activity for string in my_list) else False for activity in cleaned_data[\"Activity Type\"]]])\n",
    "        return draw_time_plot(my_data)"
   ]
  },
  {
   "cell_type": "markdown",
   "metadata": {},
   "source": [
    "#### Interpretation:\n",
    "The dataset spans from April 5th, 2018 to December 4th, 2020. However, the graph indicates a concentration of entries between February and December 2020. Analyzing each activity and its corresponding dates offers valuable insights into dataset creation. Focusing solely on 2020, the predominant year of data collection, reveals patterns: \"Cycling\" primarily occurred during summer, while \"Walking\" persisted throughout the year. This examination serves as a \"sanity check\", demonstrating consistent and distributed engagement in frequent activities like \"Running\", \"Walking\", \"Breathwork\", \"Cycling,\" and \"Yoga\" over an extended period, rather than clustered occurrences."
   ]
  },
  {
   "cell_type": "markdown",
   "metadata": {},
   "source": [
    "### Now lets get an overview over the distibution of the other attributes!\n",
    "Aim:\n",
    "* Give an overview of the distribution of all the attributes for each class, using boxplots.\n",
    "* Since some attributes contain very large numbers and others contain very small numbers, the user can (optionally) get the attributes plotted at log2 scale."
   ]
  },
  {
   "cell_type": "code",
   "execution_count": 8,
   "metadata": {},
   "outputs": [],
   "source": [
    "def draw_stat_boxplot(df,att,plot_title):\n",
    "    chart=alt.Chart(df).transform_fold(\n",
    "    att,\n",
    "    as_=['key', 'value']\n",
    "    ).mark_boxplot().encode(\n",
    "        y='key:N',\n",
    "        x='value:Q'\n",
    "    ).properties(\n",
    "        title=plot_title\n",
    "    )\n",
    "    return chart"
   ]
  },
  {
   "cell_type": "code",
   "execution_count": 9,
   "metadata": {},
   "outputs": [
    {
     "data": {
      "application/vnd.jupyter.widget-view+json": {
       "model_id": "29c1f454c8b44f718bee6b85dfaf5d5d",
       "version_major": 2,
       "version_minor": 0
      },
      "text/plain": [
       "interactive(children=(Dropdown(description='activity', options=('All Activities', 'Cardio', 'Breathwork', 'Wal…"
      ]
     },
     "metadata": {},
     "output_type": "display_data"
    }
   ],
   "source": [
    "@widgets.interact(activity = ['All Activities','Cardio', 'Breathwork', 'Walking', 'Cycling', 'Yoga', 'Swimming', 'Gym', 'Strength', 'Running'],\n",
    "                 scale=[\"linear\",\"log2\"])\n",
    "def plotter(activity, scale):            \n",
    "    if activity=='All Activities':\n",
    "        if scale==\"linear\":\n",
    "            part1= pd.DataFrame(cleaned_data)\n",
    "            part1=part1.drop(['Activity Type','Calories','Elev Gain','Elev Loss','Date','Target','Distance'], axis=1)\n",
    "            att1=list(part1.columns)\n",
    "\n",
    "            part2=pd.DataFrame(cleaned_data['Calories'])\n",
    "            part2['Distance']=cleaned_data['Distance']\n",
    "            part2['Elev Gain']=cleaned_data['Elev Gain']\n",
    "            part2['Elev Loss']=cleaned_data['Elev Loss']\n",
    "            att2=list(part2.columns)\n",
    "\n",
    "            return draw_stat_boxplot(part1,att1,f'{scale} scale Distribution of attibutes within in All Activities') | draw_stat_boxplot(part2,att2,f'{scale} scale distribution for attributes with larger values')\n",
    "        else:\n",
    "            part1= pd.DataFrame(cleaned_data)\n",
    "            part1=part1.drop(['Activity Type','Date','Target'], axis=1)\n",
    "            part1=np.log2(part1)\n",
    "            att1=list(part1.columns)\n",
    "            return draw_stat_boxplot(part1,att1,f'{scale} scale Distribution of attibutes within in All Activities')\n",
    "    else:\n",
    "        attribute_list=[]\n",
    "        my_list=[activity]\n",
    "        my_data=(cleaned_data.iloc[[True if any(string in activity for string in my_list) else False for activity in cleaned_data[\"Activity Type\"]]])\n",
    "        my_data=my_data.drop(['Activity Type','Target','Date'], axis=1)\n",
    "        for colum in my_data.columns:\n",
    "            if not len(my_data)==my_data[colum].isnull().sum():\n",
    "                attribute_list.append(colum)\n",
    "            #if not colum.isnull()\n",
    "        if scale== \"linear\":\n",
    "            return draw_stat_boxplot(my_data,attribute_list, f'{scale} scale Distribution of attibutes within in {activity}')\n",
    "        else:\n",
    "            my_data=np.log2(my_data)\n",
    "            return draw_stat_boxplot(my_data,attribute_list, f'{scale} scale Distribution of attibutes within in {activity}')\n"
   ]
  },
  {
   "cell_type": "markdown",
   "metadata": {},
   "source": [
    "#### Interpretation:\n",
    "\n",
    "The graphs reveal that certain classes lack entries for specific activities, indicating that some attributes have been \"dropped.\" For instance, \"Swimming\" and \"Yoga\" lack \"Elevation gain\" data. In many cases, attributes that are irrelevant to a given activity were excluded as expected. However, there are instances where irrelevant attributes were instead set to zero. For example, in the \"Gym\" activity, all values, except for \"Calories,\" were zeroed.\n",
    "Examining the distribution of non-empty attribute values gives significant insights. Most notably, it highlights a big variation in attribute value distribution across distinct classes. For instance, within the \"Breathwork\" class, all \"Avg Heartrate\" values fall below the median for the same attribute across the entire dataset."
   ]
  },
  {
   "cell_type": "markdown",
   "metadata": {},
   "source": [
    "### Since the distribution of attribute values differs a lot between classes, lets plot an individual attribute and label the class of each datapoint: \n",
    "Aim:\n",
    "* We have seen that the distribution of individual attributes varies a lot between classes, but the graphs before made it really hard to judge which attribute value ranges correspond to which class. The following\n",
    "graph should show exactly that."
   ]
  },
  {
   "cell_type": "code",
   "execution_count": 10,
   "metadata": {},
   "outputs": [
    {
     "data": {
      "application/vnd.jupyter.widget-view+json": {
       "model_id": "42e887ac530f48d9953164e3f3527948",
       "version_major": 2,
       "version_minor": 0
      },
      "text/plain": [
       "interactive(children=(Dropdown(description='selected', options=('Max HR', 'Distance', 'Calories', 'Time', 'Avg…"
      ]
     },
     "metadata": {},
     "output_type": "display_data"
    }
   ],
   "source": [
    "@widgets.interact(selected = ['Max HR','Distance','Calories','Time','Avg HR','Avg Run Cadence','Max Run Cadence','Avg Pace','Best Pace','Elev Gain','Elev Loss','Avg Stride Length','Climb Time','Best Lap Time','Number of Laps'])\n",
    "def plotter(selected):\n",
    "     \n",
    "    chart = alt.Chart(cleaned_data, width=50).mark_circle(opacity=0.7).encode(\n",
    "    x=alt.X(selected + ':Q', \n",
    "            axis= alt.Axis(labelFontSize=8, tickCount=4)),\n",
    "    color = alt.Color('Activity Type:N', scale=palette, legend = alt.Legend(symbolSize=400, orient=\"top\")),\n",
    "    tooltip=['Activity Type',selected],\n",
    "    y=alt.Y(\n",
    "        'jitter:Q',\n",
    "        axis=alt.Axis(values=[0], ticks=True, grid=False, labels=False),\n",
    "        scale=alt.Scale()\n",
    "    )\n",
    "    ).transform_calculate(\n",
    "    jitter='sqrt(-2*log(random()))*cos(2*PI*random())'\n",
    "    ).interactive(\n",
    "    ).properties(\n",
    "    width=800,\n",
    "    height=80\n",
    "    )\n",
    "    return chart"
   ]
  },
  {
   "cell_type": "markdown",
   "metadata": {},
   "source": [
    "### Interpretation\n",
    "The graph illustrates that specific attributes such as \"Max Heartrate\" allow for a clean separation of activities (e.g., \"Running\" vs. \"Breathwork\").\n",
    "In other attributes, a clean separation is not straightforward.\n",
    "The attribute “Time” for example makes it impossible to separate classes based on their value range. However, the attribute “Time” reveals another interesting insight, that was not obvious from the boxplots in the graph above: Nearly all instances of Breathwork exercises lasted approximately 6 or 11 minutes, with minimal entries falling between these time frames.\n"
   ]
  },
  {
   "cell_type": "markdown",
   "metadata": {},
   "source": [
    "### Comparing two attributes of two Classes/Activity Types:\n",
    "\n",
    "Aim:\n",
    "* The last graph showed that in some cases two classes can be distinguished by only looking at value ranges of one attribute, if those ranges are disjoint. But it if there is some overlap, it is hard for the user to\n",
    "judge how big this overlapping is. By comparing two boxplots of the Attribute values of two classes, the user can understand this better.\n",
    "* Give the user a \"higher level\" way of comparing two classes when looking at a specific attribute."
   ]
  },
  {
   "cell_type": "code",
   "execution_count": 11,
   "metadata": {},
   "outputs": [
    {
     "data": {
      "text/markdown": [
       "No Boxplot = this activity has no entries of the attribute!"
      ],
      "text/plain": [
       "<IPython.core.display.Markdown object>"
      ]
     },
     "metadata": {},
     "output_type": "display_data"
    },
    {
     "data": {
      "application/vnd.jupyter.widget-view+json": {
       "model_id": "6a6e13c622a14dd5b29323482837352d",
       "version_major": 2,
       "version_minor": 0
      },
      "text/plain": [
       "interactive(children=(Dropdown(description='attribute', options=('Max HR', 'Distance', 'Calories', 'Time', 'Av…"
      ]
     },
     "metadata": {},
     "output_type": "display_data"
    }
   ],
   "source": [
    "def stat_boxplot(df,sel,activity):\n",
    "    chart=alt.Chart(df).transform_fold(\n",
    "    [sel],\n",
    "    as_=['key', 'value']\n",
    "    ).mark_boxplot().encode(\n",
    "        y='key:N',\n",
    "        x = 'value:Q', \n",
    "    ).properties(\n",
    "        title=activity\n",
    "    )\n",
    "    return chart\n",
    "def double_boxplot(df_1,df_2,sel,activity1,activity2):\n",
    "    plot=alt.vconcat(\n",
    "        stat_boxplot(df_1,sel,activity1),\n",
    "        stat_boxplot(df_2,sel,activity2)\n",
    "    ).resolve_scale(\n",
    "        x='shared'\n",
    "    )\n",
    "    #x =  stat_boxplot(df_1,sel) & stat_boxplot(df_2,sel)\n",
    "    return plot\n",
    "printmd(\"No Boxplot = this activity has no entries of the attribute!\")\n",
    "@widgets.interact(attribute = ['Max HR','Distance','Calories','Time','Avg HR','Avg Run Cadence','Max Run Cadence','Avg Pace','Best Pace','Elev Gain','Elev Loss','Avg Stride Length','Climb Time','Best Lap Time','Number of Laps'],\n",
    "                  activity1 = ['Walking', 'Cardio', 'Breathwork', 'Cycling', 'Yoga', 'Swimming', 'Gym', 'Strength', 'Running'],\n",
    "                  activity2 = ['Running','Cardio', 'Breathwork', 'Walking', 'Cycling', 'Yoga', 'Swimming', 'Gym', 'Strength'],)\n",
    "def plotter(attribute,activity1,activity2):         \n",
    "    my_list=[activity1]\n",
    "    df_1=(cleaned_data.iloc[[True if any(string in activity for string in my_list) else False for activity in cleaned_data[\"Activity Type\"]]])\n",
    "    my_list=[activity2]\n",
    "    df_2=(cleaned_data.iloc[[True if any(string in activity for string in my_list) else False for activity in cleaned_data[\"Activity Type\"]]])\n",
    "    \n",
    "    return double_boxplot(df_1,df_2,attribute,activity1,activity2)"
   ]
  },
  {
   "cell_type": "markdown",
   "metadata": {},
   "source": [
    "### Interpretation\n",
    "\n",
    "These graphs allow to better assess the degree of overlap between two classes with respect to a specific attribute.\n",
    "For instance, previously identified attributes like \"Max Heartrate\" and \"Avg Heartrate\" exhibit notably separate value ranges for certain activities: \"Avg Heartrate,\" reveals distinct, non-overlapping classes when comparing \"Running vs. Breathwork\" or \"Running vs. Yoga”.\n",
    "\n",
    "These boxplots also facilitate an understanding of the extent to which overlapping classes diverge. Consider \"Avg Stride length\" for \"Walking\" and \"Running.\" Despite slight separation in medians (0.81 vs. 0.86), they show similar interquartile ranges. However, comparing \"Calories\" between these classes shows more divergence. The medians are significantly apart (71 vs. 331), and their interquartile ranges also differ significantly (92.5 vs. 292.5). Moreover, 75% of \"Walking\" datapoints fall within a range occupied by only 25% of \"Running\" datapoints, indicating a considerable degree of separation below 165 \"Calories\".\n",
    "\n",
    "Furthermore, these boxplots highlight attribute value variances between specific activities. For example, they show that \"Cycling\" has notably lower variance in \"Distance\" than \"Running\", raising the question whether a similar variance pattern exists for \"Time\". Indeed, this correlation is true, indicating a connection between attribute values. This relationship will be further explored in chapter \"3. Correlations\"."
   ]
  },
  {
   "cell_type": "markdown",
   "metadata": {},
   "source": [
    "### Now it would be interesting to compare the Standard Deviation of Attributes between Classes/Activities"
   ]
  },
  {
   "cell_type": "markdown",
   "metadata": {},
   "source": [
    "Aim:\n",
    "* To allow the user to compare multiple Standard deviations at once between two classes."
   ]
  },
  {
   "cell_type": "code",
   "execution_count": 12,
   "metadata": {},
   "outputs": [],
   "source": [
    "def plot_std(df,attribute):\n",
    "    std_distibution=alt.Chart(df).mark_bar(size=20).encode(\n",
    "            x = alt.X('Attributes', title='classes'),\n",
    "            y = alt.Y('std'),\n",
    "            tooltip='std'\n",
    "        ).properties(\n",
    "            width=380,\n",
    "            height=300,\n",
    "            title=f'Standard deviation of {attribute}'\n",
    "        ).resolve_scale(\n",
    "        y='shared'\n",
    "        )\n",
    "\n",
    "    return std_distibution"
   ]
  },
  {
   "cell_type": "code",
   "execution_count": 13,
   "metadata": {},
   "outputs": [],
   "source": [
    "def plot_std_of_activity(Activity):\n",
    "    float_data = cleaned_data.drop(['Activity Type', 'Date', 'Target'], axis=1)\n",
    "    attribute_list = float_data.columns\n",
    "    if Activity != 'All Activities':\n",
    "        selected_activity=[Activity]\n",
    "        float_data=(float_data.iloc[[True if any(string in activity for string in selected_activity) else False for activity in cleaned_data[\"Activity Type\"]]])\n",
    "    \n",
    "    std_df = pd.DataFrame(columns=['Attributes', 'std'])\n",
    "    for i,attribute in enumerate(attribute_list):\n",
    "        std_value=[float_data[attribute].std()]\n",
    "        std_df.loc[i] = [attribute] + std_value\n",
    "    return plot_std(std_df,Activity)"
   ]
  },
  {
   "cell_type": "code",
   "execution_count": 14,
   "metadata": {},
   "outputs": [
    {
     "data": {
      "application/vnd.jupyter.widget-view+json": {
       "model_id": "aa8affb841944774aa9621950bd43875",
       "version_major": 2,
       "version_minor": 0
      },
      "text/plain": [
       "interactive(children=(Dropdown(description='Activity_1', options=('All Activities', 'Walking', 'Cardio', 'Brea…"
      ]
     },
     "metadata": {},
     "output_type": "display_data"
    }
   ],
   "source": [
    "@widgets.interact(Activity_1 = ['All Activities','Walking', 'Cardio', 'Breathwork', 'Cycling', 'Yoga', 'Swimming', 'Gym', 'Strength', 'Running'],\n",
    "                  Activity_2 = ['Walking','All Activities', 'Cardio', 'Breathwork', 'Cycling', 'Yoga', 'Swimming', 'Gym', 'Strength', 'Running'])\n",
    "def plotter(Activity_1,Activity_2):\n",
    "    return alt.hconcat(\n",
    "        plot_std_of_activity(Activity_1),\n",
    "        plot_std_of_activity(Activity_2)\n",
    "    ).resolve_scale(\n",
    "        y='shared'\n",
    "    )"
   ]
  },
  {
   "cell_type": "markdown",
   "metadata": {},
   "source": [
    "### Interpretation\n",
    "\n",
    "This graph allows to compare standard deviations between Activities/Classes in the fitness dataset, providing valuable insights into training patterns. It shows the “regularity”, i.e., the similarity between training sessions within a class – low standard deviations imply high session regularity. By comparing \"regularity\" across classes, one can delve into training consistency.\n",
    "\n",
    "For example, comparing \"Breathwork\" and \"Walking\" illustrates extreme contrast. \"Breathwork\" shows low standard deviations, indicating highly similar sessions. In contrast, \"Walking\" exhibits high standard deviations, implying session dissimilarity. \"Breathwork\" thus possesses higher \"regularity\". A deeper look reveals that \"Walking\" sessions vary significantly in attributes like \"Calories\", \"Climb Time\", \"Elevation Gain\", \"Elevation Loss\", \"Max Run Cadence\", and \"Time.\" In contrast, \"Breathwork\" mainly differs in \"Number of Laps\".\n",
    "\n",
    "A less extreme example is comparing \"Walking\" and \"Cycling\", where \"Cycling\" maintains higher \"regularity\" than \"Walking.\"\n",
    "\n",
    "Examining the std-plot for \"All Activities\" uncovers interesting insights. Individual training sessions differ significantly, not surprising given varied activities. Particularly, \"Calories\" entries are widely spread, displaying the most dissimilarity across sessions. This attribute stands out as the least similar among training sessions."
   ]
  },
  {
   "cell_type": "markdown",
   "metadata": {},
   "source": [
    "## 3. Correlations\n",
    "\n",
    "\n",
    "After some descriptive statistics and exploratory analysis, the correlation between the attributes is analyzed.\n",
    "\n",
    "In the next part, the user has the opportunity to choose attributes and compare them in a scatterplot\n",
    "matrix. Moreover, the additional selection box allows to filter for Activity Types, in case someone is just interested in specific activities. Besides the scatterplot matrix, a colored heatmap, which shows pearson's correlation coefficient, is also provided. The heatmap is placed exactly under the scatterplot matrix and displays the preselected attributes and the corresponding correlation coefficent. To make it easier for the user to interpret the numbers, the heatmap is color encoded. (Blue indicates positive correlation between attributes and red indicates negative correlation with scaled hue depending on the strength of the correlation.)"
   ]
  },
  {
   "cell_type": "code",
   "execution_count": 12,
   "metadata": {},
   "outputs": [
    {
     "data": {
      "text/markdown": [
       "<br>**Choose attributes and activity type.**<br>Multiple options can be selected with shift and/or ctrl (or command) pressed and mouse clicks."
      ],
      "text/plain": [
       "<IPython.core.display.Markdown object>"
      ]
     },
     "metadata": {},
     "output_type": "display_data"
    },
    {
     "data": {
      "application/vnd.jupyter.widget-view+json": {
       "model_id": "78c9e7b70f26410f83e80c03892d4faa",
       "version_major": 2,
       "version_minor": 0
      },
      "text/plain": [
       "interactive(children=(SelectMultiple(description='Attributes', index=(0, 1, 3, 2), options=('Distance', 'Calor…"
      ]
     },
     "metadata": {},
     "output_type": "display_data"
    }
   ],
   "source": [
    "# Scatterplot matrix\n",
    "\n",
    "printmd(\"<br>**Choose attributes and activity type.**<br>Multiple options can be selected with shift and/or ctrl (or command) pressed and mouse clicks.\")\n",
    "\n",
    "@widgets.interact(attribute_list=widgets.SelectMultiple(\n",
    "    options=cleaned_data.columns.drop(['Activity Type', 'Date', 'Target', 'Avg Stride Length', 'Best Lap Time', 'Number of Laps']),\n",
    "    value=['Distance', 'Calories', 'Avg HR', 'Time'],\n",
    "    description='Attributes',\n",
    "    disabled=False\n",
    "), activity_list=widgets.SelectMultiple(\n",
    "    options=activities,\n",
    "    value=list(activities),\n",
    "    description='Activity Type',\n",
    "    disabled=False\n",
    "))\n",
    "\n",
    "def plott(attribute_list,activity_list):\n",
    "    category_mask = [True if any(string in activity for string in activity_list) else False for activity in cleaned_data[\"Activity Type\"]]\n",
    "    \n",
    "    def correlation_plot(attribute_list):\n",
    "        palette = specify_palette_altair(activities)\n",
    "\n",
    "        chart = alt.Chart(cleaned_data[category_mask]).mark_circle(opacity=alt.Value(0.7)).encode(\n",
    "            alt.X(alt.repeat(\"column\"), type='quantitative'),\n",
    "            alt.Y(alt.repeat(\"row\"), type='quantitative'),\n",
    "            color=alt.Color('Activity Type:N', \n",
    "                            scale=palette, \n",
    "                            legend = alt.Legend(symbolSize=400, orient=\"top\")),\n",
    "            tooltip=['Activity Type','Date','Distance', 'Avg HR']\n",
    "        ).properties(\n",
    "            width=150,\n",
    "            height=150\n",
    "        ).repeat(\n",
    "            row=attribute_list,\n",
    "            column=attribute_list\n",
    "        )\n",
    "\n",
    "        return chart\n",
    "\n",
    "    def correlation_heatmap(attribute_list):\n",
    "        \n",
    "        # Correlation Heatmap\n",
    "        cleaned_data[\"Distance\"] = pd.to_numeric(cleaned_data.Distance, errors='coerce')\n",
    "        cleaned_data[\"Calories\"] = pd.to_numeric(cleaned_data.Calories, errors='coerce')\n",
    "        cleaned_data[\"Avg HR\"] = pd.to_numeric(cleaned_data[\"Avg HR\"], errors='coerce')\n",
    "        cleaned_data[\"Max HR\"] = pd.to_numeric(cleaned_data[\"Max HR\"], errors='coerce')\n",
    "        cleaned_data[\"Avg Run Cadence\"] = pd.to_numeric(cleaned_data[\"Avg Run Cadence\"], errors='coerce')\n",
    "        cleaned_data[\"Max Run Cadence\"] = pd.to_numeric(cleaned_data[\"Max Run Cadence\"], errors='coerce')\n",
    "        cleaned_data[\"Elev Gain\"] = pd.to_numeric(cleaned_data[\"Elev Gain\"], errors='coerce')\n",
    "        cleaned_data[\"Elev Loss\"] = pd.to_numeric(cleaned_data[\"Elev Loss\"], errors='coerce')\n",
    "\n",
    "        df_cor = cleaned_data[category_mask][list(attribute_list)]\n",
    "        corrMatrix = df_cor.corr().reset_index().melt('index').fillna(0)\n",
    "        corrMatrix.columns = ['var1', 'var2', 'correlation']\n",
    "        \n",
    "        palette = specify_palette_altair(activities)\n",
    "        \n",
    "        chart = alt.Chart(corrMatrix,title=\"Correlation Heatmap\").encode(\n",
    "            x=alt.X('var1', title=None, sort=None, axis=alt.Axis(labelAngle=0,\n",
    "                                                                 labelFontStyle=\"bold\",\n",
    "                                                                 labelPadding=8,                                                                 \n",
    "                                                                 labelFontSize=11)),\n",
    "            y=alt.Y('var2', title=None, sort=None, axis=alt.Axis(labelAngle=-90,\n",
    "                                                                 labelFontStyle=\"bold\",\n",
    "                                                                 labelPadding=15,\n",
    "                                                                 labelFontSize=11)),\n",
    "            color=alt.Color('correlation')\n",
    "        ).properties(\n",
    "            width=alt.Step(220),\n",
    "            height=alt.Step(80)\n",
    "        )\n",
    "\n",
    "        rects = chart.mark_rect().encode(\n",
    "            color=alt.Color('correlation', scale=alt.Scale(scheme=\"redblue\", domain=[-1,1]))\n",
    "        )\n",
    "        \n",
    "        text = chart.mark_text(\n",
    "            size=24\n",
    "        ).encode(\n",
    "            text=alt.Text('correlation', format=\".2f\"),\n",
    "            color=alt.condition(\n",
    "                \"datum.correlation > 0.5\",\n",
    "                alt.value('white'),\n",
    "                alt.value('black')\n",
    "            )\n",
    "        )\n",
    "        return (rects + text)\n",
    "    \n",
    "    scatter = correlation_plot(attribute_list)\n",
    "    heatmap = correlation_heatmap(attribute_list)\n",
    "    \n",
    "    return alt.vconcat(scatter, heatmap, spacing=60).configure_scale(bandPaddingInner=0.28, \n",
    "                                                                     bandPaddingOuter=0)"
   ]
  },
  {
   "cell_type": "markdown",
   "metadata": {},
   "source": [
    "#### Interpretation:\n",
    "The scatterplot matrix, along with the heatmap, offers intriguing insights into the data and the interrelationship among attributes. When examining 'Time' and 'Calories', it can be concluded that the longer an activity lasts, the more calories are burned.\n",
    "\n",
    "The heatmap emphasizes this statement with a correlation coefficient of 0.87. There is also a quite strong positive correlation between 'Calories' and 'Avg HR', which points out that the more intense a activity is, the more calories are burned. The pearson's correlation coefficient between 'Avg Pace' and 'Avg Run Cadence' is -0.77. The 'Avg Run Cadence' is only tracked for Running or Walking and measures the steps per minute. However, we can conclude that the higher the 'Avg Pace', the less steps per minute are made.\n",
    "\n",
    "The almost perfect correlation between 'Elev Gain' and 'Elev Loss' can be explained with the preferred routes of the athlete. It seems to be that most of the time the startpoint of an activity is equal to the end point. (e.g. the athlete starts cycling from home and finishes the tour by arriving at home again.) Therefore, the gained elevation has to be equal to the lost elevation. Also 'Time' correlates strongly positive with 'Elev Gain' and 'Elev Loss' (0.70, 0.71), which leads to the assumption that the longer an activity lasts, the more vertical meters are made. All in all this kind of visualization is very handy to get an overview over the data and it allows to draw some assumptions about it."
   ]
  },
  {
   "cell_type": "markdown",
   "metadata": {},
   "source": [
    "### 4. Dimension Reduction Techniques\n",
    "\n"
   ]
  },
  {
   "cell_type": "markdown",
   "metadata": {},
   "source": [
    "Choose one of the following techniques in the dropdown menu and see which is the best for your data.\n",
    "* PCA: Linear dimensionality reduction using Singular Value Decomposition of the data to project it to a lower dimensional space. \n",
    "* MDS: Means of visualizing the level of similarity of individual cases of a dataset. \n",
    "* ICA: A computational method for separating a multivariate signal into additive subcomponents.\n",
    "* t-SNE: A dimensionality reduction technique that is based on Stochastic Neighbor Embedding.\n",
    "* UMAP: A nonlinear dimensionality reduction method.\n"
   ]
  },
  {
   "cell_type": "code",
   "execution_count": 13,
   "metadata": {
    "pycharm": {
     "is_executing": true
    }
   },
   "outputs": [
    {
     "data": {
      "application/vnd.jupyter.widget-view+json": {
       "model_id": "51e8fddd962c4e6394b87095beb664b7",
       "version_major": 2,
       "version_minor": 0
      },
      "text/plain": [
       "interactive(children=(Dropdown(description='components', options=(3, 4, 5), value=3), Output()), _dom_classes=…"
      ]
     },
     "metadata": {},
     "output_type": "display_data"
    }
   ],
   "source": [
    "downprojection_data = data.downprojection_df\n",
    "\n",
    "@widgets.interact(components=[3,4,5])\n",
    "def downprojection(components):\n",
    "    global labels\n",
    "    labels = ['X1', 'X2', 'X3', 'X4', 'X5'][0:components]\n",
    "\n",
    "    def create_downproject_objects():\n",
    "        if_tsne=False\n",
    "        mds = manifold.MDS(n_components=components, random_state=42)\n",
    "        pca = decomposition.PCA(n_components=components)\n",
    "        tsvd = decomposition.TruncatedSVD(n_components=components)\n",
    "        ica = decomposition.FastICA(n_components=components)\n",
    "        if components>3:\n",
    "            printmd('t-SNE only works with three components.')\n",
    "            if_tsne=True\n",
    "        try:\n",
    "            tsne = manifold.TSNE(n_components=components)\n",
    "        except:\n",
    "            printmd('t-SNE only works with three components.')\n",
    "            tsne=None\n",
    "            if_tsne=True\n",
    "        u_map = umap.UMAP(n_components=components)\n",
    "        return mds, pca, tsvd, ica, tsne, u_map, if_tsne\n",
    "\n",
    "    # Plot downprojection\n",
    "    methods = [manifold.MDS,decomposition.PCA,decomposition.TruncatedSVD,decomposition.FastICA,manifold.TSNE,umap.UMAP]\n",
    "\n",
    "    mds, pca, tsvd, ica, tsne, u_map, if_tsne = create_downproject_objects()\n",
    "    downprojection = 'Place holder' # place holder for the downprojection \n",
    "    projections =''\n",
    "    if if_tsne:\n",
    "        projections = ['PCA','MDS','ICA', 'UMAP']\n",
    "    else:\n",
    "        projections = ['PCA','MDS','ICA','t-SNE', 'UMAP']\n",
    "    \n",
    "\n",
    "    @widgets.interact_manual(projection=projections)\n",
    "    def plot_downprojection(projection):\n",
    "        global downprojection\n",
    "        if projection=='PCA':\n",
    "            downprojection = pca.fit(downprojection_data).transform(downprojection_data)\n",
    "        if projection=='MDS':\n",
    "            downprojection = mds.fit(downprojection_data).embedding_\n",
    "        if projection=='Truncated SVD':\n",
    "            downprojection= tsvd.fit(downprojection_data).transform(downprojection_data)\n",
    "        if projection=='ICA':\n",
    "            downprojection = ica.fit(downprojection_data).transform(downprojection_data)\n",
    "        if projection=='UMAP':\n",
    "            downprojection = u_map.fit_transform(downprojection_data)\n",
    "        if projection=='t-SNE':\n",
    "            downprojection = tsne.fit(downprojection_data).embedding_\n",
    "\n",
    "        palette = specify_palette_plt(activities)\n",
    "        fig, ax = plt.subplots(1,components-1, figsize=[20,7])\n",
    "\n",
    "        [a.set(ylabel=\"X1\") for a in ax]  \n",
    "        create_legend(ax[0], palette)\n",
    "\n",
    "        for i in range(components-1):\n",
    "            ax[i].scatter(downprojection[:, i+1], downprojection[:, 0], s=30, c=[palette[t] for t in target], alpha=0.7)\n",
    "            ax[i].set(xlabel=labels[i+1]) \n",
    "\n",
    "\n",
    "    def plot_downprojection(projection):\n",
    "        global downprojection\n",
    "        if projection=='PCA':\n",
    "            downprojection = pca.fit(downprojection_data).transform(downprojection_data)\n",
    "        if projection=='MDS':\n",
    "            downprojection = mds.fit(downprojection_data).embedding_\n",
    "        if projection=='ICA':\n",
    "            downprojection = ica.fit(downprojection_data).transform(downprojection_data)\n",
    "        if projection=='UMAP':\n",
    "            downprojection = u_map.fit_transform(downprojection_data)\n",
    "        if projection=='t-SNE':\n",
    "            downprojection = tsne.fit(downprojection_data).embedding_\n",
    "\n",
    "        palette = specify_palette_plt(activities)\n",
    "        fig, ax = plt.subplots(1,components-1, figsize=[20,7])\n",
    "\n",
    "        [a.set(ylabel=\"X1\") for a in ax]  \n",
    "        create_legend(ax[0], palette)\n",
    "\n",
    "        for i in range(components-1):\n",
    "            ax[i].scatter(downprojection[:, i+1], downprojection[:, 0], s=30, c=[palette[t] for t in target], alpha=0.7)\n",
    "            ax[i].set(xlabel=labels[i+1]) \n"
   ]
  },
  {
   "cell_type": "markdown",
   "metadata": {},
   "source": [
    "**Interpretation:**\n",
    "\n",
    "\n",
    "* PCA\n",
    "  * Forms some visible clusters (e.g. Running, Walking and Cycling, Yoga and Breathwork), however the datapoints are very close to each other and the clusters are overlapping.\n",
    "\n",
    "* MDS\n",
    "  * Compared to PCA the samples in MDS are clustered better, but still the clusters are not easily separable.\n",
    "  \n",
    "* ICA\n",
    "  * The datapoints have a little more space between each other compared to MDS.\n",
    "  * Similar activities such as Walking and Running are clustered together.\n",
    "\n",
    "* UMAP\n",
    "  * UMAP separates clusters really well from each other compared to other downprojections.\n",
    "  * Some datapoints lie within clusters of different activities, for example some Running points in Walking, some Strength points in Cycling and some Yoga points in Breathwork.\n",
    "  * Also, Breathwork points form 3 different main clusters.\n",
    "\n",
    "* t-SNE\n",
    "  * Only works with a number of components = 3.\n",
    "  * Similar to MDS, but datapoints are more separated.\n",
    "  \n",
    "It can be concluded that Walking and Running are the most obvious clusters in all algorithms, however this may be due to the fact that there's a disbalance in the distribution in activities and these activities make up a big part of the dataset. Overall, the UMAP method gives the most clearly separable clusters, although even there are some observable outliers."
   ]
  },
  {
   "cell_type": "markdown",
   "metadata": {},
   "source": [
    "## 5. Clustering Algorithms\n",
    "The following clustering algorithms are available to choose from:\n",
    "\n",
    "* Spectral clustering: performs a low-dimension embedding of the affinity matrix between samples, followed by clustering, e.g., by KMeans, of the components of the eigenvectors in the low dimensional space.\n",
    "\n",
    "* Hierarchical clustering: a general family of clustering algorithms that build nested clusters by merging or splitting them successively. \n",
    "    * Ward: minimizes the sum of squared differences within all clusters.\n",
    "    * Complete linkage: minimizes the maximum distance between observations of pairs of clusters.\n",
    "    * Average linkage: minimizes the average of the distances between all observations of pairs of clusters.\n",
    "    * Single linkage: minimizes the distance between the closest observations of pairs of clusters.\n",
    "\n",
    "\n",
    "* DBSCAN: views clusters as areas of high density separated by areas of low density. CLusters can be of differnt shape \n",
    "\n",
    "\n",
    "* Birch: It is a memory-efficient, online-learning algorithm provided as an alternative to MiniBatchKMeans. It constructs a tree data structure with the cluster centroids being read off the leaf. These can be either the final cluster centroids or can be provided as input to another clustering algorithm such as AgglomerativeClustering.\n"
   ]
  },
  {
   "cell_type": "code",
   "execution_count": 14,
   "metadata": {},
   "outputs": [
    {
     "data": {
      "text/markdown": [
       "<br>**Choose clustering algorithm and parameters.**"
      ],
      "text/plain": [
       "<IPython.core.display.Markdown object>"
      ]
     },
     "metadata": {},
     "output_type": "display_data"
    },
    {
     "data": {
      "application/vnd.jupyter.widget-view+json": {
       "model_id": "b46ca5eb966f4213bf3bfb907611760d",
       "version_major": 2,
       "version_minor": 0
      },
      "text/plain": [
       "interactive(children=(Dropdown(description='model', options=('Spectral Clustering', 'Hierarchical Clustering',…"
      ]
     },
     "metadata": {},
     "output_type": "display_data"
    }
   ],
   "source": [
    "printmd('<br>**Choose clustering algorithm and parameters.**')\n",
    "df = pd.DataFrame(downprojection, columns=labels)\n",
    "df[['activity_type', 'Date']] = cleaned_data[['Activity Type', 'Date']]\n",
    "attributes = cleaned_data.columns.drop(['Activity Type', 'Date', 'Target', 'Avg Stride Length', 'Best Lap Time', 'Number of Laps'])\n",
    "df[attributes] = cleaned_data[attributes]\n",
    "# Shorten attribute names\n",
    "df.columns = [i.replace('Run ', '').replace('ence', '') for i in df.columns]\n",
    "attributes = [i.replace('Run ', '').replace('ence', '') for i in attributes]\n",
    "instance = 'Place holder' # place holder for the clustering instance\n",
    "\n",
    "def drawplot(m,**kwargs):\n",
    "    global instance\n",
    "    if m=='K-means':\n",
    "        instance = KMeans(**kwargs)\n",
    "    if m=='Affinity propagation':\n",
    "        instance = AffinityPropagation(**kwargs)\n",
    "    #if m=='Mean Shift':\n",
    "        #instance = MeanShift(**kwargs)\n",
    "    if m=='Spectral Clustering':\n",
    "        instance = SpectralClustering(**kwargs)\n",
    "    if m=='Hierarchical Clustering':\n",
    "        instance = AgglomerativeClustering(**kwargs)\n",
    "    if m=='DBSCAN':\n",
    "        instance = DBSCAN(**kwargs)\n",
    "    if m=='OPTICS':\n",
    "        instance = OPTICS(**kwargs)\n",
    "    if m=='Birch':\n",
    "        instance=Birch(**kwargs)\n",
    "        \n",
    "    printmd(\"<br>**Filter by prediction label:**<br>Click on the legend elements (multiple elements can be selected with shift pressed and mouse clicks).\")\n",
    "    #printmd(\"Click on the legend elements (multiple elements can be selected with shift pressed and mouse clicks).\")\n",
    "    printmd(\"**Filter by target (activity type):**<br>Click on the respective bars in the bar chart.\")\n",
    "    printmd(\"Select **specific points** by brushing in cluster chart.\")\n",
    "        \n",
    "    clusters_assignment = instance.fit_predict(downprojection_data)\n",
    "    df['prediction'] = clusters_assignment+1\n",
    "    df['target'] = target\n",
    "    palette_target = specify_palette_altair(activities)\n",
    "    palette_prediction = specify_palette_altair(np.unique(clusters_assignment+1))\n",
    "    \n",
    "    def define_selections():\n",
    "        brush = alt.selection_interval()\n",
    "        prediction = alt.selection_multi(fields=['prediction'], bind='legend')\n",
    "        target = alt.selection_multi(fields=['activity_type'])\n",
    "        return brush, prediction, target\n",
    "    \n",
    "    def scatter_plot(df):\n",
    "        chart = alt.Chart(df).mark_circle().encode(\n",
    "        y = alt.Y('X1', scale = alt.Scale(domain=[df['X1'].min(), df['X1'].max()])), \n",
    "        color = alt.condition(brush, 'prediction:N', \n",
    "                              alt.value('lightgray'), \n",
    "                              scale=palette_prediction,\n",
    "                              legend = alt.Legend(symbolSize=400, orient=\"top\", title=\"prediction\", values=np.unique(clusters_assignment+1))),\n",
    "        tooltip=['Date']\n",
    "        ).properties(\n",
    "            width=380,\n",
    "            height=300,\n",
    "            title=\"Cluster Chart\"\n",
    "        ).add_selection(brush, prediction_selection, target_selection\n",
    "        ).transform_filter(prediction_selection\n",
    "        ).transform_filter(target_selection\n",
    "        )\n",
    "        return chart\n",
    "\n",
    "    def bar_chart():\n",
    "        chart = alt.Chart(df).mark_bar(size=20).encode(\n",
    "            y = alt.Y('activity_type:N', title='target'),\n",
    "            x = alt.X('count()'),\n",
    "            color = alt.condition(target_selection, 'prediction:N', \n",
    "                                  alt.value('lightgray'), \n",
    "                                  legend=None)\n",
    "        ).properties(\n",
    "            width=380,\n",
    "            height=300,\n",
    "            title=\"Bar Chart: Target vs. Prediction\"\n",
    "        ).transform_filter(brush\n",
    "        ).transform_filter(prediction_selection\n",
    "        ).add_selection(target_selection)\n",
    "        return chart\n",
    "    \n",
    "    def get_heatmap_data():\n",
    "        df_hm = df.groupby(['target','prediction']).size().reset_index().rename(columns={0:'count'})        \n",
    "        target_counts = df.groupby('target').count()['prediction']\n",
    "        df_hm['target_counts'] = np.take(np.array(list((target_counts))), list(df_hm['target']))\n",
    "        df_hm['percentage'] = df_hm['count'] / df_hm['target_counts'] * 100\n",
    "        df_hm['target'] = data.decoder(df_hm['target'])\n",
    "        \n",
    "        \n",
    "        return df_hm\n",
    "    \n",
    "    def jitterplot(attribute):\n",
    "        chart = alt.Chart(df, width=50).mark_circle(opacity=0.7).encode(\n",
    "        x=alt.X(\n",
    "            'jitter:Q',\n",
    "            title=attribute,\n",
    "            axis=alt.Axis(values=[0], ticks=True, grid=False, labels=False),\n",
    "            scale=alt.Scale()\n",
    "        ),\n",
    "        y=alt.Y(attribute + ':Q', \n",
    "                axis= alt.Axis(title=\"\", labelFontSize=8, tickCount=4)),\n",
    "        color = alt.condition(brush, 'prediction:N', \n",
    "                  alt.value('lightgray'), \n",
    "                  scale=palette_target,\n",
    "                  legend=None),\n",
    "        tooltip = 'Date'\n",
    "        ).transform_calculate(\n",
    "        jitter='sqrt(-2*log(random()))*cos(2*PI*random())'\n",
    "        ).transform_filter(prediction_selection\n",
    "        ).transform_filter(target_selection\n",
    "        ).interactive()\n",
    "        return chart\n",
    "    \n",
    "    def attribute_jitterplots():\n",
    "        charts = []\n",
    "        for attribute in attributes:\n",
    "            charts.append(jitterplot(attribute))\n",
    "        return charts\n",
    "        \n",
    "    \n",
    "    brush, prediction_selection, target_selection = define_selections()\n",
    "    chart = scatter_plot(df)\n",
    "    bar = bar_chart()\n",
    "    jitter = attribute_jitterplots()\n",
    "    scatter = chart.encode(alt.X('X2', scale=alt.Scale(domain=[df['X2'].min(), df['X2'].max()])))\n",
    "    x =  (scatter | bar) & alt.hconcat(jitter[0],jitter[1],jitter[2],jitter[3],jitter[4],jitter[5],jitter[6],jitter[7],jitter[8],jitter[9],jitter[10],jitter[11], spacing=2)\n",
    "    return x\n",
    "\n",
    "@widgets.interact(model = ['Spectral Clustering','Hierarchical Clustering','DBSCAN','Birch'])\n",
    "def plotter(model):\n",
    "    try:\n",
    "        if model =='Spectral Clustering':\n",
    "            plot = widgets.interact_manual(drawplot, m=model,n_clusters=(1,10), n_components = (0,10),random_state=[123,24,42],n_init=(0,100),gamma=(0.,1.),affinity='nearest_neighbors',n_neighbors=(27,100),assign_labels=['kmeans', 'discretize'])\n",
    "        if model=='Hierarchical Clustering':\n",
    "            plot = widgets.interact_manual(drawplot, m=model, n_clusters=(1,10), affinity=['euclidean','l1','l2','manhattan','cosine'],linkage=['complete', 'average', 'single'])\n",
    "        if model =='DBSCAN':\n",
    "            plot = widgets.interact_manual(drawplot, m=model, eps=(0.0,1.0), min_samples=(2,10), algorithm=['auto', 'ball_tree', 'kd_tree', 'brute'],leaf_size = (0,60),p=[None,0.0,0.2,0.4,0.6,0.8,1.0])\n",
    "        if model =='Birch':\n",
    "            plot = widgets.interact_manual(drawplot, m=model, threshold=(0.,1.), branching_factor= (1,100), n_clusters=(1,10))\n",
    "    except:\n",
    "        print('Parameter selection not valid')\n",
    "        plot = 'Placeholder'\n",
    "    plot"
   ]
  },
  {
   "cell_type": "markdown",
   "metadata": {},
   "source": [
    "#### Aim:\n",
    "\n",
    "With the help of this dashboard the user can explore the best clustering algorithm and parameter configuration.\n",
    "All graphs in the dashboard are color-coded according to the result of the chosen clustering algorithm.\n",
    "\n",
    "In the **cluster chart**, the user can see the two main axes of the respective downprojection that he chose above in the dimensionality reduction settings. He can visually compare observable clusters with the clustering results of the algorithm.\n",
    "\n",
    "The **bar chart** corresponds to the bar chart that has already been presented in the statistics section above, showing the frequency of the respective target activities. The difference to the bar chart above is that the colors match the cluster predictions here, which gives the user an indication how \"purely\" the targets have been identified. A homogenously colored bar indicates that the respective target has been mainly put into one cluster.\n",
    "\n",
    "Finally, the **jitter graphs** below let the user explore the attributes again to find out potential reasons why certain data points have been put into certain clusters, with the help of the interactive connection between all charts in the dashboard.\n",
    "Again, these jitter plots correspond to the jitter plot in the statistics section, which makes it easier for the user because he does not have to adapt to a new chart style.\n"
   ]
  },
  {
   "cell_type": "markdown",
   "metadata": {},
   "source": [
    "#### Interpretation:\n",
    "Taking the user's perspective, this exploration aims to identify the optimal clustering algorithm.  Different downprojection methods (as mentioned earlier) and various clustering algorithms and settings are being tested to achieve uniform bars.\n",
    "The spectral clustering algorithm with n_clusters = 5 and n_neighbours = 27 emerges as the most promising. Therefore, the focus of the analysis lies on this clustering parameter configuration. The results differ slightly, depending on the chosen downprojection parameters, but overall they can be described as follows:\n",
    "\n",
    "* All **Breathwork** activities have been put into the same (**red**) cluster, meaning that the algorithm could recognize very well that they belong together. Gym activities have also been put into the Breathwork cluster, as well as a few Running, Yoga and Strength activities.\n",
    "* **Cardio, Cycling and Strength** have mostly all been put into the same (**green**) cluster, meaning that the algorithm couldn't distinguish these activities well from each other. However, since all three bars are fairly homogenously green, at least they have been recognized to belong together.\n",
    "* The **Walking** bar is perfectly homogenously **blue**. Some running activities have also been put into the blue walking cluster.\n",
    "* Most of the **Yoga** activities have been put into an own **orange** cluster, some are in the red Breathwork cluster.\n",
    "* **Swimming** (which has only little data points) has been halfly put into the blue Walking cluster, halfly into the green Cardio/Cycling/Strength cluster.\n",
    "Since Swimming only has such few datapoints and has been clustered so ambiguously, we are not going to take it into consideration for our analysis.\n",
    "* Finally, the most interesting bar: About 70% of the **Running** activities have gotten their own **purple** cluster, but the rest has been classified into the Walking (blue) and interestingly into the Breathwork (red) cluster.\n",
    "\n",
    "Summary of the clustering results:\n",
    "* **red: Breathwork**\n",
    "* **green: Cardio, Cycling or Strength**\n",
    "* **blue: Walking**\n",
    "* **orange: Yoga**\n",
    "* **purple: Running**\n",
    "\n",
    "Having observed the clustering outcomes, attention shifts to analyzing the reasons for the algorithm's classification inaccuracies. This involves utilizing attribute jitter plots to address two specific classification issues:\n",
    "\n",
    "**1. Different activities that have been classified into one.**\n",
    "\n",
    "**Cardio, Cycling and Strength** have all been classified within the green main cluster.\n",
    "To investigate potential reasons, attention is narrowed down to this cluster. Selecting it in the cluster chart (effective with UMAP downprojection) facilitates this. Now the similarities between Cardio and\n",
    "Strength are explored by selecting them in the bar chart.\n",
    "It is observable that the attributes for these two targets are very similar to each other. Also it can be seen that these activities don't have values for the attributes \"Cadence\", \"Pace\" and \"Elevation Gain / Loss\".\n",
    "This adds an even stronger similarity because the missing values are set to zeros in the downprojection data preprocessing.\n",
    "\n",
    "\n",
    "**2. Activities where the major part of data points have been put into one cluster, but some have been put into different ones.**\n",
    "\n",
    "There are three targets that have not been homogenously identified into clusters:\n",
    "\n",
    "* **Yoga** <br>\n",
    "Yoga has been identified mostly as orange but also partly as red, which is the main cluster of Breathwork. This makes sense, since in the cluster chart as well as in the attribute plots the data points of yoga and breathwork are at very similar positions and flowingly merge into each other. They are hard to separate.\n",
    "\n",
    "\n",
    "* **Strength** <br>\n",
    "Strength has also partly been recognized as Breathwork. To observe the reasons for that, the dashboard is filtered for target activity = \"Strength\" by clicking on the \"Strength\" bar in the bar chart.\n",
    "Now mainly green and some red (=Breathwork) points can be observed in the attribute chart. It is striking that the red, misclassified points have three things in common: As opposed to the green points, the red points\n",
    "all have a considerably lower Max and Avg HR, and also the time is at almost zero.\n",
    "This suggests that these activities have been started and stopped right afterwards, maybe by mistakenly pushing a button on the watch or false automatic activity recognition of the watch.\n",
    "\n",
    "\n",
    "* **Running** <br>\n",
    "Running has been classified as partly Walking, and partly Breathwork as well.\n",
    "By filtering by the target \"Running\", it can be seen that the blue (as \"Walking\" classified) points vary significantly from the purple (main Running class) points for most of the attributes (\"Distance\", \"Calories\",\n",
    "\"Time\",\n",
    "\"HR\", \"Cadence\" and \"Pace\").\n",
    "By adding an additional target filter for \"Walking\", it can be seen that the misclassified blue running points all fall into the range where the target Walking data points are situated.\n",
    "It is also noticeable again that the time is very low, as well as the distance. This raises the theory that the watch has accidentally identified short walks as runs. Similarly as in \"Strength\", it could have started an activity recording but stopped right afterwards when the misclassification was recognized.\n",
    "<br>\n",
    "When inspecting the other misclassified points, the red ones, it is remarkable that as opposed to the correctly classified datapoints, they don't have any data entries for the attributes \"Calories\", \"HR\" and \"Cadence\". This seems rather obscure, since these are key metrics for Running. Observing the respective dates of the red datapoints (still filtered by target Running) by tooltip, it can be discovered that all these datapoints have been generated between November 2019 and February 2020. This raises the suspicion that there was maybe a bug in the running app of the watch during this time period, or maybe something in the settings, that prevented these metrics from being recorded. Since missing data has been set to zero for the downprojection, the clustering algorithms classifies these datapoints as Breathwork, were the \"Calories\" and \"Cadence\" attributes are also either nan or 0.\n"
   ]
  },
  {
   "cell_type": "markdown",
   "metadata": {},
   "source": [
    "## 6. Conclusion\n",
    "\n",
    "The created dashboard proves valuable for observing varied clustering algorithm results. Users can adjust parameters to identify optimal clustering configurations. Additionally, the dashboard aids in detecting data\n",
    "anomalies and potential misclassification causes. Notably, in certain cases like \"Strength\" and \"Running\", the chosen clustering configuration might outperform the inherent clustering of the fitness watch."
   ]
  },
  {
   "cell_type": "code",
   "execution_count": null,
   "metadata": {},
   "outputs": [],
   "source": []
  }
 ],
 "metadata": {
  "kernelspec": {
   "display_name": "Python 3",
   "language": "python",
   "name": "python3"
  },
  "language_info": {
   "codemirror_mode": {
    "name": "ipython",
    "version": 3
   },
   "file_extension": ".py",
   "mimetype": "text/x-python",
   "name": "python",
   "nbconvert_exporter": "python",
   "pygments_lexer": "ipython3",
   "version": "3.8.6"
  }
 },
 "nbformat": 4,
 "nbformat_minor": 4
}